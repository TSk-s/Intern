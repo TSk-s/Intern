{
 "cells": [
  {
   "cell_type": "markdown",
   "metadata": {},
   "source": [
    "# Kickstarter Projects"
   ]
  },
  {
   "cell_type": "markdown",
   "metadata": {},
   "source": [
    "## 目的\n",
    "**プロジェクトのカテゴリや最終的に集めたい金額などからクラウドファンディングが成功するかどうかを予測する**"
   ]
  },
  {
   "cell_type": "markdown",
   "metadata": {},
   "source": [
    "## Kaggle\n",
    "https://www.kaggle.com/kemical/kickstarter-projects"
   ]
  },
  {
   "cell_type": "markdown",
   "metadata": {},
   "source": [
    "# データセットの確認"
   ]
  },
  {
   "cell_type": "markdown",
   "metadata": {},
   "source": [
    "## データの読み込み"
   ]
  },
  {
   "cell_type": "code",
   "execution_count": 2,
   "metadata": {},
   "outputs": [],
   "source": [
    "import pandas as pd\n",
    "import numpy as np\n",
    "import matplotlib.pyplot as plt\n",
    "import seaborn as sns\n",
    "from sklearn.linear_model import LogisticRegression\n",
    "from sklearn.preprocessing import LabelEncoder\n",
    "import datetime"
   ]
  },
  {
   "cell_type": "code",
   "execution_count": 3,
   "metadata": {},
   "outputs": [
    {
     "data": {
      "text/html": [
       "<div>\n",
       "<style scoped>\n",
       "    .dataframe tbody tr th:only-of-type {\n",
       "        vertical-align: middle;\n",
       "    }\n",
       "\n",
       "    .dataframe tbody tr th {\n",
       "        vertical-align: top;\n",
       "    }\n",
       "\n",
       "    .dataframe thead th {\n",
       "        text-align: right;\n",
       "    }\n",
       "</style>\n",
       "<table border=\"1\" class=\"dataframe\">\n",
       "  <thead>\n",
       "    <tr style=\"text-align: right;\">\n",
       "      <th></th>\n",
       "      <th>ID</th>\n",
       "      <th>name</th>\n",
       "      <th>category</th>\n",
       "      <th>main_category</th>\n",
       "      <th>currency</th>\n",
       "      <th>deadline</th>\n",
       "      <th>goal</th>\n",
       "      <th>launched</th>\n",
       "      <th>pledged</th>\n",
       "      <th>state</th>\n",
       "      <th>backers</th>\n",
       "      <th>country</th>\n",
       "      <th>usd pledged</th>\n",
       "      <th>usd_pledged_real</th>\n",
       "      <th>usd_goal_real</th>\n",
       "    </tr>\n",
       "  </thead>\n",
       "  <tbody>\n",
       "    <tr>\n",
       "      <th>0</th>\n",
       "      <td>1000002330</td>\n",
       "      <td>The Songs of Adelaide &amp; Abullah</td>\n",
       "      <td>Poetry</td>\n",
       "      <td>Publishing</td>\n",
       "      <td>GBP</td>\n",
       "      <td>2015-10-09</td>\n",
       "      <td>1000.0</td>\n",
       "      <td>2015-08-11 12:12:28</td>\n",
       "      <td>0.0</td>\n",
       "      <td>failed</td>\n",
       "      <td>0</td>\n",
       "      <td>GB</td>\n",
       "      <td>0.0</td>\n",
       "      <td>0.0</td>\n",
       "      <td>1533.95</td>\n",
       "    </tr>\n",
       "    <tr>\n",
       "      <th>1</th>\n",
       "      <td>1000003930</td>\n",
       "      <td>Greeting From Earth: ZGAC Arts Capsule For ET</td>\n",
       "      <td>Narrative Film</td>\n",
       "      <td>Film &amp; Video</td>\n",
       "      <td>USD</td>\n",
       "      <td>2017-11-01</td>\n",
       "      <td>30000.0</td>\n",
       "      <td>2017-09-02 04:43:57</td>\n",
       "      <td>2421.0</td>\n",
       "      <td>failed</td>\n",
       "      <td>15</td>\n",
       "      <td>US</td>\n",
       "      <td>100.0</td>\n",
       "      <td>2421.0</td>\n",
       "      <td>30000.00</td>\n",
       "    </tr>\n",
       "    <tr>\n",
       "      <th>2</th>\n",
       "      <td>1000004038</td>\n",
       "      <td>Where is Hank?</td>\n",
       "      <td>Narrative Film</td>\n",
       "      <td>Film &amp; Video</td>\n",
       "      <td>USD</td>\n",
       "      <td>2013-02-26</td>\n",
       "      <td>45000.0</td>\n",
       "      <td>2013-01-12 00:20:50</td>\n",
       "      <td>220.0</td>\n",
       "      <td>failed</td>\n",
       "      <td>3</td>\n",
       "      <td>US</td>\n",
       "      <td>220.0</td>\n",
       "      <td>220.0</td>\n",
       "      <td>45000.00</td>\n",
       "    </tr>\n",
       "    <tr>\n",
       "      <th>3</th>\n",
       "      <td>1000007540</td>\n",
       "      <td>ToshiCapital Rekordz Needs Help to Complete Album</td>\n",
       "      <td>Music</td>\n",
       "      <td>Music</td>\n",
       "      <td>USD</td>\n",
       "      <td>2012-04-16</td>\n",
       "      <td>5000.0</td>\n",
       "      <td>2012-03-17 03:24:11</td>\n",
       "      <td>1.0</td>\n",
       "      <td>failed</td>\n",
       "      <td>1</td>\n",
       "      <td>US</td>\n",
       "      <td>1.0</td>\n",
       "      <td>1.0</td>\n",
       "      <td>5000.00</td>\n",
       "    </tr>\n",
       "    <tr>\n",
       "      <th>4</th>\n",
       "      <td>1000011046</td>\n",
       "      <td>Community Film Project: The Art of Neighborhoo...</td>\n",
       "      <td>Film &amp; Video</td>\n",
       "      <td>Film &amp; Video</td>\n",
       "      <td>USD</td>\n",
       "      <td>2015-08-29</td>\n",
       "      <td>19500.0</td>\n",
       "      <td>2015-07-04 08:35:03</td>\n",
       "      <td>1283.0</td>\n",
       "      <td>canceled</td>\n",
       "      <td>14</td>\n",
       "      <td>US</td>\n",
       "      <td>1283.0</td>\n",
       "      <td>1283.0</td>\n",
       "      <td>19500.00</td>\n",
       "    </tr>\n",
       "  </tbody>\n",
       "</table>\n",
       "</div>"
      ],
      "text/plain": [
       "           ID                                               name  \\\n",
       "0  1000002330                    The Songs of Adelaide & Abullah   \n",
       "1  1000003930      Greeting From Earth: ZGAC Arts Capsule For ET   \n",
       "2  1000004038                                     Where is Hank?   \n",
       "3  1000007540  ToshiCapital Rekordz Needs Help to Complete Album   \n",
       "4  1000011046  Community Film Project: The Art of Neighborhoo...   \n",
       "\n",
       "         category main_category currency    deadline     goal  \\\n",
       "0          Poetry    Publishing      GBP  2015-10-09   1000.0   \n",
       "1  Narrative Film  Film & Video      USD  2017-11-01  30000.0   \n",
       "2  Narrative Film  Film & Video      USD  2013-02-26  45000.0   \n",
       "3           Music         Music      USD  2012-04-16   5000.0   \n",
       "4    Film & Video  Film & Video      USD  2015-08-29  19500.0   \n",
       "\n",
       "              launched  pledged     state  backers country  usd pledged  \\\n",
       "0  2015-08-11 12:12:28      0.0    failed        0      GB          0.0   \n",
       "1  2017-09-02 04:43:57   2421.0    failed       15      US        100.0   \n",
       "2  2013-01-12 00:20:50    220.0    failed        3      US        220.0   \n",
       "3  2012-03-17 03:24:11      1.0    failed        1      US          1.0   \n",
       "4  2015-07-04 08:35:03   1283.0  canceled       14      US       1283.0   \n",
       "\n",
       "   usd_pledged_real  usd_goal_real  \n",
       "0               0.0        1533.95  \n",
       "1            2421.0       30000.00  \n",
       "2             220.0       45000.00  \n",
       "3               1.0        5000.00  \n",
       "4            1283.0       19500.00  "
      ]
     },
     "execution_count": 3,
     "metadata": {},
     "output_type": "execute_result"
    }
   ],
   "source": [
    "# 分析用データとして ks-projects-201801.csv のみを用いる\n",
    "data = pd.read_csv('./ks-projects-201801.csv' )\n",
    "\n",
    "data.head()"
   ]
  },
  {
   "cell_type": "markdown",
   "metadata": {},
   "source": [
    "## 各列の説明\n",
    "\n",
    "参考) : <br>\n",
    "https://kickstarternavi.jp/tips/196/<br>\n",
    "\n",
    "https://help.kickstarter.com/hc/ja/articles/115005028514-Kickstarter-%E3%81%AE%E5%9F%BA%E6%9C%AC%E3%81%A8%E3%81%AF%E3%81%AA%E3%82%93%E3%81%A7%E3%81%99%E3%81%8B-"
   ]
  },
  {
   "cell_type": "markdown",
   "metadata": {},
   "source": [
    "| 列名 | 説明 |\n",
    "|:--:|:--:|\n",
    "|　ID　|　識別番号　|\n",
    "| name | クラウドファンディングのプロジェクト名 |\n",
    "| category | カテゴリー |\n",
    "| main_category | おおまかなカテゴリー |\n",
    "| currency | 支援に必要な通貨 |\n",
    "| deadline | クラウドファンディングの締め切り日 |\n",
    "| goal | 集めたい金額 |\n",
    "| launched | クラウドファンディングの開始日時 |\n",
    "| pledged | 最終的に集まった支援金額 |\n",
    "| state | 成功したかどうか　(今回の目的変数) |\n",
    "| backers | 支援者の人数 |\n",
    "| country | 募集側の国名 |\n",
    "| usd pledged | 最終的に集まった支援金額(USドル, Kickstarterが掲載している金額) |\n",
    "| usd_pledged_real | 最終的に集まった支援金額(USドル, Fixer.io APIによって計算した金額) |\n",
    "| usd_goal_real | 集めたい金額(USドル) |"
   ]
  },
  {
   "cell_type": "markdown",
   "metadata": {},
   "source": [
    "今回は成功するかどうかを予測するモデルを作りたいので，目的変数は **state** である．<br>\n",
    "また予測はクラウドファンディングの募集開始前に行うので，\n",
    "- pledged\n",
    "- backers\n",
    "- usd pledged\n",
    "- usd_pledged_real\n",
    "\n",
    "は説明変数として用いないものとする．\n",
    "\n",
    "さらに\n",
    "- IDはただの識別番号であり，予測に使用できるものではない点\n",
    "- nameにも多くの情報は含まれているが，一つ一つが異なり扱いが非常に難しい点\n",
    "\n",
    "からID, nameについても説明変数としては用いないものとする．"
   ]
  },
  {
   "cell_type": "code",
   "execution_count": 4,
   "metadata": {},
   "outputs": [
    {
     "data": {
      "text/html": [
       "<div>\n",
       "<style scoped>\n",
       "    .dataframe tbody tr th:only-of-type {\n",
       "        vertical-align: middle;\n",
       "    }\n",
       "\n",
       "    .dataframe tbody tr th {\n",
       "        vertical-align: top;\n",
       "    }\n",
       "\n",
       "    .dataframe thead th {\n",
       "        text-align: right;\n",
       "    }\n",
       "</style>\n",
       "<table border=\"1\" class=\"dataframe\">\n",
       "  <thead>\n",
       "    <tr style=\"text-align: right;\">\n",
       "      <th></th>\n",
       "      <th>category</th>\n",
       "      <th>main_category</th>\n",
       "      <th>currency</th>\n",
       "      <th>deadline</th>\n",
       "      <th>goal</th>\n",
       "      <th>launched</th>\n",
       "      <th>state</th>\n",
       "      <th>country</th>\n",
       "      <th>usd_goal_real</th>\n",
       "    </tr>\n",
       "  </thead>\n",
       "  <tbody>\n",
       "    <tr>\n",
       "      <th>0</th>\n",
       "      <td>Poetry</td>\n",
       "      <td>Publishing</td>\n",
       "      <td>GBP</td>\n",
       "      <td>2015-10-09</td>\n",
       "      <td>1000.0</td>\n",
       "      <td>2015-08-11 12:12:28</td>\n",
       "      <td>failed</td>\n",
       "      <td>GB</td>\n",
       "      <td>1533.95</td>\n",
       "    </tr>\n",
       "    <tr>\n",
       "      <th>1</th>\n",
       "      <td>Narrative Film</td>\n",
       "      <td>Film &amp; Video</td>\n",
       "      <td>USD</td>\n",
       "      <td>2017-11-01</td>\n",
       "      <td>30000.0</td>\n",
       "      <td>2017-09-02 04:43:57</td>\n",
       "      <td>failed</td>\n",
       "      <td>US</td>\n",
       "      <td>30000.00</td>\n",
       "    </tr>\n",
       "    <tr>\n",
       "      <th>2</th>\n",
       "      <td>Narrative Film</td>\n",
       "      <td>Film &amp; Video</td>\n",
       "      <td>USD</td>\n",
       "      <td>2013-02-26</td>\n",
       "      <td>45000.0</td>\n",
       "      <td>2013-01-12 00:20:50</td>\n",
       "      <td>failed</td>\n",
       "      <td>US</td>\n",
       "      <td>45000.00</td>\n",
       "    </tr>\n",
       "    <tr>\n",
       "      <th>3</th>\n",
       "      <td>Music</td>\n",
       "      <td>Music</td>\n",
       "      <td>USD</td>\n",
       "      <td>2012-04-16</td>\n",
       "      <td>5000.0</td>\n",
       "      <td>2012-03-17 03:24:11</td>\n",
       "      <td>failed</td>\n",
       "      <td>US</td>\n",
       "      <td>5000.00</td>\n",
       "    </tr>\n",
       "    <tr>\n",
       "      <th>4</th>\n",
       "      <td>Film &amp; Video</td>\n",
       "      <td>Film &amp; Video</td>\n",
       "      <td>USD</td>\n",
       "      <td>2015-08-29</td>\n",
       "      <td>19500.0</td>\n",
       "      <td>2015-07-04 08:35:03</td>\n",
       "      <td>canceled</td>\n",
       "      <td>US</td>\n",
       "      <td>19500.00</td>\n",
       "    </tr>\n",
       "  </tbody>\n",
       "</table>\n",
       "</div>"
      ],
      "text/plain": [
       "         category main_category currency    deadline     goal  \\\n",
       "0          Poetry    Publishing      GBP  2015-10-09   1000.0   \n",
       "1  Narrative Film  Film & Video      USD  2017-11-01  30000.0   \n",
       "2  Narrative Film  Film & Video      USD  2013-02-26  45000.0   \n",
       "3           Music         Music      USD  2012-04-16   5000.0   \n",
       "4    Film & Video  Film & Video      USD  2015-08-29  19500.0   \n",
       "\n",
       "              launched     state country  usd_goal_real  \n",
       "0  2015-08-11 12:12:28    failed      GB        1533.95  \n",
       "1  2017-09-02 04:43:57    failed      US       30000.00  \n",
       "2  2013-01-12 00:20:50    failed      US       45000.00  \n",
       "3  2012-03-17 03:24:11    failed      US        5000.00  \n",
       "4  2015-07-04 08:35:03  canceled      US       19500.00  "
      ]
     },
     "execution_count": 4,
     "metadata": {},
     "output_type": "execute_result"
    }
   ],
   "source": [
    "# dataから説明変数として用いない変数を消去\n",
    "data.drop(['ID', 'name', 'pledged', 'backers', 'usd pledged', 'usd_pledged_real'], axis=1, inplace=True)\n",
    "\n",
    "data.head()"
   ]
  },
  {
   "cell_type": "markdown",
   "metadata": {},
   "source": [
    "## 各列の代表値と欠損値"
   ]
  },
  {
   "cell_type": "code",
   "execution_count": 5,
   "metadata": {},
   "outputs": [
    {
     "data": {
      "text/html": [
       "<div>\n",
       "<style scoped>\n",
       "    .dataframe tbody tr th:only-of-type {\n",
       "        vertical-align: middle;\n",
       "    }\n",
       "\n",
       "    .dataframe tbody tr th {\n",
       "        vertical-align: top;\n",
       "    }\n",
       "\n",
       "    .dataframe thead th {\n",
       "        text-align: right;\n",
       "    }\n",
       "</style>\n",
       "<table border=\"1\" class=\"dataframe\">\n",
       "  <thead>\n",
       "    <tr style=\"text-align: right;\">\n",
       "      <th></th>\n",
       "      <th>goal</th>\n",
       "      <th>usd_goal_real</th>\n",
       "    </tr>\n",
       "  </thead>\n",
       "  <tbody>\n",
       "    <tr>\n",
       "      <th>count</th>\n",
       "      <td>3.786610e+05</td>\n",
       "      <td>3.786610e+05</td>\n",
       "    </tr>\n",
       "    <tr>\n",
       "      <th>mean</th>\n",
       "      <td>4.908079e+04</td>\n",
       "      <td>4.545440e+04</td>\n",
       "    </tr>\n",
       "    <tr>\n",
       "      <th>std</th>\n",
       "      <td>1.183391e+06</td>\n",
       "      <td>1.152950e+06</td>\n",
       "    </tr>\n",
       "    <tr>\n",
       "      <th>min</th>\n",
       "      <td>1.000000e-02</td>\n",
       "      <td>1.000000e-02</td>\n",
       "    </tr>\n",
       "    <tr>\n",
       "      <th>25%</th>\n",
       "      <td>2.000000e+03</td>\n",
       "      <td>2.000000e+03</td>\n",
       "    </tr>\n",
       "    <tr>\n",
       "      <th>50%</th>\n",
       "      <td>5.200000e+03</td>\n",
       "      <td>5.500000e+03</td>\n",
       "    </tr>\n",
       "    <tr>\n",
       "      <th>75%</th>\n",
       "      <td>1.600000e+04</td>\n",
       "      <td>1.550000e+04</td>\n",
       "    </tr>\n",
       "    <tr>\n",
       "      <th>max</th>\n",
       "      <td>1.000000e+08</td>\n",
       "      <td>1.663614e+08</td>\n",
       "    </tr>\n",
       "  </tbody>\n",
       "</table>\n",
       "</div>"
      ],
      "text/plain": [
       "               goal  usd_goal_real\n",
       "count  3.786610e+05   3.786610e+05\n",
       "mean   4.908079e+04   4.545440e+04\n",
       "std    1.183391e+06   1.152950e+06\n",
       "min    1.000000e-02   1.000000e-02\n",
       "25%    2.000000e+03   2.000000e+03\n",
       "50%    5.200000e+03   5.500000e+03\n",
       "75%    1.600000e+04   1.550000e+04\n",
       "max    1.000000e+08   1.663614e+08"
      ]
     },
     "execution_count": 5,
     "metadata": {},
     "output_type": "execute_result"
    }
   ],
   "source": [
    "# 量的変数の代表値を表示\n",
    "data.describe()"
   ]
  },
  {
   "cell_type": "code",
   "execution_count": 6,
   "metadata": {},
   "outputs": [
    {
     "data": {
      "text/plain": [
       "(378661, 9)"
      ]
     },
     "execution_count": 6,
     "metadata": {},
     "output_type": "execute_result"
    }
   ],
   "source": [
    "# データ数の確認\n",
    "data.shape"
   ]
  },
  {
   "cell_type": "markdown",
   "metadata": {},
   "source": [
    "goalとusd_goal_realの最小値が1ドルを切っている． $\\rightarrow$ 異常値の可能性があるので要確認<br>\n",
    "goalの平均額が第三四分位数よりも大きくなっている． $\\rightarrow$ goalの分布は高額なものがかなり少ないと予想"
   ]
  },
  {
   "cell_type": "code",
   "execution_count": 7,
   "metadata": {},
   "outputs": [
    {
     "data": {
      "text/plain": [
       "category         0\n",
       "main_category    0\n",
       "currency         0\n",
       "deadline         0\n",
       "goal             0\n",
       "launched         0\n",
       "state            0\n",
       "country          0\n",
       "usd_goal_real    0\n",
       "dtype: int64"
      ]
     },
     "execution_count": 7,
     "metadata": {},
     "output_type": "execute_result"
    }
   ],
   "source": [
    "# dataの欠損値確認\n",
    "data.isnull().sum()"
   ]
  },
  {
   "cell_type": "markdown",
   "metadata": {},
   "source": [
    "上記から今回用いるデータには欠損値がないことがわかるので，欠損値の補完は行わない．"
   ]
  },
  {
   "cell_type": "markdown",
   "metadata": {},
   "source": [
    "# 変数の分布の可視化"
   ]
  },
  {
   "cell_type": "markdown",
   "metadata": {},
   "source": [
    "ここでは変数の分布を可視化することで，異常値の探索とカテゴリ変数のカテゴリ数の削減を行う．"
   ]
  },
  {
   "cell_type": "markdown",
   "metadata": {},
   "source": [
    "## 目的変数の分布の可視化"
   ]
  },
  {
   "cell_type": "code",
   "execution_count": 8,
   "metadata": {
    "scrolled": false
   },
   "outputs": [
    {
     "data": {
      "image/png": "[encoded data removed]",
      "text/plain": [
       "<Figure size 720x720 with 1 Axes>"
      ]
     },
     "metadata": {
      "needs_background": "light"
     },
     "output_type": "display_data"
    }
   ],
   "source": [
    "plt.figure(figsize=(10, 10))\n",
    "sns.countplot(x='state', data=data)\n",
    "plt.tight_layout()"
   ]
  },
  {
   "cell_type": "code",
   "execution_count": 9,
   "metadata": {},
   "outputs": [
    {
     "data": {
      "text/plain": [
       "failed        197719\n",
       "successful    133956\n",
       "canceled       38779\n",
       "undefined       3562\n",
       "live            2799\n",
       "suspended       1846\n",
       "Name: state, dtype: int64"
      ]
     },
     "execution_count": 9,
     "metadata": {},
     "output_type": "execute_result"
    }
   ],
   "source": [
    "data['state'].value_counts()"
   ]
  },
  {
   "cell_type": "code",
   "execution_count": 10,
   "metadata": {},
   "outputs": [
    {
     "name": "stdout",
     "output_type": "stream",
     "text": [
      "クラウドファンディングの成功率 : 0.3537623362321443\n"
     ]
    }
   ],
   "source": [
    "data_successful = data['state']=='successful'\n",
    "print(f'クラウドファンディングの成功率 : {data_successful.sum() / data.shape[0]}')"
   ]
  },
  {
   "cell_type": "code",
   "execution_count": 11,
   "metadata": {},
   "outputs": [
    {
     "name": "stdout",
     "output_type": "stream",
     "text": [
      "liveの割合 : 0.0073918359693763026\n",
      "liveのデータ数 : 2799\n"
     ]
    }
   ],
   "source": [
    "data_live = data['state']=='live'\n",
    "print(f'liveの割合 : {data_live.sum() / data.shape[0]}')\n",
    "print(f'liveのデータ数 : {data_live.sum()}')"
   ]
  },
  {
   "cell_type": "code",
   "execution_count": 12,
   "metadata": {},
   "outputs": [
    {
     "name": "stdout",
     "output_type": "stream",
     "text": [
      "successful + failed : 0.8759153966212523\n"
     ]
    }
   ],
   "source": [
    "data_failed = data['state']=='failed'\n",
    "print(f'successful + failed : {(data_successful.sum() + data_failed.sum()) / data.shape[0]}')"
   ]
  },
  {
   "cell_type": "markdown",
   "metadata": {},
   "source": [
    "クラウドファンディングの成功率は35.38%と，半分以上は成功していないことがわかる．<br>\n",
    "successfulとfailedが全体の87.59%を占めていることがわかる．<br>\n",
    "また，全体の0.74%を占めるliveはまだクラウドファンディングを行っているデータであることもわかる．<br>\n",
    "今回はクラウドファンディングが成功するかどうかを予測したいので，liveは分析のデータから除外し，successful以外の4つのカテゴリについてはfailedとしてまとめて分析を行うものとする．"
   ]
  },
  {
   "cell_type": "code",
   "execution_count": 13,
   "metadata": {},
   "outputs": [
    {
     "data": {
      "text/html": [
       "<div>\n",
       "<style scoped>\n",
       "    .dataframe tbody tr th:only-of-type {\n",
       "        vertical-align: middle;\n",
       "    }\n",
       "\n",
       "    .dataframe tbody tr th {\n",
       "        vertical-align: top;\n",
       "    }\n",
       "\n",
       "    .dataframe thead th {\n",
       "        text-align: right;\n",
       "    }\n",
       "</style>\n",
       "<table border=\"1\" class=\"dataframe\">\n",
       "  <thead>\n",
       "    <tr style=\"text-align: right;\">\n",
       "      <th></th>\n",
       "      <th>category</th>\n",
       "      <th>main_category</th>\n",
       "      <th>currency</th>\n",
       "      <th>deadline</th>\n",
       "      <th>goal</th>\n",
       "      <th>launched</th>\n",
       "      <th>state</th>\n",
       "      <th>country</th>\n",
       "      <th>usd_goal_real</th>\n",
       "    </tr>\n",
       "  </thead>\n",
       "  <tbody>\n",
       "    <tr>\n",
       "      <th>0</th>\n",
       "      <td>Nonfiction</td>\n",
       "      <td>Publishing</td>\n",
       "      <td>CAD</td>\n",
       "      <td>2018-01-19</td>\n",
       "      <td>3000.0</td>\n",
       "      <td>2017-11-20 18:15:14</td>\n",
       "      <td>live</td>\n",
       "      <td>CA</td>\n",
       "      <td>2396.36</td>\n",
       "    </tr>\n",
       "    <tr>\n",
       "      <th>1</th>\n",
       "      <td>Thrillers</td>\n",
       "      <td>Film &amp; Video</td>\n",
       "      <td>USD</td>\n",
       "      <td>2018-02-06</td>\n",
       "      <td>5000.0</td>\n",
       "      <td>2017-12-23 20:34:31</td>\n",
       "      <td>live</td>\n",
       "      <td>US</td>\n",
       "      <td>5000.00</td>\n",
       "    </tr>\n",
       "    <tr>\n",
       "      <th>2</th>\n",
       "      <td>Horror</td>\n",
       "      <td>Film &amp; Video</td>\n",
       "      <td>GBP</td>\n",
       "      <td>2018-01-08</td>\n",
       "      <td>850.0</td>\n",
       "      <td>2017-12-21 11:19:18</td>\n",
       "      <td>live</td>\n",
       "      <td>GB</td>\n",
       "      <td>1159.38</td>\n",
       "    </tr>\n",
       "    <tr>\n",
       "      <th>3</th>\n",
       "      <td>Film &amp; Video</td>\n",
       "      <td>Film &amp; Video</td>\n",
       "      <td>USD</td>\n",
       "      <td>2018-02-16</td>\n",
       "      <td>2000.0</td>\n",
       "      <td>2017-12-18 02:48:27</td>\n",
       "      <td>live</td>\n",
       "      <td>US</td>\n",
       "      <td>2000.00</td>\n",
       "    </tr>\n",
       "    <tr>\n",
       "      <th>4</th>\n",
       "      <td>Illustration</td>\n",
       "      <td>Art</td>\n",
       "      <td>MXN</td>\n",
       "      <td>2018-01-06</td>\n",
       "      <td>1000.0</td>\n",
       "      <td>2017-12-21 05:34:12</td>\n",
       "      <td>live</td>\n",
       "      <td>MX</td>\n",
       "      <td>52.32</td>\n",
       "    </tr>\n",
       "    <tr>\n",
       "      <th>...</th>\n",
       "      <td>...</td>\n",
       "      <td>...</td>\n",
       "      <td>...</td>\n",
       "      <td>...</td>\n",
       "      <td>...</td>\n",
       "      <td>...</td>\n",
       "      <td>...</td>\n",
       "      <td>...</td>\n",
       "      <td>...</td>\n",
       "    </tr>\n",
       "    <tr>\n",
       "      <th>2794</th>\n",
       "      <td>Drama</td>\n",
       "      <td>Film &amp; Video</td>\n",
       "      <td>GBP</td>\n",
       "      <td>2018-01-25</td>\n",
       "      <td>1000.0</td>\n",
       "      <td>2017-12-26 17:04:29</td>\n",
       "      <td>live</td>\n",
       "      <td>GB</td>\n",
       "      <td>1363.98</td>\n",
       "    </tr>\n",
       "    <tr>\n",
       "      <th>2795</th>\n",
       "      <td>Shorts</td>\n",
       "      <td>Film &amp; Video</td>\n",
       "      <td>USD</td>\n",
       "      <td>2018-01-13</td>\n",
       "      <td>5800.0</td>\n",
       "      <td>2017-11-14 18:07:08</td>\n",
       "      <td>live</td>\n",
       "      <td>US</td>\n",
       "      <td>5800.00</td>\n",
       "    </tr>\n",
       "    <tr>\n",
       "      <th>2796</th>\n",
       "      <td>Indie Rock</td>\n",
       "      <td>Music</td>\n",
       "      <td>USD</td>\n",
       "      <td>2018-01-13</td>\n",
       "      <td>1500.0</td>\n",
       "      <td>2017-11-14 00:13:10</td>\n",
       "      <td>live</td>\n",
       "      <td>US</td>\n",
       "      <td>1500.00</td>\n",
       "    </tr>\n",
       "    <tr>\n",
       "      <th>2797</th>\n",
       "      <td>Music</td>\n",
       "      <td>Music</td>\n",
       "      <td>MXN</td>\n",
       "      <td>2018-01-04</td>\n",
       "      <td>300000.0</td>\n",
       "      <td>2017-11-20 02:52:28</td>\n",
       "      <td>live</td>\n",
       "      <td>MX</td>\n",
       "      <td>15490.27</td>\n",
       "    </tr>\n",
       "    <tr>\n",
       "      <th>2798</th>\n",
       "      <td>World Music</td>\n",
       "      <td>Music</td>\n",
       "      <td>DKK</td>\n",
       "      <td>2018-01-19</td>\n",
       "      <td>186037.0</td>\n",
       "      <td>2017-12-05 11:11:01</td>\n",
       "      <td>live</td>\n",
       "      <td>DK</td>\n",
       "      <td>30313.01</td>\n",
       "    </tr>\n",
       "  </tbody>\n",
       "</table>\n",
       "<p>2799 rows × 9 columns</p>\n",
       "</div>"
      ],
      "text/plain": [
       "          category main_category currency    deadline      goal  \\\n",
       "0       Nonfiction    Publishing      CAD  2018-01-19    3000.0   \n",
       "1        Thrillers  Film & Video      USD  2018-02-06    5000.0   \n",
       "2           Horror  Film & Video      GBP  2018-01-08     850.0   \n",
       "3     Film & Video  Film & Video      USD  2018-02-16    2000.0   \n",
       "4     Illustration           Art      MXN  2018-01-06    1000.0   \n",
       "...            ...           ...      ...         ...       ...   \n",
       "2794         Drama  Film & Video      GBP  2018-01-25    1000.0   \n",
       "2795        Shorts  Film & Video      USD  2018-01-13    5800.0   \n",
       "2796    Indie Rock         Music      USD  2018-01-13    1500.0   \n",
       "2797         Music         Music      MXN  2018-01-04  300000.0   \n",
       "2798   World Music         Music      DKK  2018-01-19  186037.0   \n",
       "\n",
       "                 launched state country  usd_goal_real  \n",
       "0     2017-11-20 18:15:14  live      CA        2396.36  \n",
       "1     2017-12-23 20:34:31  live      US        5000.00  \n",
       "2     2017-12-21 11:19:18  live      GB        1159.38  \n",
       "3     2017-12-18 02:48:27  live      US        2000.00  \n",
       "4     2017-12-21 05:34:12  live      MX          52.32  \n",
       "...                   ...   ...     ...            ...  \n",
       "2794  2017-12-26 17:04:29  live      GB        1363.98  \n",
       "2795  2017-11-14 18:07:08  live      US        5800.00  \n",
       "2796  2017-11-14 00:13:10  live      US        1500.00  \n",
       "2797  2017-11-20 02:52:28  live      MX       15490.27  \n",
       "2798  2017-12-05 11:11:01  live      DK       30313.01  \n",
       "\n",
       "[2799 rows x 9 columns]"
      ]
     },
     "execution_count": 13,
     "metadata": {},
     "output_type": "execute_result"
    }
   ],
   "source": [
    "# 最後にliveの予測を行うため，stateがliveのデータをdata_live_onlyとして保持\n",
    "data_live_only = data[data['state']=='live']\n",
    "data_live_only = data_live_only.reset_index(drop=True)\n",
    "data_live_only"
   ]
  },
  {
   "cell_type": "code",
   "execution_count": 14,
   "metadata": {},
   "outputs": [
    {
     "data": {
      "text/html": [
       "<div>\n",
       "<style scoped>\n",
       "    .dataframe tbody tr th:only-of-type {\n",
       "        vertical-align: middle;\n",
       "    }\n",
       "\n",
       "    .dataframe tbody tr th {\n",
       "        vertical-align: top;\n",
       "    }\n",
       "\n",
       "    .dataframe thead th {\n",
       "        text-align: right;\n",
       "    }\n",
       "</style>\n",
       "<table border=\"1\" class=\"dataframe\">\n",
       "  <thead>\n",
       "    <tr style=\"text-align: right;\">\n",
       "      <th></th>\n",
       "      <th>category</th>\n",
       "      <th>main_category</th>\n",
       "      <th>currency</th>\n",
       "      <th>deadline</th>\n",
       "      <th>goal</th>\n",
       "      <th>launched</th>\n",
       "      <th>state</th>\n",
       "      <th>country</th>\n",
       "      <th>usd_goal_real</th>\n",
       "    </tr>\n",
       "  </thead>\n",
       "  <tbody>\n",
       "    <tr>\n",
       "      <th>0</th>\n",
       "      <td>Poetry</td>\n",
       "      <td>Publishing</td>\n",
       "      <td>GBP</td>\n",
       "      <td>2015-10-09</td>\n",
       "      <td>1000.0</td>\n",
       "      <td>2015-08-11 12:12:28</td>\n",
       "      <td>failed</td>\n",
       "      <td>GB</td>\n",
       "      <td>1533.95</td>\n",
       "    </tr>\n",
       "    <tr>\n",
       "      <th>1</th>\n",
       "      <td>Narrative Film</td>\n",
       "      <td>Film &amp; Video</td>\n",
       "      <td>USD</td>\n",
       "      <td>2017-11-01</td>\n",
       "      <td>30000.0</td>\n",
       "      <td>2017-09-02 04:43:57</td>\n",
       "      <td>failed</td>\n",
       "      <td>US</td>\n",
       "      <td>30000.00</td>\n",
       "    </tr>\n",
       "    <tr>\n",
       "      <th>2</th>\n",
       "      <td>Narrative Film</td>\n",
       "      <td>Film &amp; Video</td>\n",
       "      <td>USD</td>\n",
       "      <td>2013-02-26</td>\n",
       "      <td>45000.0</td>\n",
       "      <td>2013-01-12 00:20:50</td>\n",
       "      <td>failed</td>\n",
       "      <td>US</td>\n",
       "      <td>45000.00</td>\n",
       "    </tr>\n",
       "    <tr>\n",
       "      <th>3</th>\n",
       "      <td>Music</td>\n",
       "      <td>Music</td>\n",
       "      <td>USD</td>\n",
       "      <td>2012-04-16</td>\n",
       "      <td>5000.0</td>\n",
       "      <td>2012-03-17 03:24:11</td>\n",
       "      <td>failed</td>\n",
       "      <td>US</td>\n",
       "      <td>5000.00</td>\n",
       "    </tr>\n",
       "    <tr>\n",
       "      <th>4</th>\n",
       "      <td>Film &amp; Video</td>\n",
       "      <td>Film &amp; Video</td>\n",
       "      <td>USD</td>\n",
       "      <td>2015-08-29</td>\n",
       "      <td>19500.0</td>\n",
       "      <td>2015-07-04 08:35:03</td>\n",
       "      <td>canceled</td>\n",
       "      <td>US</td>\n",
       "      <td>19500.00</td>\n",
       "    </tr>\n",
       "  </tbody>\n",
       "</table>\n",
       "</div>"
      ],
      "text/plain": [
       "         category main_category currency    deadline     goal  \\\n",
       "0          Poetry    Publishing      GBP  2015-10-09   1000.0   \n",
       "1  Narrative Film  Film & Video      USD  2017-11-01  30000.0   \n",
       "2  Narrative Film  Film & Video      USD  2013-02-26  45000.0   \n",
       "3           Music         Music      USD  2012-04-16   5000.0   \n",
       "4    Film & Video  Film & Video      USD  2015-08-29  19500.0   \n",
       "\n",
       "              launched     state country  usd_goal_real  \n",
       "0  2015-08-11 12:12:28    failed      GB        1533.95  \n",
       "1  2017-09-02 04:43:57    failed      US       30000.00  \n",
       "2  2013-01-12 00:20:50    failed      US       45000.00  \n",
       "3  2012-03-17 03:24:11    failed      US        5000.00  \n",
       "4  2015-07-04 08:35:03  canceled      US       19500.00  "
      ]
     },
     "execution_count": 14,
     "metadata": {},
     "output_type": "execute_result"
    }
   ],
   "source": [
    "# live以外のデータ\n",
    "data = data[data['state']!='live']\n",
    "data = data.reset_index(drop=True)\n",
    "data.head()"
   ]
  },
  {
   "cell_type": "code",
   "execution_count": 15,
   "metadata": {},
   "outputs": [
    {
     "data": {
      "text/plain": [
       "array(['failed', 'successful'], dtype=object)"
      ]
     },
     "execution_count": 15,
     "metadata": {},
     "output_type": "execute_result"
    }
   ],
   "source": [
    "# dataのsuccessful以外のカテゴリをfailedに変更\n",
    "data = data.replace({'canceled' : 'failed', 'undefined' : 'failed', 'suspended' : 'failed'})\n",
    "data['state'].unique()"
   ]
  },
  {
   "cell_type": "code",
   "execution_count": 16,
   "metadata": {},
   "outputs": [
    {
     "data": {
      "image/png": "[encoded data removed]",
      "text/plain": [
       "<Figure size 720x720 with 1 Axes>"
      ]
     },
     "metadata": {
      "needs_background": "light"
     },
     "output_type": "display_data"
    }
   ],
   "source": [
    "plt.figure(figsize=(10, 10))\n",
    "sns.countplot(x='state', data=data)\n",
    "plt.tight_layout()"
   ]
  },
  {
   "cell_type": "markdown",
   "metadata": {},
   "source": [
    "## 説明変数の分布の可視化"
   ]
  },
  {
   "cell_type": "markdown",
   "metadata": {},
   "source": [
    "### category"
   ]
  },
  {
   "cell_type": "code",
   "execution_count": 17,
   "metadata": {},
   "outputs": [
    {
     "data": {
      "text/plain": [
       "Product Design     22077\n",
       "Documentary        16082\n",
       "Music              15647\n",
       "Tabletop Games     14072\n",
       "Shorts             12311\n",
       "                   ...  \n",
       "Residencies           69\n",
       "Letterpress           48\n",
       "Chiptune              35\n",
       "Literary Spaces       23\n",
       "Taxidermy             13\n",
       "Name: category, Length: 159, dtype: int64"
      ]
     },
     "execution_count": 17,
     "metadata": {},
     "output_type": "execute_result"
    }
   ],
   "source": [
    "data['category'].value_counts()"
   ]
  },
  {
   "cell_type": "code",
   "execution_count": 18,
   "metadata": {},
   "outputs": [
    {
     "name": "stdout",
     "output_type": "stream",
     "text": [
      "{'Playing Cards', 'Musical', 'Pop', 'Flight', 'Weaving', 'Zines', 'Food', 'Mobile Games', 'Horror', 'Restaurants', 'Pottery', 'Technology', 'Video Art', 'Music Videos', 'Footwear', 'Robots', 'DIY', 'Typography', 'Science Fiction', 'Candles', 'Photography', 'Fashion', 'Rock', 'Web', 'Community Gardens', 'Documentary', 'Ready-to-wear', 'Wearables', 'Accessories', 'Film & Video', 'Publishing', 'Chiptune', 'Small Batch', 'Journalism', 'Webcomics', 'Webseries', 'Comedy', 'Romance', 'Tabletop Games', 'Photobooks', 'Cookbooks', 'Jewelry', 'Calendars', 'Immersive', 'Jazz', 'Anthologies', 'Academic', 'Childrenswear', 'Installations', 'Animation', 'People', 'Experimental', 'Music', 'Civic Design', 'Hip-Hop', 'World Music', 'Painting', 'Comics', 'Digital Art', 'Drinks', 'Shorts', 'Periodicals', 'Animals', 'Fiction', 'Thrillers', 'Farms', 'Illustration', 'Food Trucks', 'Public Art', 'Festivals', 'Product Design', 'Blues', 'Action', 'Crochet', 'Makerspaces', \"Children's Books\", 'Apparel', 'Translations', 'Embroidery', 'Performances', 'Textiles', 'Pet Fashion', 'Taxidermy', 'Video Games', 'Gaming Hardware', 'Nonfiction', 'Photo', 'Crafts', 'Country & Folk', 'Apps', 'Graphic Novels', 'Live Games', 'Ceramics', 'Camera Equipment', 'Faith', 'Bacon', 'Audio', 'Quilts', 'Classical Music', 'Drama', 'R&B', 'Indie Rock', 'Art', 'Hardware', 'Puzzles', 'Stationery', 'Architecture', 'Sound', 'Glass', 'Conceptual Art', 'Printing', 'Events', 'Places', 'Letterpress', 'Electronic Music', 'Woodworking', 'Fantasy', 'Vegan', 'Narrative Film', 'Fabrication Tools', 'Art Books', 'DIY Electronics', 'Video', 'Dance', 'Graphic Design', '3D Printing', 'Space Exploration', 'Television', 'Couture', 'Comic Books', 'Latin', 'Movie Theaters', 'Fine Art', 'Mixed Media', 'Literary Spaces', 'Residencies', 'Theater', 'Literary Journals', 'Spaces', 'Family', 'Poetry', 'Interactive Design', 'Plays', 'Nature', 'Performance Art', \"Farmer's Markets\", 'Knitting', 'Punk', 'Metal', 'Print', 'Sculpture', 'Workshops', 'Games', 'Gadgets', 'Software', 'Young Adult', 'Radio & Podcasts', 'Design', 'Kids'}\n"
     ]
    }
   ],
   "source": [
    "print(set(data['category']))"
   ]
  },
  {
   "cell_type": "code",
   "execution_count": 19,
   "metadata": {},
   "outputs": [
    {
     "name": "stdout",
     "output_type": "stream",
     "text": [
      "0\n"
     ]
    }
   ],
   "source": [
    "# もともとOtherのカテゴリがないかを確認\n",
    "print(sum(data['category']=='Other'))"
   ]
  },
  {
   "cell_type": "code",
   "execution_count": 20,
   "metadata": {},
   "outputs": [
    {
     "data": {
      "image/png": "[encoded data removed]",
      "text/plain": [
       "<Figure size 1080x720 with 1 Axes>"
      ]
     },
     "metadata": {
      "needs_background": "light"
     },
     "output_type": "display_data"
    }
   ],
   "source": [
    "plt.figure(figsize=(15,10))\n",
    "sns.countplot(x='category', data=data)\n",
    "plt.tight_layout()"
   ]
  },
  {
   "cell_type": "code",
   "execution_count": 21,
   "metadata": {},
   "outputs": [
    {
     "name": "stdout",
     "output_type": "stream",
     "text": [
      "categoryの出現回数が3000回以上のカテゴリ数\n",
      "37\n",
      "categoryの出現回数が3000回以上のデータ数\n",
      "0.7168109572130197\n"
     ]
    }
   ],
   "source": [
    "data_category = data['category'].value_counts()\n",
    "data_category = pd.DataFrame(data_category)\n",
    "\n",
    "print('categoryの出現回数が3000回以上のカテゴリ数')\n",
    "print(sum(data_category['category'] >= 3000))\n",
    "print('categoryの出現回数が3000回以上のデータ数')\n",
    "print(data_category[data_category['category'] >= 3000].sum()[0] / data.shape[0])"
   ]
  },
  {
   "cell_type": "markdown",
   "metadata": {},
   "source": [
    "categoryはmian_categoryをより詳しく分類したもので，159種類ある．<br>\n",
    "このまま用いるとカテゴリ数が多く，各カテゴリの出現回数にはばらつきがあるため，出現頻度の少ないカテゴリをまとめてしまいたい．<br>\n",
    "そこで出現回数が3000回以上のカテゴリはそのまま用いて，3000回以下のカテゴリをまとめることを考える．<br>\n",
    "出現回数が3000回以下のカテゴリとしたのは，出現回数が3000回というのは出現頻度が全体の1%以下だからである．<br>\n",
    "この場合全体の28.32%がその他に分類されることになり，カテゴリ数を1/4程度に減らすことができる．"
   ]
  },
  {
   "cell_type": "code",
   "execution_count": 22,
   "metadata": {},
   "outputs": [
    {
     "data": {
      "text/html": [
       "<div>\n",
       "<style scoped>\n",
       "    .dataframe tbody tr th:only-of-type {\n",
       "        vertical-align: middle;\n",
       "    }\n",
       "\n",
       "    .dataframe tbody tr th {\n",
       "        vertical-align: top;\n",
       "    }\n",
       "\n",
       "    .dataframe thead th {\n",
       "        text-align: right;\n",
       "    }\n",
       "</style>\n",
       "<table border=\"1\" class=\"dataframe\">\n",
       "  <thead>\n",
       "    <tr style=\"text-align: right;\">\n",
       "      <th></th>\n",
       "      <th>category</th>\n",
       "    </tr>\n",
       "  </thead>\n",
       "  <tbody>\n",
       "    <tr>\n",
       "      <th>Gadgets</th>\n",
       "      <td>True</td>\n",
       "    </tr>\n",
       "    <tr>\n",
       "      <th>Restaurants</th>\n",
       "      <td>True</td>\n",
       "    </tr>\n",
       "    <tr>\n",
       "      <th>Mixed Media</th>\n",
       "      <td>True</td>\n",
       "    </tr>\n",
       "    <tr>\n",
       "      <th>Comic Books</th>\n",
       "      <td>True</td>\n",
       "    </tr>\n",
       "    <tr>\n",
       "      <th>Art Books</th>\n",
       "      <td>True</td>\n",
       "    </tr>\n",
       "    <tr>\n",
       "      <th>...</th>\n",
       "      <td>...</td>\n",
       "    </tr>\n",
       "    <tr>\n",
       "      <th>Residencies</th>\n",
       "      <td>True</td>\n",
       "    </tr>\n",
       "    <tr>\n",
       "      <th>Letterpress</th>\n",
       "      <td>True</td>\n",
       "    </tr>\n",
       "    <tr>\n",
       "      <th>Chiptune</th>\n",
       "      <td>True</td>\n",
       "    </tr>\n",
       "    <tr>\n",
       "      <th>Literary Spaces</th>\n",
       "      <td>True</td>\n",
       "    </tr>\n",
       "    <tr>\n",
       "      <th>Taxidermy</th>\n",
       "      <td>True</td>\n",
       "    </tr>\n",
       "  </tbody>\n",
       "</table>\n",
       "<p>122 rows × 1 columns</p>\n",
       "</div>"
      ],
      "text/plain": [
       "                 category\n",
       "Gadgets              True\n",
       "Restaurants          True\n",
       "Mixed Media          True\n",
       "Comic Books          True\n",
       "Art Books            True\n",
       "...                   ...\n",
       "Residencies          True\n",
       "Letterpress          True\n",
       "Chiptune             True\n",
       "Literary Spaces      True\n",
       "Taxidermy            True\n",
       "\n",
       "[122 rows x 1 columns]"
      ]
     },
     "execution_count": 22,
     "metadata": {},
     "output_type": "execute_result"
    }
   ],
   "source": [
    "# 出現回数が3000回以下のデータを収集\n",
    "data_cat_3000 = data['category'].value_counts()<=3000\n",
    "data_cat_3000 = pd.DataFrame(data_cat_3000)\n",
    "data_cat_3000 = data_cat_3000[data_cat_3000['category']==True]\n",
    "data_cat_3000"
   ]
  },
  {
   "cell_type": "code",
   "execution_count": 23,
   "metadata": {},
   "outputs": [
    {
     "name": "stderr",
     "output_type": "stream",
     "text": [
      "/Users/suke/python_env/py3env/lib/python3.7/site-packages/ipykernel_launcher.py:5: SettingWithCopyWarning: \n",
      "A value is trying to be set on a copy of a slice from a DataFrame\n",
      "\n",
      "See the caveats in the documentation: https://pandas.pydata.org/pandas-docs/stable/user_guide/indexing.html#returning-a-view-versus-a-copy\n",
      "  \"\"\"\n"
     ]
    },
    {
     "data": {
      "text/html": [
       "<div>\n",
       "<style scoped>\n",
       "    .dataframe tbody tr th:only-of-type {\n",
       "        vertical-align: middle;\n",
       "    }\n",
       "\n",
       "    .dataframe tbody tr th {\n",
       "        vertical-align: top;\n",
       "    }\n",
       "\n",
       "    .dataframe thead th {\n",
       "        text-align: right;\n",
       "    }\n",
       "</style>\n",
       "<table border=\"1\" class=\"dataframe\">\n",
       "  <thead>\n",
       "    <tr style=\"text-align: right;\">\n",
       "      <th></th>\n",
       "      <th>category</th>\n",
       "      <th>main_category</th>\n",
       "      <th>currency</th>\n",
       "      <th>deadline</th>\n",
       "      <th>goal</th>\n",
       "      <th>launched</th>\n",
       "      <th>state</th>\n",
       "      <th>country</th>\n",
       "      <th>usd_goal_real</th>\n",
       "    </tr>\n",
       "  </thead>\n",
       "  <tbody>\n",
       "    <tr>\n",
       "      <th>0</th>\n",
       "      <td>Other</td>\n",
       "      <td>Publishing</td>\n",
       "      <td>GBP</td>\n",
       "      <td>2015-10-09</td>\n",
       "      <td>1000.0</td>\n",
       "      <td>2015-08-11 12:12:28</td>\n",
       "      <td>failed</td>\n",
       "      <td>GB</td>\n",
       "      <td>1533.95</td>\n",
       "    </tr>\n",
       "    <tr>\n",
       "      <th>1</th>\n",
       "      <td>Narrative Film</td>\n",
       "      <td>Film &amp; Video</td>\n",
       "      <td>USD</td>\n",
       "      <td>2017-11-01</td>\n",
       "      <td>30000.0</td>\n",
       "      <td>2017-09-02 04:43:57</td>\n",
       "      <td>failed</td>\n",
       "      <td>US</td>\n",
       "      <td>30000.00</td>\n",
       "    </tr>\n",
       "    <tr>\n",
       "      <th>2</th>\n",
       "      <td>Narrative Film</td>\n",
       "      <td>Film &amp; Video</td>\n",
       "      <td>USD</td>\n",
       "      <td>2013-02-26</td>\n",
       "      <td>45000.0</td>\n",
       "      <td>2013-01-12 00:20:50</td>\n",
       "      <td>failed</td>\n",
       "      <td>US</td>\n",
       "      <td>45000.00</td>\n",
       "    </tr>\n",
       "    <tr>\n",
       "      <th>3</th>\n",
       "      <td>Music</td>\n",
       "      <td>Music</td>\n",
       "      <td>USD</td>\n",
       "      <td>2012-04-16</td>\n",
       "      <td>5000.0</td>\n",
       "      <td>2012-03-17 03:24:11</td>\n",
       "      <td>failed</td>\n",
       "      <td>US</td>\n",
       "      <td>5000.00</td>\n",
       "    </tr>\n",
       "    <tr>\n",
       "      <th>4</th>\n",
       "      <td>Film &amp; Video</td>\n",
       "      <td>Film &amp; Video</td>\n",
       "      <td>USD</td>\n",
       "      <td>2015-08-29</td>\n",
       "      <td>19500.0</td>\n",
       "      <td>2015-07-04 08:35:03</td>\n",
       "      <td>failed</td>\n",
       "      <td>US</td>\n",
       "      <td>19500.00</td>\n",
       "    </tr>\n",
       "  </tbody>\n",
       "</table>\n",
       "</div>"
      ],
      "text/plain": [
       "         category main_category currency    deadline     goal  \\\n",
       "0           Other    Publishing      GBP  2015-10-09   1000.0   \n",
       "1  Narrative Film  Film & Video      USD  2017-11-01  30000.0   \n",
       "2  Narrative Film  Film & Video      USD  2013-02-26  45000.0   \n",
       "3           Music         Music      USD  2012-04-16   5000.0   \n",
       "4    Film & Video  Film & Video      USD  2015-08-29  19500.0   \n",
       "\n",
       "              launched   state country  usd_goal_real  \n",
       "0  2015-08-11 12:12:28  failed      GB        1533.95  \n",
       "1  2017-09-02 04:43:57  failed      US       30000.00  \n",
       "2  2013-01-12 00:20:50  failed      US       45000.00  \n",
       "3  2012-03-17 03:24:11  failed      US        5000.00  \n",
       "4  2015-07-04 08:35:03  failed      US       19500.00  "
      ]
     },
     "execution_count": 23,
     "metadata": {},
     "output_type": "execute_result"
    }
   ],
   "source": [
    "# 出現回数が3000回以下のカテゴリを'Other'に変換\n",
    "for j in range(len(data)):\n",
    "    for i in range(len(data_cat_3000)):\n",
    "        if data_cat_3000.index[i] == data['category'][j]:\n",
    "            data['category'][j] = 'Other'\n",
    "data.head()"
   ]
  },
  {
   "cell_type": "code",
   "execution_count": 24,
   "metadata": {},
   "outputs": [
    {
     "data": {
      "text/plain": [
       "38"
      ]
     },
     "execution_count": 24,
     "metadata": {},
     "output_type": "execute_result"
    }
   ],
   "source": [
    "# 出現回数3000回以上の37のカテゴリと'Other'を合わせてカテゴリの数が38になっているかの確認\n",
    "len(data['category'].unique())"
   ]
  },
  {
   "cell_type": "markdown",
   "metadata": {},
   "source": [
    "### main_category"
   ]
  },
  {
   "cell_type": "code",
   "execution_count": 25,
   "metadata": {},
   "outputs": [
    {
     "data": {
      "image/png": "[encoded data removed]",
      "text/plain": [
       "<Figure size 1080x720 with 1 Axes>"
      ]
     },
     "metadata": {
      "needs_background": "light"
     },
     "output_type": "display_data"
    }
   ],
   "source": [
    "plt.figure(figsize=(15,10))\n",
    "sns.countplot(x='main_category', data=data)\n",
    "plt.tight_layout()"
   ]
  },
  {
   "cell_type": "code",
   "execution_count": 26,
   "metadata": {},
   "outputs": [
    {
     "data": {
      "text/plain": [
       "Film & Video    63253\n",
       "Music           51637\n",
       "Publishing      39575\n",
       "Games           34944\n",
       "Technology      32192\n",
       "Design          29765\n",
       "Art             27959\n",
       "Food            24418\n",
       "Fashion         22566\n",
       "Theater         10872\n",
       "Comics          10743\n",
       "Photography     10731\n",
       "Crafts           8733\n",
       "Journalism       4724\n",
       "Dance            3750\n",
       "Name: main_category, dtype: int64"
      ]
     },
     "execution_count": 26,
     "metadata": {},
     "output_type": "execute_result"
    }
   ],
   "source": [
    "data['main_category'].value_counts()"
   ]
  },
  {
   "cell_type": "markdown",
   "metadata": {},
   "source": [
    "main_categoryは15種類存在する．<br>\n",
    "カテゴリごとの数にばらつきはあるが，どのカテゴリも一定程度のデータ数を有しているのでmain_category変数はこのまま使用する．"
   ]
  },
  {
   "cell_type": "markdown",
   "metadata": {},
   "source": [
    "### currency"
   ]
  },
  {
   "cell_type": "code",
   "execution_count": 27,
   "metadata": {},
   "outputs": [
    {
     "data": {
      "image/png": "[encoded data removed]",
      "text/plain": [
       "<Figure size 720x720 with 1 Axes>"
      ]
     },
     "metadata": {
      "needs_background": "light"
     },
     "output_type": "display_data"
    }
   ],
   "source": [
    "plt.figure(figsize=(10, 10))\n",
    "sns.countplot(x='currency', data=data)\n",
    "plt.tight_layout()"
   ]
  },
  {
   "cell_type": "code",
   "execution_count": 28,
   "metadata": {},
   "outputs": [
    {
     "data": {
      "text/plain": [
       "USD    293624\n",
       "GBP     33853\n",
       "EUR     17076\n",
       "CAD     14830\n",
       "AUD      7880\n",
       "SEK      1768\n",
       "MXN      1645\n",
       "NZD      1464\n",
       "DKK      1113\n",
       "CHF       754\n",
       "NOK       714\n",
       "HKD       583\n",
       "SGD       527\n",
       "JPY        31\n",
       "Name: currency, dtype: int64"
      ]
     },
     "execution_count": 28,
     "metadata": {},
     "output_type": "execute_result"
    }
   ],
   "source": [
    "data['currency'].value_counts()"
   ]
  },
  {
   "cell_type": "code",
   "execution_count": 29,
   "metadata": {},
   "outputs": [
    {
     "name": "stdout",
     "output_type": "stream",
     "text": [
      "USDの割合 : 0.7812016112296535\n"
     ]
    }
   ],
   "source": [
    "data_USD = data['currency']=='USD'\n",
    "print(f'USDの割合 : {data_USD.sum() / data.shape[0]}')"
   ]
  },
  {
   "cell_type": "code",
   "execution_count": 30,
   "metadata": {},
   "outputs": [
    {
     "name": "stdout",
     "output_type": "stream",
     "text": [
      "USD, GBP, EUR, CAD, AUDが占める割合 : 0.9771219224076921\n"
     ]
    }
   ],
   "source": [
    "data_GBP = data['currency']=='GBP'\n",
    "data_EUR = data['currency']=='EUR'\n",
    "data_CAD = data['currency']=='CAD'\n",
    "data_AUD = data['currency']=='AUD'\n",
    "print(f'USD, GBP, EUR, CAD, AUDが占める割合 : {(data_USD.sum() + data_GBP.sum() + data_EUR.sum() + data_CAD.sum() + data_AUD.sum()) / data.shape[0]}')"
   ]
  },
  {
   "cell_type": "markdown",
   "metadata": {},
   "source": [
    "currencyの分布からクラウドファンディングで使用される通貨の78%はUSDであることがわかる．<br>\n",
    "またUSD, GBP, EUR, CAD, AUDで全体の97.71%を占めている為，その他の通貨に関してはcur_otherでまとめて扱うものとする．"
   ]
  },
  {
   "cell_type": "code",
   "execution_count": 31,
   "metadata": {},
   "outputs": [
    {
     "data": {
      "text/plain": [
       "array(['GBP', 'USD', 'CAD', 'AUD', 'cur_other', 'EUR'], dtype=object)"
      ]
     },
     "execution_count": 31,
     "metadata": {},
     "output_type": "execute_result"
    }
   ],
   "source": [
    "# USD, GBP, EUR, CAD, AUD以外をcur_otherに書き換える\n",
    "data = data.replace({'NOK' : 'cur_other', 'MXN' : 'cur_other', 'SEK' : 'cur_other', 'NZD' : 'cur_other', 'CHF' : 'cur_other', 'DKK' : 'cur_other', 'HKD' : 'cur_other', 'SGD' : 'cur_other', 'JPY' : 'cur_other'})\n",
    "data['currency'].unique()"
   ]
  },
  {
   "cell_type": "code",
   "execution_count": 32,
   "metadata": {},
   "outputs": [
    {
     "data": {
      "image/png": "[encoded data removed]",
      "text/plain": [
       "<Figure size 720x720 with 1 Axes>"
      ]
     },
     "metadata": {
      "needs_background": "light"
     },
     "output_type": "display_data"
    }
   ],
   "source": [
    "plt.figure(figsize=(10, 10))\n",
    "sns.countplot(x='currency', data=data)\n",
    "plt.tight_layout()"
   ]
  },
  {
   "cell_type": "markdown",
   "metadata": {},
   "source": [
    "### country"
   ]
  },
  {
   "cell_type": "code",
   "execution_count": 33,
   "metadata": {},
   "outputs": [
    {
     "data": {
      "image/png": "[encoded data removed]",
      "text/plain": [
       "<Figure size 1080x720 with 1 Axes>"
      ]
     },
     "metadata": {
      "needs_background": "light"
     },
     "output_type": "display_data"
    }
   ],
   "source": [
    "plt.figure(figsize=(15, 10))\n",
    "sns.countplot(x='country', data=data)\n",
    "plt.tight_layout()"
   ]
  },
  {
   "cell_type": "code",
   "execution_count": 34,
   "metadata": {},
   "outputs": [
    {
     "data": {
      "text/plain": [
       "US      290887\n",
       "GB       33393\n",
       "CA       14624\n",
       "AU        7769\n",
       "DE        4096\n",
       "N,0\"      3796\n",
       "FR        2887\n",
       "NL        2833\n",
       "IT        2802\n",
       "ES        2224\n",
       "SE        1737\n",
       "MX        1645\n",
       "NZ        1436\n",
       "DK        1097\n",
       "IE         800\n",
       "CH         747\n",
       "NO         700\n",
       "BE         605\n",
       "HK         583\n",
       "AT         582\n",
       "SG         527\n",
       "LU          61\n",
       "JP          31\n",
       "Name: country, dtype: int64"
      ]
     },
     "execution_count": 34,
     "metadata": {},
     "output_type": "execute_result"
    }
   ],
   "source": [
    "data['country'].value_counts()"
   ]
  },
  {
   "cell_type": "code",
   "execution_count": 35,
   "metadata": {},
   "outputs": [
    {
     "name": "stdout",
     "output_type": "stream",
     "text": [
      "USの割合 : 0.7739196832880153\n"
     ]
    }
   ],
   "source": [
    "data_US = data['country']=='US'\n",
    "print(f'USの割合 : {data_US.sum() / data.shape[0]}')"
   ]
  },
  {
   "cell_type": "code",
   "execution_count": 36,
   "metadata": {},
   "outputs": [
    {
     "name": "stdout",
     "output_type": "stream",
     "text": [
      "US + GB + CA + AUの割合 : 0.9223411784112254\n"
     ]
    }
   ],
   "source": [
    "data_GB = data['country']=='GB'\n",
    "data_CA = data['country']=='CA'\n",
    "data_AU = data['country']=='AU'\n",
    "print(f'US + GB + CA + AUの割合 : {(data_US.sum() + data_GB.sum() + data_CA.sum() + data_AU.sum()) / data.shape[0]}')"
   ]
  },
  {
   "cell_type": "markdown",
   "metadata": {},
   "source": [
    "USでの募集が全体の77.39%を占めている．<br>\n",
    "この変数はcurrencyと同様に，US，GB，CA，AUで全体の92.23%を占めているので，その他の国についてはcou_otherでまとめて扱うものとする．"
   ]
  },
  {
   "cell_type": "code",
   "execution_count": 37,
   "metadata": {},
   "outputs": [
    {
     "data": {
      "text/plain": [
       "array(['GB', 'US', 'CA', 'AU', 'cou_other'], dtype=object)"
      ]
     },
     "execution_count": 37,
     "metadata": {},
     "output_type": "execute_result"
    }
   ],
   "source": [
    "# US, GB, CA, AU以外をcou_otherに書き換える\n",
    "data = data.replace({'NO' : 'cou_other', 'IT' : 'cou_other', 'DE' : 'cou_other', 'IE' : 'cou_other', 'MX' : 'cou_other', 'ES' : 'cou_other', 'N,0\"' : 'cou_other', 'SE' : 'cou_other', 'FR' : 'cou_other', 'NL' : 'cou_other', 'NZ' : 'cou_other', 'CH' : 'cou_other', 'AT' : 'cou_other', 'DK' : 'cou_other', 'BE' : 'cou_other', 'HK' : 'cou_other', 'LU' : 'cou_other', 'SG' : 'cou_other', 'JP' : 'cou_other'})\n",
    "data['country'].unique()"
   ]
  },
  {
   "cell_type": "code",
   "execution_count": 38,
   "metadata": {},
   "outputs": [
    {
     "data": {
      "image/png": "[encoded data removed]",
      "text/plain": [
       "<Figure size 1080x720 with 1 Axes>"
      ]
     },
     "metadata": {
      "needs_background": "light"
     },
     "output_type": "display_data"
    }
   ],
   "source": [
    "plt.figure(figsize=(15, 10))\n",
    "sns.countplot(x='country', data=data)\n",
    "plt.tight_layout()"
   ]
  },
  {
   "cell_type": "markdown",
   "metadata": {},
   "source": [
    "### launched & deadline"
   ]
  },
  {
   "cell_type": "markdown",
   "metadata": {},
   "source": [
    "launchedとdeadlineのデータからは\n",
    "- クラウドファンディングを募集していた時期\n",
    "- クラウドファンディングの募集期間\n",
    "\n",
    "の情報が得られる．<br>\n",
    "クラウドファンディングを行う季節の情報はlaunchedとdeadlineの月のデータから得られる．<br>\n",
    "募集期間に関してはdeadlineとlaunchedの差の日数をとることで得られる．"
   ]
  },
  {
   "cell_type": "code",
   "execution_count": 39,
   "metadata": {},
   "outputs": [
    {
     "name": "stdout",
     "output_type": "stream",
     "text": [
      "10\n"
     ]
    }
   ],
   "source": [
    "# deadlineをstr型からdatetime型に変更\n",
    "data['deadline'] = pd.to_datetime(data['deadline'])\n",
    "# deadlineの一つ目のデータの月を抽出\n",
    "print(data['deadline'][0].month)"
   ]
  },
  {
   "cell_type": "code",
   "execution_count": 40,
   "metadata": {},
   "outputs": [],
   "source": [
    "# launchedについてもdatetime型に変更\n",
    "data['launched'] = pd.to_datetime(data['launched'])"
   ]
  },
  {
   "cell_type": "code",
   "execution_count": 41,
   "metadata": {},
   "outputs": [
    {
     "data": {
      "text/html": [
       "<div>\n",
       "<style scoped>\n",
       "    .dataframe tbody tr th:only-of-type {\n",
       "        vertical-align: middle;\n",
       "    }\n",
       "\n",
       "    .dataframe tbody tr th {\n",
       "        vertical-align: top;\n",
       "    }\n",
       "\n",
       "    .dataframe thead th {\n",
       "        text-align: right;\n",
       "    }\n",
       "</style>\n",
       "<table border=\"1\" class=\"dataframe\">\n",
       "  <thead>\n",
       "    <tr style=\"text-align: right;\">\n",
       "      <th></th>\n",
       "      <th>category</th>\n",
       "      <th>main_category</th>\n",
       "      <th>currency</th>\n",
       "      <th>deadline</th>\n",
       "      <th>goal</th>\n",
       "      <th>launched</th>\n",
       "      <th>state</th>\n",
       "      <th>country</th>\n",
       "      <th>usd_goal_real</th>\n",
       "      <th>time_period</th>\n",
       "      <th>time_period_days</th>\n",
       "    </tr>\n",
       "  </thead>\n",
       "  <tbody>\n",
       "    <tr>\n",
       "      <th>0</th>\n",
       "      <td>Other</td>\n",
       "      <td>Publishing</td>\n",
       "      <td>GBP</td>\n",
       "      <td>2015-10-09</td>\n",
       "      <td>1000.0</td>\n",
       "      <td>2015-08-11 12:12:28</td>\n",
       "      <td>failed</td>\n",
       "      <td>GB</td>\n",
       "      <td>1533.95</td>\n",
       "      <td>58 days 11:47:32</td>\n",
       "      <td>58</td>\n",
       "    </tr>\n",
       "    <tr>\n",
       "      <th>1</th>\n",
       "      <td>Narrative Film</td>\n",
       "      <td>Film &amp; Video</td>\n",
       "      <td>USD</td>\n",
       "      <td>2017-11-01</td>\n",
       "      <td>30000.0</td>\n",
       "      <td>2017-09-02 04:43:57</td>\n",
       "      <td>failed</td>\n",
       "      <td>US</td>\n",
       "      <td>30000.00</td>\n",
       "      <td>59 days 19:16:03</td>\n",
       "      <td>59</td>\n",
       "    </tr>\n",
       "    <tr>\n",
       "      <th>2</th>\n",
       "      <td>Narrative Film</td>\n",
       "      <td>Film &amp; Video</td>\n",
       "      <td>USD</td>\n",
       "      <td>2013-02-26</td>\n",
       "      <td>45000.0</td>\n",
       "      <td>2013-01-12 00:20:50</td>\n",
       "      <td>failed</td>\n",
       "      <td>US</td>\n",
       "      <td>45000.00</td>\n",
       "      <td>44 days 23:39:10</td>\n",
       "      <td>44</td>\n",
       "    </tr>\n",
       "    <tr>\n",
       "      <th>3</th>\n",
       "      <td>Music</td>\n",
       "      <td>Music</td>\n",
       "      <td>USD</td>\n",
       "      <td>2012-04-16</td>\n",
       "      <td>5000.0</td>\n",
       "      <td>2012-03-17 03:24:11</td>\n",
       "      <td>failed</td>\n",
       "      <td>US</td>\n",
       "      <td>5000.00</td>\n",
       "      <td>29 days 20:35:49</td>\n",
       "      <td>29</td>\n",
       "    </tr>\n",
       "    <tr>\n",
       "      <th>4</th>\n",
       "      <td>Film &amp; Video</td>\n",
       "      <td>Film &amp; Video</td>\n",
       "      <td>USD</td>\n",
       "      <td>2015-08-29</td>\n",
       "      <td>19500.0</td>\n",
       "      <td>2015-07-04 08:35:03</td>\n",
       "      <td>failed</td>\n",
       "      <td>US</td>\n",
       "      <td>19500.00</td>\n",
       "      <td>55 days 15:24:57</td>\n",
       "      <td>55</td>\n",
       "    </tr>\n",
       "  </tbody>\n",
       "</table>\n",
       "</div>"
      ],
      "text/plain": [
       "         category main_category currency   deadline     goal  \\\n",
       "0           Other    Publishing      GBP 2015-10-09   1000.0   \n",
       "1  Narrative Film  Film & Video      USD 2017-11-01  30000.0   \n",
       "2  Narrative Film  Film & Video      USD 2013-02-26  45000.0   \n",
       "3           Music         Music      USD 2012-04-16   5000.0   \n",
       "4    Film & Video  Film & Video      USD 2015-08-29  19500.0   \n",
       "\n",
       "             launched   state country  usd_goal_real      time_period  \\\n",
       "0 2015-08-11 12:12:28  failed      GB        1533.95 58 days 11:47:32   \n",
       "1 2017-09-02 04:43:57  failed      US       30000.00 59 days 19:16:03   \n",
       "2 2013-01-12 00:20:50  failed      US       45000.00 44 days 23:39:10   \n",
       "3 2012-03-17 03:24:11  failed      US        5000.00 29 days 20:35:49   \n",
       "4 2015-07-04 08:35:03  failed      US       19500.00 55 days 15:24:57   \n",
       "\n",
       "   time_period_days  \n",
       "0                58  \n",
       "1                59  \n",
       "2                44  \n",
       "3                29  \n",
       "4                55  "
      ]
     },
     "execution_count": 41,
     "metadata": {},
     "output_type": "execute_result"
    }
   ],
   "source": [
    "# 募集していた期間を新たな変数time_periodとしてdataに加える\n",
    "data['time_period'] = data['deadline'] - data['launched']\n",
    "data['time_period_days'] = data['time_period'].dt.days\n",
    "data.head()"
   ]
  },
  {
   "cell_type": "markdown",
   "metadata": {},
   "source": [
    "### time_period_days"
   ]
  },
  {
   "cell_type": "markdown",
   "metadata": {},
   "source": [
    "time_period_daysは何日間クラウドファンディングの募集を行っていたかを表す新しい変数である．<br>\n",
    "この変数の各々の数値について出現頻度のグラフを以下に示す．"
   ]
  },
  {
   "cell_type": "code",
   "execution_count": 42,
   "metadata": {},
   "outputs": [
    {
     "data": {
      "image/png": "[encoded data removed]",
      "text/plain": [
       "<Figure size 1440x720 with 1 Axes>"
      ]
     },
     "metadata": {
      "needs_background": "light"
     },
     "output_type": "display_data"
    }
   ],
   "source": [
    "plt.figure(figsize=(20, 10))\n",
    "sns.countplot(x='time_period_days', data=data)\n",
    "plt.tight_layout()"
   ]
  },
  {
   "cell_type": "code",
   "execution_count": 43,
   "metadata": {},
   "outputs": [
    {
     "data": {
      "text/plain": [
       "29       168112\n",
       "59        33018\n",
       "44        17552\n",
       "30        13197\n",
       "34        10014\n",
       "          ...  \n",
       "14732         1\n",
       "14760         1\n",
       "16738         1\n",
       "14866         1\n",
       "14834         1\n",
       "Name: time_period_days, Length: 99, dtype: int64"
      ]
     },
     "execution_count": 43,
     "metadata": {},
     "output_type": "execute_result"
    }
   ],
   "source": [
    "data['time_period_days'].value_counts()"
   ]
  },
  {
   "cell_type": "code",
   "execution_count": 44,
   "metadata": {},
   "outputs": [
    {
     "name": "stdout",
     "output_type": "stream",
     "text": [
      "29日間募集を行っていた件数 : 0.44727054078358547\n"
     ]
    }
   ],
   "source": [
    "data_29days = data['time_period_days']==29\n",
    "print(f'29日間募集を行っていた件数 : {data_29days.sum() / data.shape[0]}')"
   ]
  },
  {
   "cell_type": "code",
   "execution_count": 45,
   "metadata": {},
   "outputs": [
    {
     "name": "stdout",
     "output_type": "stream",
     "text": [
      "time_period_daysの出現回数が50回以下のカテゴリ数\n",
      "10\n",
      "time_period_daysの出現回数が50回以下のデータ数\n",
      "0.00030330280794546935\n"
     ]
    }
   ],
   "source": [
    "data_time_period_days = data['time_period_days'].value_counts()\n",
    "data_time_period_days = pd.DataFrame(data_time_period_days)\n",
    "\n",
    "print('time_period_daysの出現回数が50回以下のカテゴリ数')\n",
    "print(sum(data_time_period_days['time_period_days'] <= 50))\n",
    "print('time_period_daysの出現回数が50回以下のデータ数')\n",
    "print(data_time_period_days[data_time_period_days['time_period_days'] <= 50].sum()[0] / data.shape[0])"
   ]
  },
  {
   "cell_type": "code",
   "execution_count": 46,
   "metadata": {},
   "outputs": [
    {
     "data": {
      "text/plain": [
       "16738"
      ]
     },
     "execution_count": 46,
     "metadata": {},
     "output_type": "execute_result"
    }
   ],
   "source": [
    "data['time_period_days'].max()"
   ]
  },
  {
   "cell_type": "code",
   "execution_count": 47,
   "metadata": {},
   "outputs": [
    {
     "data": {
      "text/html": [
       "<div>\n",
       "<style scoped>\n",
       "    .dataframe tbody tr th:only-of-type {\n",
       "        vertical-align: middle;\n",
       "    }\n",
       "\n",
       "    .dataframe tbody tr th {\n",
       "        vertical-align: top;\n",
       "    }\n",
       "\n",
       "    .dataframe thead th {\n",
       "        text-align: right;\n",
       "    }\n",
       "</style>\n",
       "<table border=\"1\" class=\"dataframe\">\n",
       "  <thead>\n",
       "    <tr style=\"text-align: right;\">\n",
       "      <th></th>\n",
       "      <th>category</th>\n",
       "      <th>main_category</th>\n",
       "      <th>currency</th>\n",
       "      <th>deadline</th>\n",
       "      <th>goal</th>\n",
       "      <th>launched</th>\n",
       "      <th>state</th>\n",
       "      <th>country</th>\n",
       "      <th>usd_goal_real</th>\n",
       "      <th>time_period</th>\n",
       "      <th>time_period_days</th>\n",
       "    </tr>\n",
       "  </thead>\n",
       "  <tbody>\n",
       "    <tr>\n",
       "      <th>316658</th>\n",
       "      <td>Publishing</td>\n",
       "      <td>Publishing</td>\n",
       "      <td>cur_other</td>\n",
       "      <td>2015-10-31</td>\n",
       "      <td>1900.0</td>\n",
       "      <td>1970-01-01 01:00:00</td>\n",
       "      <td>failed</td>\n",
       "      <td>cou_other</td>\n",
       "      <td>1905.97</td>\n",
       "      <td>16738 days 23:00:00</td>\n",
       "      <td>16738</td>\n",
       "    </tr>\n",
       "  </tbody>\n",
       "</table>\n",
       "</div>"
      ],
      "text/plain": [
       "          category main_category   currency   deadline    goal  \\\n",
       "316658  Publishing    Publishing  cur_other 2015-10-31  1900.0   \n",
       "\n",
       "                  launched   state    country  usd_goal_real  \\\n",
       "316658 1970-01-01 01:00:00  failed  cou_other        1905.97   \n",
       "\n",
       "               time_period  time_period_days  \n",
       "316658 16738 days 23:00:00             16738  "
      ]
     },
     "execution_count": 47,
     "metadata": {},
     "output_type": "execute_result"
    }
   ],
   "source": [
    "data[data['time_period_days']==16738]"
   ]
  },
  {
   "cell_type": "markdown",
   "metadata": {},
   "source": [
    "この分布から29日間募集しているものが多く全体の44.72%を占めていることがわかる．<br>\n",
    "また最大で16738日間(約45年間)行っているものもあることがわかった．<br>\n",
    "しかしこのデータはlaunchedが1970年1月1日になっており，以下のkickstarterのHPに記載されているkickstarterの誕生(2009年4月28日)以前から存在することになるので，外れ値であると考えられる．<br>\n",
    "https://www.kickstarter.com/about?ref=global-footer<br>\n",
    "ここでlaunchedのデータについて2009年4月28日以前に開始されているデータは以下の12件である．"
   ]
  },
  {
   "cell_type": "code",
   "execution_count": 48,
   "metadata": {},
   "outputs": [
    {
     "data": {
      "text/html": [
       "<div>\n",
       "<style scoped>\n",
       "    .dataframe tbody tr th:only-of-type {\n",
       "        vertical-align: middle;\n",
       "    }\n",
       "\n",
       "    .dataframe tbody tr th {\n",
       "        vertical-align: top;\n",
       "    }\n",
       "\n",
       "    .dataframe thead th {\n",
       "        text-align: right;\n",
       "    }\n",
       "</style>\n",
       "<table border=\"1\" class=\"dataframe\">\n",
       "  <thead>\n",
       "    <tr style=\"text-align: right;\">\n",
       "      <th></th>\n",
       "      <th>category</th>\n",
       "      <th>main_category</th>\n",
       "      <th>currency</th>\n",
       "      <th>deadline</th>\n",
       "      <th>goal</th>\n",
       "      <th>launched</th>\n",
       "      <th>state</th>\n",
       "      <th>country</th>\n",
       "      <th>usd_goal_real</th>\n",
       "      <th>time_period</th>\n",
       "      <th>time_period_days</th>\n",
       "    </tr>\n",
       "  </thead>\n",
       "  <tbody>\n",
       "    <tr>\n",
       "      <th>2822</th>\n",
       "      <td>Film &amp; Video</td>\n",
       "      <td>Film &amp; Video</td>\n",
       "      <td>USD</td>\n",
       "      <td>2010-09-15</td>\n",
       "      <td>5000.0</td>\n",
       "      <td>1970-01-01 01:00:00</td>\n",
       "      <td>failed</td>\n",
       "      <td>US</td>\n",
       "      <td>5000.00</td>\n",
       "      <td>14866 days 23:00:00</td>\n",
       "      <td>14866</td>\n",
       "    </tr>\n",
       "    <tr>\n",
       "      <th>47802</th>\n",
       "      <td>Art</td>\n",
       "      <td>Art</td>\n",
       "      <td>USD</td>\n",
       "      <td>2010-08-14</td>\n",
       "      <td>15000.0</td>\n",
       "      <td>1970-01-01 01:00:00</td>\n",
       "      <td>failed</td>\n",
       "      <td>US</td>\n",
       "      <td>15000.00</td>\n",
       "      <td>14834 days 23:00:00</td>\n",
       "      <td>14834</td>\n",
       "    </tr>\n",
       "    <tr>\n",
       "      <th>74841</th>\n",
       "      <td>Film &amp; Video</td>\n",
       "      <td>Film &amp; Video</td>\n",
       "      <td>USD</td>\n",
       "      <td>2010-05-21</td>\n",
       "      <td>700.0</td>\n",
       "      <td>1970-01-01 01:00:00</td>\n",
       "      <td>failed</td>\n",
       "      <td>US</td>\n",
       "      <td>700.00</td>\n",
       "      <td>14749 days 23:00:00</td>\n",
       "      <td>14749</td>\n",
       "    </tr>\n",
       "    <tr>\n",
       "      <th>93894</th>\n",
       "      <td>Theater</td>\n",
       "      <td>Theater</td>\n",
       "      <td>USD</td>\n",
       "      <td>2010-06-01</td>\n",
       "      <td>4000.0</td>\n",
       "      <td>1970-01-01 01:00:00</td>\n",
       "      <td>failed</td>\n",
       "      <td>US</td>\n",
       "      <td>4000.00</td>\n",
       "      <td>14760 days 23:00:00</td>\n",
       "      <td>14760</td>\n",
       "    </tr>\n",
       "    <tr>\n",
       "      <th>121749</th>\n",
       "      <td>Fashion</td>\n",
       "      <td>Fashion</td>\n",
       "      <td>USD</td>\n",
       "      <td>2009-05-26</td>\n",
       "      <td>1900.0</td>\n",
       "      <td>2009-04-27 14:10:39</td>\n",
       "      <td>failed</td>\n",
       "      <td>US</td>\n",
       "      <td>1900.00</td>\n",
       "      <td>28 days 09:49:21</td>\n",
       "      <td>28</td>\n",
       "    </tr>\n",
       "    <tr>\n",
       "      <th>137539</th>\n",
       "      <td>Illustration</td>\n",
       "      <td>Art</td>\n",
       "      <td>USD</td>\n",
       "      <td>2009-05-03</td>\n",
       "      <td>20.0</td>\n",
       "      <td>2009-04-24 21:52:03</td>\n",
       "      <td>successful</td>\n",
       "      <td>US</td>\n",
       "      <td>20.00</td>\n",
       "      <td>8 days 02:07:57</td>\n",
       "      <td>8</td>\n",
       "    </tr>\n",
       "    <tr>\n",
       "      <th>168009</th>\n",
       "      <td>Fashion</td>\n",
       "      <td>Fashion</td>\n",
       "      <td>USD</td>\n",
       "      <td>2009-05-31</td>\n",
       "      <td>1000.0</td>\n",
       "      <td>2009-04-21 21:02:48</td>\n",
       "      <td>failed</td>\n",
       "      <td>US</td>\n",
       "      <td>1000.00</td>\n",
       "      <td>39 days 02:57:12</td>\n",
       "      <td>39</td>\n",
       "    </tr>\n",
       "    <tr>\n",
       "      <th>246089</th>\n",
       "      <td>Music</td>\n",
       "      <td>Music</td>\n",
       "      <td>USD</td>\n",
       "      <td>2010-05-04</td>\n",
       "      <td>10000.0</td>\n",
       "      <td>1970-01-01 01:00:00</td>\n",
       "      <td>failed</td>\n",
       "      <td>US</td>\n",
       "      <td>10000.00</td>\n",
       "      <td>14732 days 23:00:00</td>\n",
       "      <td>14732</td>\n",
       "    </tr>\n",
       "    <tr>\n",
       "      <th>271793</th>\n",
       "      <td>Design</td>\n",
       "      <td>Design</td>\n",
       "      <td>USD</td>\n",
       "      <td>2010-04-10</td>\n",
       "      <td>500.0</td>\n",
       "      <td>1970-01-01 01:00:00</td>\n",
       "      <td>failed</td>\n",
       "      <td>US</td>\n",
       "      <td>500.00</td>\n",
       "      <td>14708 days 23:00:00</td>\n",
       "      <td>14708</td>\n",
       "    </tr>\n",
       "    <tr>\n",
       "      <th>316658</th>\n",
       "      <td>Publishing</td>\n",
       "      <td>Publishing</td>\n",
       "      <td>cur_other</td>\n",
       "      <td>2015-10-31</td>\n",
       "      <td>1900.0</td>\n",
       "      <td>1970-01-01 01:00:00</td>\n",
       "      <td>failed</td>\n",
       "      <td>cou_other</td>\n",
       "      <td>1905.97</td>\n",
       "      <td>16738 days 23:00:00</td>\n",
       "      <td>16738</td>\n",
       "    </tr>\n",
       "    <tr>\n",
       "      <th>319623</th>\n",
       "      <td>Shorts</td>\n",
       "      <td>Film &amp; Video</td>\n",
       "      <td>USD</td>\n",
       "      <td>2009-07-20</td>\n",
       "      <td>80000.0</td>\n",
       "      <td>2009-04-23 00:07:53</td>\n",
       "      <td>failed</td>\n",
       "      <td>US</td>\n",
       "      <td>80000.00</td>\n",
       "      <td>87 days 23:52:07</td>\n",
       "      <td>87</td>\n",
       "    </tr>\n",
       "    <tr>\n",
       "      <th>322995</th>\n",
       "      <td>Software</td>\n",
       "      <td>Technology</td>\n",
       "      <td>USD</td>\n",
       "      <td>2009-07-14</td>\n",
       "      <td>99.0</td>\n",
       "      <td>2009-04-25 17:36:21</td>\n",
       "      <td>successful</td>\n",
       "      <td>US</td>\n",
       "      <td>99.00</td>\n",
       "      <td>79 days 06:23:39</td>\n",
       "      <td>79</td>\n",
       "    </tr>\n",
       "  </tbody>\n",
       "</table>\n",
       "</div>"
      ],
      "text/plain": [
       "            category main_category   currency   deadline     goal  \\\n",
       "2822    Film & Video  Film & Video        USD 2010-09-15   5000.0   \n",
       "47802            Art           Art        USD 2010-08-14  15000.0   \n",
       "74841   Film & Video  Film & Video        USD 2010-05-21    700.0   \n",
       "93894        Theater       Theater        USD 2010-06-01   4000.0   \n",
       "121749       Fashion       Fashion        USD 2009-05-26   1900.0   \n",
       "137539  Illustration           Art        USD 2009-05-03     20.0   \n",
       "168009       Fashion       Fashion        USD 2009-05-31   1000.0   \n",
       "246089         Music         Music        USD 2010-05-04  10000.0   \n",
       "271793        Design        Design        USD 2010-04-10    500.0   \n",
       "316658    Publishing    Publishing  cur_other 2015-10-31   1900.0   \n",
       "319623        Shorts  Film & Video        USD 2009-07-20  80000.0   \n",
       "322995      Software    Technology        USD 2009-07-14     99.0   \n",
       "\n",
       "                  launched       state    country  usd_goal_real  \\\n",
       "2822   1970-01-01 01:00:00      failed         US        5000.00   \n",
       "47802  1970-01-01 01:00:00      failed         US       15000.00   \n",
       "74841  1970-01-01 01:00:00      failed         US         700.00   \n",
       "93894  1970-01-01 01:00:00      failed         US        4000.00   \n",
       "121749 2009-04-27 14:10:39      failed         US        1900.00   \n",
       "137539 2009-04-24 21:52:03  successful         US          20.00   \n",
       "168009 2009-04-21 21:02:48      failed         US        1000.00   \n",
       "246089 1970-01-01 01:00:00      failed         US       10000.00   \n",
       "271793 1970-01-01 01:00:00      failed         US         500.00   \n",
       "316658 1970-01-01 01:00:00      failed  cou_other        1905.97   \n",
       "319623 2009-04-23 00:07:53      failed         US       80000.00   \n",
       "322995 2009-04-25 17:36:21  successful         US          99.00   \n",
       "\n",
       "               time_period  time_period_days  \n",
       "2822   14866 days 23:00:00             14866  \n",
       "47802  14834 days 23:00:00             14834  \n",
       "74841  14749 days 23:00:00             14749  \n",
       "93894  14760 days 23:00:00             14760  \n",
       "121749    28 days 09:49:21                28  \n",
       "137539     8 days 02:07:57                 8  \n",
       "168009    39 days 02:57:12                39  \n",
       "246089 14732 days 23:00:00             14732  \n",
       "271793 14708 days 23:00:00             14708  \n",
       "316658 16738 days 23:00:00             16738  \n",
       "319623    87 days 23:52:07                87  \n",
       "322995    79 days 06:23:39                79  "
      ]
     },
     "execution_count": 48,
     "metadata": {},
     "output_type": "execute_result"
    }
   ],
   "source": [
    "data[data['launched'] <= datetime.datetime(2009, 4, 28)]"
   ]
  },
  {
   "cell_type": "markdown",
   "metadata": {},
   "source": [
    "この12件のうちlaunchedが1970-01-01でない5件については，2009年4月28日以前から開始されているが募集期間の長さから考えて異常と言える数値ではないのでこの値を使用する．<br>\n",
    "一方，launchedが1970-01-01となった7件については明らかに異常であるので，time_period_daysが29日になるようにlaunchedを変更する．<br>\n",
    "29日としたのは募集期間が29日間のデータが最も多かったからである．"
   ]
  },
  {
   "cell_type": "code",
   "execution_count": 49,
   "metadata": {},
   "outputs": [
    {
     "name": "stderr",
     "output_type": "stream",
     "text": [
      "/Users/suke/python_env/py3env/lib/python3.7/site-packages/ipykernel_launcher.py:1: SettingWithCopyWarning: \n",
      "A value is trying to be set on a copy of a slice from a DataFrame\n",
      "\n",
      "See the caveats in the documentation: https://pandas.pydata.org/pandas-docs/stable/user_guide/indexing.html#returning-a-view-versus-a-copy\n",
      "  \"\"\"Entry point for launching an IPython kernel.\n"
     ]
    },
    {
     "data": {
      "text/plain": [
       "category                   Film & Video\n",
       "main_category              Film & Video\n",
       "currency                            USD\n",
       "deadline            2010-09-15 00:00:00\n",
       "goal                               5000\n",
       "launched            2010-08-17 00:00:00\n",
       "state                            failed\n",
       "country                              US\n",
       "usd_goal_real                      5000\n",
       "time_period         14866 days 23:00:00\n",
       "time_period_days                  14866\n",
       "Name: 2822, dtype: object"
      ]
     },
     "execution_count": 49,
     "metadata": {},
     "output_type": "execute_result"
    }
   ],
   "source": [
    "data['launched'][2822] =  datetime.datetime(2010, 8, 17)\n",
    "data.loc[2822]"
   ]
  },
  {
   "cell_type": "code",
   "execution_count": 50,
   "metadata": {},
   "outputs": [
    {
     "name": "stderr",
     "output_type": "stream",
     "text": [
      "/Users/suke/python_env/py3env/lib/python3.7/site-packages/ipykernel_launcher.py:1: SettingWithCopyWarning: \n",
      "A value is trying to be set on a copy of a slice from a DataFrame\n",
      "\n",
      "See the caveats in the documentation: https://pandas.pydata.org/pandas-docs/stable/user_guide/indexing.html#returning-a-view-versus-a-copy\n",
      "  \"\"\"Entry point for launching an IPython kernel.\n"
     ]
    },
    {
     "data": {
      "text/plain": [
       "category                            Art\n",
       "main_category                       Art\n",
       "currency                            USD\n",
       "deadline            2010-08-14 00:00:00\n",
       "goal                              15000\n",
       "launched            2010-07-16 00:00:00\n",
       "state                            failed\n",
       "country                              US\n",
       "usd_goal_real                     15000\n",
       "time_period         14834 days 23:00:00\n",
       "time_period_days                  14834\n",
       "Name: 47802, dtype: object"
      ]
     },
     "execution_count": 50,
     "metadata": {},
     "output_type": "execute_result"
    }
   ],
   "source": [
    "data['launched'][47802] =  datetime.datetime(2010, 7, 16)\n",
    "data.loc[47802]"
   ]
  },
  {
   "cell_type": "code",
   "execution_count": 51,
   "metadata": {},
   "outputs": [
    {
     "name": "stderr",
     "output_type": "stream",
     "text": [
      "/Users/suke/python_env/py3env/lib/python3.7/site-packages/ipykernel_launcher.py:1: SettingWithCopyWarning: \n",
      "A value is trying to be set on a copy of a slice from a DataFrame\n",
      "\n",
      "See the caveats in the documentation: https://pandas.pydata.org/pandas-docs/stable/user_guide/indexing.html#returning-a-view-versus-a-copy\n",
      "  \"\"\"Entry point for launching an IPython kernel.\n"
     ]
    },
    {
     "data": {
      "text/plain": [
       "category                   Film & Video\n",
       "main_category              Film & Video\n",
       "currency                            USD\n",
       "deadline            2010-05-21 00:00:00\n",
       "goal                                700\n",
       "launched            2010-04-22 00:00:00\n",
       "state                            failed\n",
       "country                              US\n",
       "usd_goal_real                       700\n",
       "time_period         14749 days 23:00:00\n",
       "time_period_days                  14749\n",
       "Name: 74841, dtype: object"
      ]
     },
     "execution_count": 51,
     "metadata": {},
     "output_type": "execute_result"
    }
   ],
   "source": [
    "data['launched'][74841] =  datetime.datetime(2010, 4, 22)\n",
    "data.loc[74841]"
   ]
  },
  {
   "cell_type": "code",
   "execution_count": 52,
   "metadata": {},
   "outputs": [
    {
     "name": "stderr",
     "output_type": "stream",
     "text": [
      "/Users/suke/python_env/py3env/lib/python3.7/site-packages/ipykernel_launcher.py:1: SettingWithCopyWarning: \n",
      "A value is trying to be set on a copy of a slice from a DataFrame\n",
      "\n",
      "See the caveats in the documentation: https://pandas.pydata.org/pandas-docs/stable/user_guide/indexing.html#returning-a-view-versus-a-copy\n",
      "  \"\"\"Entry point for launching an IPython kernel.\n"
     ]
    },
    {
     "data": {
      "text/plain": [
       "category                        Theater\n",
       "main_category                   Theater\n",
       "currency                            USD\n",
       "deadline            2010-06-01 00:00:00\n",
       "goal                               4000\n",
       "launched            2010-05-03 00:00:00\n",
       "state                            failed\n",
       "country                              US\n",
       "usd_goal_real                      4000\n",
       "time_period         14760 days 23:00:00\n",
       "time_period_days                  14760\n",
       "Name: 93894, dtype: object"
      ]
     },
     "execution_count": 52,
     "metadata": {},
     "output_type": "execute_result"
    }
   ],
   "source": [
    "data['launched'][93894] =  datetime.datetime(2010, 5, 3)\n",
    "data.loc[93894]"
   ]
  },
  {
   "cell_type": "code",
   "execution_count": 53,
   "metadata": {},
   "outputs": [
    {
     "name": "stderr",
     "output_type": "stream",
     "text": [
      "/Users/suke/python_env/py3env/lib/python3.7/site-packages/ipykernel_launcher.py:1: SettingWithCopyWarning: \n",
      "A value is trying to be set on a copy of a slice from a DataFrame\n",
      "\n",
      "See the caveats in the documentation: https://pandas.pydata.org/pandas-docs/stable/user_guide/indexing.html#returning-a-view-versus-a-copy\n",
      "  \"\"\"Entry point for launching an IPython kernel.\n"
     ]
    },
    {
     "data": {
      "text/plain": [
       "category                          Music\n",
       "main_category                     Music\n",
       "currency                            USD\n",
       "deadline            2010-05-04 00:00:00\n",
       "goal                              10000\n",
       "launched            2010-04-05 00:00:00\n",
       "state                            failed\n",
       "country                              US\n",
       "usd_goal_real                     10000\n",
       "time_period         14732 days 23:00:00\n",
       "time_period_days                  14732\n",
       "Name: 246089, dtype: object"
      ]
     },
     "execution_count": 53,
     "metadata": {},
     "output_type": "execute_result"
    }
   ],
   "source": [
    "data['launched'][246089] =  datetime.datetime(2010, 4, 5)\n",
    "data.loc[246089]"
   ]
  },
  {
   "cell_type": "code",
   "execution_count": 54,
   "metadata": {},
   "outputs": [
    {
     "name": "stderr",
     "output_type": "stream",
     "text": [
      "/Users/suke/python_env/py3env/lib/python3.7/site-packages/ipykernel_launcher.py:1: SettingWithCopyWarning: \n",
      "A value is trying to be set on a copy of a slice from a DataFrame\n",
      "\n",
      "See the caveats in the documentation: https://pandas.pydata.org/pandas-docs/stable/user_guide/indexing.html#returning-a-view-versus-a-copy\n",
      "  \"\"\"Entry point for launching an IPython kernel.\n"
     ]
    },
    {
     "data": {
      "text/plain": [
       "category                         Design\n",
       "main_category                    Design\n",
       "currency                            USD\n",
       "deadline            2010-04-10 00:00:00\n",
       "goal                                500\n",
       "launched            2010-03-12 00:00:00\n",
       "state                            failed\n",
       "country                              US\n",
       "usd_goal_real                       500\n",
       "time_period         14708 days 23:00:00\n",
       "time_period_days                  14708\n",
       "Name: 271793, dtype: object"
      ]
     },
     "execution_count": 54,
     "metadata": {},
     "output_type": "execute_result"
    }
   ],
   "source": [
    "data['launched'][271793] =  datetime.datetime(2010, 3, 12)\n",
    "data.loc[271793]"
   ]
  },
  {
   "cell_type": "code",
   "execution_count": 55,
   "metadata": {},
   "outputs": [
    {
     "name": "stderr",
     "output_type": "stream",
     "text": [
      "/Users/suke/python_env/py3env/lib/python3.7/site-packages/ipykernel_launcher.py:1: SettingWithCopyWarning: \n",
      "A value is trying to be set on a copy of a slice from a DataFrame\n",
      "\n",
      "See the caveats in the documentation: https://pandas.pydata.org/pandas-docs/stable/user_guide/indexing.html#returning-a-view-versus-a-copy\n",
      "  \"\"\"Entry point for launching an IPython kernel.\n"
     ]
    },
    {
     "data": {
      "text/plain": [
       "category                     Publishing\n",
       "main_category                Publishing\n",
       "currency                      cur_other\n",
       "deadline            2015-10-31 00:00:00\n",
       "goal                               1900\n",
       "launched            2015-10-02 00:00:00\n",
       "state                            failed\n",
       "country                       cou_other\n",
       "usd_goal_real                   1905.97\n",
       "time_period         16738 days 23:00:00\n",
       "time_period_days                  16738\n",
       "Name: 316658, dtype: object"
      ]
     },
     "execution_count": 55,
     "metadata": {},
     "output_type": "execute_result"
    }
   ],
   "source": [
    "data['launched'][316658] =  datetime.datetime(2015, 10, 2)\n",
    "data.loc[316658]"
   ]
  },
  {
   "cell_type": "code",
   "execution_count": 56,
   "metadata": {},
   "outputs": [
    {
     "data": {
      "text/html": [
       "<div>\n",
       "<style scoped>\n",
       "    .dataframe tbody tr th:only-of-type {\n",
       "        vertical-align: middle;\n",
       "    }\n",
       "\n",
       "    .dataframe tbody tr th {\n",
       "        vertical-align: top;\n",
       "    }\n",
       "\n",
       "    .dataframe thead th {\n",
       "        text-align: right;\n",
       "    }\n",
       "</style>\n",
       "<table border=\"1\" class=\"dataframe\">\n",
       "  <thead>\n",
       "    <tr style=\"text-align: right;\">\n",
       "      <th></th>\n",
       "      <th>category</th>\n",
       "      <th>main_category</th>\n",
       "      <th>currency</th>\n",
       "      <th>deadline</th>\n",
       "      <th>goal</th>\n",
       "      <th>launched</th>\n",
       "      <th>state</th>\n",
       "      <th>country</th>\n",
       "      <th>usd_goal_real</th>\n",
       "      <th>time_period</th>\n",
       "      <th>time_period_days</th>\n",
       "    </tr>\n",
       "  </thead>\n",
       "  <tbody>\n",
       "    <tr>\n",
       "      <th>121749</th>\n",
       "      <td>Fashion</td>\n",
       "      <td>Fashion</td>\n",
       "      <td>USD</td>\n",
       "      <td>2009-05-26</td>\n",
       "      <td>1900.0</td>\n",
       "      <td>2009-04-27 14:10:39</td>\n",
       "      <td>failed</td>\n",
       "      <td>US</td>\n",
       "      <td>1900.0</td>\n",
       "      <td>28 days 09:49:21</td>\n",
       "      <td>28</td>\n",
       "    </tr>\n",
       "    <tr>\n",
       "      <th>137539</th>\n",
       "      <td>Illustration</td>\n",
       "      <td>Art</td>\n",
       "      <td>USD</td>\n",
       "      <td>2009-05-03</td>\n",
       "      <td>20.0</td>\n",
       "      <td>2009-04-24 21:52:03</td>\n",
       "      <td>successful</td>\n",
       "      <td>US</td>\n",
       "      <td>20.0</td>\n",
       "      <td>8 days 02:07:57</td>\n",
       "      <td>8</td>\n",
       "    </tr>\n",
       "    <tr>\n",
       "      <th>168009</th>\n",
       "      <td>Fashion</td>\n",
       "      <td>Fashion</td>\n",
       "      <td>USD</td>\n",
       "      <td>2009-05-31</td>\n",
       "      <td>1000.0</td>\n",
       "      <td>2009-04-21 21:02:48</td>\n",
       "      <td>failed</td>\n",
       "      <td>US</td>\n",
       "      <td>1000.0</td>\n",
       "      <td>39 days 02:57:12</td>\n",
       "      <td>39</td>\n",
       "    </tr>\n",
       "    <tr>\n",
       "      <th>319623</th>\n",
       "      <td>Shorts</td>\n",
       "      <td>Film &amp; Video</td>\n",
       "      <td>USD</td>\n",
       "      <td>2009-07-20</td>\n",
       "      <td>80000.0</td>\n",
       "      <td>2009-04-23 00:07:53</td>\n",
       "      <td>failed</td>\n",
       "      <td>US</td>\n",
       "      <td>80000.0</td>\n",
       "      <td>87 days 23:52:07</td>\n",
       "      <td>87</td>\n",
       "    </tr>\n",
       "    <tr>\n",
       "      <th>322995</th>\n",
       "      <td>Software</td>\n",
       "      <td>Technology</td>\n",
       "      <td>USD</td>\n",
       "      <td>2009-07-14</td>\n",
       "      <td>99.0</td>\n",
       "      <td>2009-04-25 17:36:21</td>\n",
       "      <td>successful</td>\n",
       "      <td>US</td>\n",
       "      <td>99.0</td>\n",
       "      <td>79 days 06:23:39</td>\n",
       "      <td>79</td>\n",
       "    </tr>\n",
       "  </tbody>\n",
       "</table>\n",
       "</div>"
      ],
      "text/plain": [
       "            category main_category currency   deadline     goal  \\\n",
       "121749       Fashion       Fashion      USD 2009-05-26   1900.0   \n",
       "137539  Illustration           Art      USD 2009-05-03     20.0   \n",
       "168009       Fashion       Fashion      USD 2009-05-31   1000.0   \n",
       "319623        Shorts  Film & Video      USD 2009-07-20  80000.0   \n",
       "322995      Software    Technology      USD 2009-07-14     99.0   \n",
       "\n",
       "                  launched       state country  usd_goal_real  \\\n",
       "121749 2009-04-27 14:10:39      failed      US         1900.0   \n",
       "137539 2009-04-24 21:52:03  successful      US           20.0   \n",
       "168009 2009-04-21 21:02:48      failed      US         1000.0   \n",
       "319623 2009-04-23 00:07:53      failed      US        80000.0   \n",
       "322995 2009-04-25 17:36:21  successful      US           99.0   \n",
       "\n",
       "            time_period  time_period_days  \n",
       "121749 28 days 09:49:21                28  \n",
       "137539  8 days 02:07:57                 8  \n",
       "168009 39 days 02:57:12                39  \n",
       "319623 87 days 23:52:07                87  \n",
       "322995 79 days 06:23:39                79  "
      ]
     },
     "execution_count": 56,
     "metadata": {},
     "output_type": "execute_result"
    }
   ],
   "source": [
    "# 再度確認\n",
    "data[data['launched'] <= datetime.datetime(2009, 4, 28)]"
   ]
  },
  {
   "cell_type": "code",
   "execution_count": 57,
   "metadata": {},
   "outputs": [],
   "source": [
    "# 再度，募集していた期間を新たな変数time_periodとしてdataに加える\n",
    "data['time_period'] = data['deadline'] - data['launched']\n",
    "data['time_period_days'] = data['time_period'].dt.days"
   ]
  },
  {
   "cell_type": "code",
   "execution_count": 58,
   "metadata": {},
   "outputs": [
    {
     "data": {
      "text/plain": [
       "29    168119\n",
       "59     33018\n",
       "44     17552\n",
       "30     13197\n",
       "34     10014\n",
       "       ...  \n",
       "82        54\n",
       "76        52\n",
       "73        46\n",
       "78        39\n",
       "91        22\n",
       "Name: time_period_days, Length: 92, dtype: int64"
      ]
     },
     "execution_count": 58,
     "metadata": {},
     "output_type": "execute_result"
    }
   ],
   "source": [
    "data['time_period_days'].value_counts()"
   ]
  },
  {
   "cell_type": "markdown",
   "metadata": {},
   "source": [
    "launchedの異常値はこれで取り除くことができたが，deadlineについても異常値の除去を行う必要がある．<br>\n",
    "deadlineの異常値として考えられるものはlaunchedがdeadlineよりも後に来ている，つまり変数time_periodが負の値になっている状況である．<br>\n",
    "まず異常値の候補である，変数time_period_daysが0以下のデータを抽出する．"
   ]
  },
  {
   "cell_type": "code",
   "execution_count": 59,
   "metadata": {},
   "outputs": [
    {
     "data": {
      "text/html": [
       "<div>\n",
       "<style scoped>\n",
       "    .dataframe tbody tr th:only-of-type {\n",
       "        vertical-align: middle;\n",
       "    }\n",
       "\n",
       "    .dataframe tbody tr th {\n",
       "        vertical-align: top;\n",
       "    }\n",
       "\n",
       "    .dataframe thead th {\n",
       "        text-align: right;\n",
       "    }\n",
       "</style>\n",
       "<table border=\"1\" class=\"dataframe\">\n",
       "  <thead>\n",
       "    <tr style=\"text-align: right;\">\n",
       "      <th></th>\n",
       "      <th>category</th>\n",
       "      <th>main_category</th>\n",
       "      <th>currency</th>\n",
       "      <th>deadline</th>\n",
       "      <th>goal</th>\n",
       "      <th>launched</th>\n",
       "      <th>state</th>\n",
       "      <th>country</th>\n",
       "      <th>usd_goal_real</th>\n",
       "      <th>time_period</th>\n",
       "      <th>time_period_days</th>\n",
       "    </tr>\n",
       "  </thead>\n",
       "  <tbody>\n",
       "    <tr>\n",
       "      <th>888</th>\n",
       "      <td>Video Games</td>\n",
       "      <td>Games</td>\n",
       "      <td>GBP</td>\n",
       "      <td>2015-06-11</td>\n",
       "      <td>5000.0</td>\n",
       "      <td>2015-06-10 19:03:39</td>\n",
       "      <td>failed</td>\n",
       "      <td>GB</td>\n",
       "      <td>7743.29</td>\n",
       "      <td>0 days 04:56:21</td>\n",
       "      <td>0</td>\n",
       "    </tr>\n",
       "    <tr>\n",
       "      <th>926</th>\n",
       "      <td>Other</td>\n",
       "      <td>Music</td>\n",
       "      <td>USD</td>\n",
       "      <td>2016-02-19</td>\n",
       "      <td>500.0</td>\n",
       "      <td>2016-02-18 04:29:22</td>\n",
       "      <td>failed</td>\n",
       "      <td>US</td>\n",
       "      <td>500.00</td>\n",
       "      <td>0 days 19:30:38</td>\n",
       "      <td>0</td>\n",
       "    </tr>\n",
       "    <tr>\n",
       "      <th>10361</th>\n",
       "      <td>Software</td>\n",
       "      <td>Technology</td>\n",
       "      <td>USD</td>\n",
       "      <td>2017-03-05</td>\n",
       "      <td>10000000.0</td>\n",
       "      <td>2017-03-04 01:25:03</td>\n",
       "      <td>failed</td>\n",
       "      <td>US</td>\n",
       "      <td>10000000.00</td>\n",
       "      <td>0 days 22:34:57</td>\n",
       "      <td>0</td>\n",
       "    </tr>\n",
       "    <tr>\n",
       "      <th>12390</th>\n",
       "      <td>Film &amp; Video</td>\n",
       "      <td>Film &amp; Video</td>\n",
       "      <td>GBP</td>\n",
       "      <td>2016-06-15</td>\n",
       "      <td>130.0</td>\n",
       "      <td>2016-06-14 02:24:00</td>\n",
       "      <td>successful</td>\n",
       "      <td>GB</td>\n",
       "      <td>185.73</td>\n",
       "      <td>0 days 21:36:00</td>\n",
       "      <td>0</td>\n",
       "    </tr>\n",
       "    <tr>\n",
       "      <th>20200</th>\n",
       "      <td>Art</td>\n",
       "      <td>Art</td>\n",
       "      <td>USD</td>\n",
       "      <td>2016-04-02</td>\n",
       "      <td>8888.0</td>\n",
       "      <td>2016-04-01 08:38:27</td>\n",
       "      <td>failed</td>\n",
       "      <td>US</td>\n",
       "      <td>8888.00</td>\n",
       "      <td>0 days 15:21:33</td>\n",
       "      <td>0</td>\n",
       "    </tr>\n",
       "    <tr>\n",
       "      <th>...</th>\n",
       "      <td>...</td>\n",
       "      <td>...</td>\n",
       "      <td>...</td>\n",
       "      <td>...</td>\n",
       "      <td>...</td>\n",
       "      <td>...</td>\n",
       "      <td>...</td>\n",
       "      <td>...</td>\n",
       "      <td>...</td>\n",
       "      <td>...</td>\n",
       "      <td>...</td>\n",
       "    </tr>\n",
       "    <tr>\n",
       "      <th>365859</th>\n",
       "      <td>Other</td>\n",
       "      <td>Publishing</td>\n",
       "      <td>GBP</td>\n",
       "      <td>2014-03-02</td>\n",
       "      <td>5.0</td>\n",
       "      <td>2014-03-01 13:20:34</td>\n",
       "      <td>successful</td>\n",
       "      <td>GB</td>\n",
       "      <td>8.39</td>\n",
       "      <td>0 days 10:39:26</td>\n",
       "      <td>0</td>\n",
       "    </tr>\n",
       "    <tr>\n",
       "      <th>368167</th>\n",
       "      <td>Other</td>\n",
       "      <td>Art</td>\n",
       "      <td>cur_other</td>\n",
       "      <td>2016-08-02</td>\n",
       "      <td>5.0</td>\n",
       "      <td>2016-08-01 21:44:53</td>\n",
       "      <td>successful</td>\n",
       "      <td>cou_other</td>\n",
       "      <td>3.73</td>\n",
       "      <td>0 days 02:15:07</td>\n",
       "      <td>0</td>\n",
       "    </tr>\n",
       "    <tr>\n",
       "      <th>369608</th>\n",
       "      <td>Tabletop Games</td>\n",
       "      <td>Games</td>\n",
       "      <td>EUR</td>\n",
       "      <td>2017-08-06</td>\n",
       "      <td>69.0</td>\n",
       "      <td>2017-08-05 18:05:40</td>\n",
       "      <td>failed</td>\n",
       "      <td>cou_other</td>\n",
       "      <td>81.18</td>\n",
       "      <td>0 days 05:54:20</td>\n",
       "      <td>0</td>\n",
       "    </tr>\n",
       "    <tr>\n",
       "      <th>372775</th>\n",
       "      <td>Publishing</td>\n",
       "      <td>Publishing</td>\n",
       "      <td>USD</td>\n",
       "      <td>2016-02-28</td>\n",
       "      <td>250.0</td>\n",
       "      <td>2016-02-27 04:40:59</td>\n",
       "      <td>successful</td>\n",
       "      <td>US</td>\n",
       "      <td>250.00</td>\n",
       "      <td>0 days 19:19:01</td>\n",
       "      <td>0</td>\n",
       "    </tr>\n",
       "    <tr>\n",
       "      <th>374520</th>\n",
       "      <td>Art</td>\n",
       "      <td>Art</td>\n",
       "      <td>USD</td>\n",
       "      <td>2017-12-15</td>\n",
       "      <td>1000.0</td>\n",
       "      <td>2017-12-14 09:01:39</td>\n",
       "      <td>successful</td>\n",
       "      <td>US</td>\n",
       "      <td>1000.00</td>\n",
       "      <td>0 days 14:58:21</td>\n",
       "      <td>0</td>\n",
       "    </tr>\n",
       "  </tbody>\n",
       "</table>\n",
       "<p>102 rows × 11 columns</p>\n",
       "</div>"
      ],
      "text/plain": [
       "              category main_category   currency   deadline        goal  \\\n",
       "888        Video Games         Games        GBP 2015-06-11      5000.0   \n",
       "926              Other         Music        USD 2016-02-19       500.0   \n",
       "10361         Software    Technology        USD 2017-03-05  10000000.0   \n",
       "12390     Film & Video  Film & Video        GBP 2016-06-15       130.0   \n",
       "20200              Art           Art        USD 2016-04-02      8888.0   \n",
       "...                ...           ...        ...        ...         ...   \n",
       "365859           Other    Publishing        GBP 2014-03-02         5.0   \n",
       "368167           Other           Art  cur_other 2016-08-02         5.0   \n",
       "369608  Tabletop Games         Games        EUR 2017-08-06        69.0   \n",
       "372775      Publishing    Publishing        USD 2016-02-28       250.0   \n",
       "374520             Art           Art        USD 2017-12-15      1000.0   \n",
       "\n",
       "                  launched       state    country  usd_goal_real  \\\n",
       "888    2015-06-10 19:03:39      failed         GB        7743.29   \n",
       "926    2016-02-18 04:29:22      failed         US         500.00   \n",
       "10361  2017-03-04 01:25:03      failed         US    10000000.00   \n",
       "12390  2016-06-14 02:24:00  successful         GB         185.73   \n",
       "20200  2016-04-01 08:38:27      failed         US        8888.00   \n",
       "...                    ...         ...        ...            ...   \n",
       "365859 2014-03-01 13:20:34  successful         GB           8.39   \n",
       "368167 2016-08-01 21:44:53  successful  cou_other           3.73   \n",
       "369608 2017-08-05 18:05:40      failed  cou_other          81.18   \n",
       "372775 2016-02-27 04:40:59  successful         US         250.00   \n",
       "374520 2017-12-14 09:01:39  successful         US        1000.00   \n",
       "\n",
       "           time_period  time_period_days  \n",
       "888    0 days 04:56:21                 0  \n",
       "926    0 days 19:30:38                 0  \n",
       "10361  0 days 22:34:57                 0  \n",
       "12390  0 days 21:36:00                 0  \n",
       "20200  0 days 15:21:33                 0  \n",
       "...                ...               ...  \n",
       "365859 0 days 10:39:26                 0  \n",
       "368167 0 days 02:15:07                 0  \n",
       "369608 0 days 05:54:20                 0  \n",
       "372775 0 days 19:19:01                 0  \n",
       "374520 0 days 14:58:21                 0  \n",
       "\n",
       "[102 rows x 11 columns]"
      ]
     },
     "execution_count": 59,
     "metadata": {},
     "output_type": "execute_result"
    }
   ],
   "source": [
    "data[data['time_period_days']<=0]"
   ]
  },
  {
   "cell_type": "markdown",
   "metadata": {},
   "source": [
    "募集期間が1日以下のデータは102件あることがわかる．<br>\n",
    "この中でtime_periodが負の値になっているものを見つけることを考える．<br>\n",
    "ここでtime_periodはdeadline - launchedを計算しているので，time_periodの絶対値とtime_periodが一致しないデータは異常であると考えられるので，全データに対してtime_periodとtime_periodの絶対値の比較を行う．<br>"
   ]
  },
  {
   "cell_type": "code",
   "execution_count": 60,
   "metadata": {},
   "outputs": [
    {
     "data": {
      "text/html": [
       "<div>\n",
       "<style scoped>\n",
       "    .dataframe tbody tr th:only-of-type {\n",
       "        vertical-align: middle;\n",
       "    }\n",
       "\n",
       "    .dataframe tbody tr th {\n",
       "        vertical-align: top;\n",
       "    }\n",
       "\n",
       "    .dataframe thead th {\n",
       "        text-align: right;\n",
       "    }\n",
       "</style>\n",
       "<table border=\"1\" class=\"dataframe\">\n",
       "  <thead>\n",
       "    <tr style=\"text-align: right;\">\n",
       "      <th></th>\n",
       "      <th>category</th>\n",
       "      <th>main_category</th>\n",
       "      <th>currency</th>\n",
       "      <th>deadline</th>\n",
       "      <th>goal</th>\n",
       "      <th>launched</th>\n",
       "      <th>state</th>\n",
       "      <th>country</th>\n",
       "      <th>usd_goal_real</th>\n",
       "      <th>time_period</th>\n",
       "      <th>time_period_days</th>\n",
       "    </tr>\n",
       "  </thead>\n",
       "  <tbody>\n",
       "  </tbody>\n",
       "</table>\n",
       "</div>"
      ],
      "text/plain": [
       "Empty DataFrame\n",
       "Columns: [category, main_category, currency, deadline, goal, launched, state, country, usd_goal_real, time_period, time_period_days]\n",
       "Index: []"
      ]
     },
     "execution_count": 60,
     "metadata": {},
     "output_type": "execute_result"
    }
   ],
   "source": [
    "data[data['time_period']!=abs(data['deadline'] - data['launched'])]"
   ]
  },
  {
   "cell_type": "markdown",
   "metadata": {},
   "source": [
    "上記のようにtime_periodとtime_periodの絶対値が一致しないデータは存在しないため，deadlineについては異常値は存在しないと考えられる．"
   ]
  },
  {
   "cell_type": "code",
   "execution_count": 61,
   "metadata": {},
   "outputs": [
    {
     "data": {
      "image/png": "[encoded data removed]",
      "text/plain": [
       "<Figure size 1440x720 with 1 Axes>"
      ]
     },
     "metadata": {
      "needs_background": "light"
     },
     "output_type": "display_data"
    }
   ],
   "source": [
    "# 異常値変更後の頻度分布\n",
    "plt.figure(figsize=(20, 10))\n",
    "sns.countplot(x='time_period_days', data=data)\n",
    "plt.tight_layout()"
   ]
  },
  {
   "cell_type": "code",
   "execution_count": 62,
   "metadata": {},
   "outputs": [
    {
     "data": {
      "text/plain": [
       "91"
      ]
     },
     "execution_count": 62,
     "metadata": {},
     "output_type": "execute_result"
    }
   ],
   "source": [
    "# 異常値変更後の最大値\n",
    "data['time_period_days'].max()"
   ]
  },
  {
   "cell_type": "markdown",
   "metadata": {},
   "source": [
    "変数time_periodは日数をtime_period_daysとして取り出したので削除する．"
   ]
  },
  {
   "cell_type": "code",
   "execution_count": 63,
   "metadata": {},
   "outputs": [
    {
     "data": {
      "text/html": [
       "<div>\n",
       "<style scoped>\n",
       "    .dataframe tbody tr th:only-of-type {\n",
       "        vertical-align: middle;\n",
       "    }\n",
       "\n",
       "    .dataframe tbody tr th {\n",
       "        vertical-align: top;\n",
       "    }\n",
       "\n",
       "    .dataframe thead th {\n",
       "        text-align: right;\n",
       "    }\n",
       "</style>\n",
       "<table border=\"1\" class=\"dataframe\">\n",
       "  <thead>\n",
       "    <tr style=\"text-align: right;\">\n",
       "      <th></th>\n",
       "      <th>category</th>\n",
       "      <th>main_category</th>\n",
       "      <th>currency</th>\n",
       "      <th>deadline</th>\n",
       "      <th>goal</th>\n",
       "      <th>launched</th>\n",
       "      <th>state</th>\n",
       "      <th>country</th>\n",
       "      <th>usd_goal_real</th>\n",
       "      <th>time_period_days</th>\n",
       "    </tr>\n",
       "  </thead>\n",
       "  <tbody>\n",
       "    <tr>\n",
       "      <th>0</th>\n",
       "      <td>Other</td>\n",
       "      <td>Publishing</td>\n",
       "      <td>GBP</td>\n",
       "      <td>2015-10-09</td>\n",
       "      <td>1000.0</td>\n",
       "      <td>2015-08-11 12:12:28</td>\n",
       "      <td>failed</td>\n",
       "      <td>GB</td>\n",
       "      <td>1533.95</td>\n",
       "      <td>58</td>\n",
       "    </tr>\n",
       "    <tr>\n",
       "      <th>1</th>\n",
       "      <td>Narrative Film</td>\n",
       "      <td>Film &amp; Video</td>\n",
       "      <td>USD</td>\n",
       "      <td>2017-11-01</td>\n",
       "      <td>30000.0</td>\n",
       "      <td>2017-09-02 04:43:57</td>\n",
       "      <td>failed</td>\n",
       "      <td>US</td>\n",
       "      <td>30000.00</td>\n",
       "      <td>59</td>\n",
       "    </tr>\n",
       "    <tr>\n",
       "      <th>2</th>\n",
       "      <td>Narrative Film</td>\n",
       "      <td>Film &amp; Video</td>\n",
       "      <td>USD</td>\n",
       "      <td>2013-02-26</td>\n",
       "      <td>45000.0</td>\n",
       "      <td>2013-01-12 00:20:50</td>\n",
       "      <td>failed</td>\n",
       "      <td>US</td>\n",
       "      <td>45000.00</td>\n",
       "      <td>44</td>\n",
       "    </tr>\n",
       "    <tr>\n",
       "      <th>3</th>\n",
       "      <td>Music</td>\n",
       "      <td>Music</td>\n",
       "      <td>USD</td>\n",
       "      <td>2012-04-16</td>\n",
       "      <td>5000.0</td>\n",
       "      <td>2012-03-17 03:24:11</td>\n",
       "      <td>failed</td>\n",
       "      <td>US</td>\n",
       "      <td>5000.00</td>\n",
       "      <td>29</td>\n",
       "    </tr>\n",
       "    <tr>\n",
       "      <th>4</th>\n",
       "      <td>Film &amp; Video</td>\n",
       "      <td>Film &amp; Video</td>\n",
       "      <td>USD</td>\n",
       "      <td>2015-08-29</td>\n",
       "      <td>19500.0</td>\n",
       "      <td>2015-07-04 08:35:03</td>\n",
       "      <td>failed</td>\n",
       "      <td>US</td>\n",
       "      <td>19500.00</td>\n",
       "      <td>55</td>\n",
       "    </tr>\n",
       "  </tbody>\n",
       "</table>\n",
       "</div>"
      ],
      "text/plain": [
       "         category main_category currency   deadline     goal  \\\n",
       "0           Other    Publishing      GBP 2015-10-09   1000.0   \n",
       "1  Narrative Film  Film & Video      USD 2017-11-01  30000.0   \n",
       "2  Narrative Film  Film & Video      USD 2013-02-26  45000.0   \n",
       "3           Music         Music      USD 2012-04-16   5000.0   \n",
       "4    Film & Video  Film & Video      USD 2015-08-29  19500.0   \n",
       "\n",
       "             launched   state country  usd_goal_real  time_period_days  \n",
       "0 2015-08-11 12:12:28  failed      GB        1533.95                58  \n",
       "1 2017-09-02 04:43:57  failed      US       30000.00                59  \n",
       "2 2013-01-12 00:20:50  failed      US       45000.00                44  \n",
       "3 2012-03-17 03:24:11  failed      US        5000.00                29  \n",
       "4 2015-07-04 08:35:03  failed      US       19500.00                55  "
      ]
     },
     "execution_count": 63,
     "metadata": {},
     "output_type": "execute_result"
    }
   ],
   "source": [
    "# dataから説明変数として用いない変数を消去\n",
    "data.drop(['time_period'], axis=1, inplace=True)\n",
    "\n",
    "data.head()"
   ]
  },
  {
   "cell_type": "markdown",
   "metadata": {},
   "source": [
    "### launched_month"
   ]
  },
  {
   "cell_type": "markdown",
   "metadata": {},
   "source": [
    "ここではlaunchedの月の情報を抽出する．<br>\n",
    "月の情報はlaunchedになった時期の情報を持っており，季節による違いを見るために使用する．"
   ]
  },
  {
   "cell_type": "code",
   "execution_count": 64,
   "metadata": {},
   "outputs": [
    {
     "data": {
      "text/html": [
       "<div>\n",
       "<style scoped>\n",
       "    .dataframe tbody tr th:only-of-type {\n",
       "        vertical-align: middle;\n",
       "    }\n",
       "\n",
       "    .dataframe tbody tr th {\n",
       "        vertical-align: top;\n",
       "    }\n",
       "\n",
       "    .dataframe thead th {\n",
       "        text-align: right;\n",
       "    }\n",
       "</style>\n",
       "<table border=\"1\" class=\"dataframe\">\n",
       "  <thead>\n",
       "    <tr style=\"text-align: right;\">\n",
       "      <th></th>\n",
       "      <th>category</th>\n",
       "      <th>main_category</th>\n",
       "      <th>currency</th>\n",
       "      <th>deadline</th>\n",
       "      <th>goal</th>\n",
       "      <th>launched</th>\n",
       "      <th>state</th>\n",
       "      <th>country</th>\n",
       "      <th>usd_goal_real</th>\n",
       "      <th>time_period_days</th>\n",
       "      <th>launched_month</th>\n",
       "    </tr>\n",
       "  </thead>\n",
       "  <tbody>\n",
       "    <tr>\n",
       "      <th>0</th>\n",
       "      <td>Other</td>\n",
       "      <td>Publishing</td>\n",
       "      <td>GBP</td>\n",
       "      <td>2015-10-09</td>\n",
       "      <td>1000.0</td>\n",
       "      <td>2015-08-11 12:12:28</td>\n",
       "      <td>failed</td>\n",
       "      <td>GB</td>\n",
       "      <td>1533.95</td>\n",
       "      <td>58</td>\n",
       "      <td>8</td>\n",
       "    </tr>\n",
       "    <tr>\n",
       "      <th>1</th>\n",
       "      <td>Narrative Film</td>\n",
       "      <td>Film &amp; Video</td>\n",
       "      <td>USD</td>\n",
       "      <td>2017-11-01</td>\n",
       "      <td>30000.0</td>\n",
       "      <td>2017-09-02 04:43:57</td>\n",
       "      <td>failed</td>\n",
       "      <td>US</td>\n",
       "      <td>30000.00</td>\n",
       "      <td>59</td>\n",
       "      <td>9</td>\n",
       "    </tr>\n",
       "    <tr>\n",
       "      <th>2</th>\n",
       "      <td>Narrative Film</td>\n",
       "      <td>Film &amp; Video</td>\n",
       "      <td>USD</td>\n",
       "      <td>2013-02-26</td>\n",
       "      <td>45000.0</td>\n",
       "      <td>2013-01-12 00:20:50</td>\n",
       "      <td>failed</td>\n",
       "      <td>US</td>\n",
       "      <td>45000.00</td>\n",
       "      <td>44</td>\n",
       "      <td>1</td>\n",
       "    </tr>\n",
       "    <tr>\n",
       "      <th>3</th>\n",
       "      <td>Music</td>\n",
       "      <td>Music</td>\n",
       "      <td>USD</td>\n",
       "      <td>2012-04-16</td>\n",
       "      <td>5000.0</td>\n",
       "      <td>2012-03-17 03:24:11</td>\n",
       "      <td>failed</td>\n",
       "      <td>US</td>\n",
       "      <td>5000.00</td>\n",
       "      <td>29</td>\n",
       "      <td>3</td>\n",
       "    </tr>\n",
       "    <tr>\n",
       "      <th>4</th>\n",
       "      <td>Film &amp; Video</td>\n",
       "      <td>Film &amp; Video</td>\n",
       "      <td>USD</td>\n",
       "      <td>2015-08-29</td>\n",
       "      <td>19500.0</td>\n",
       "      <td>2015-07-04 08:35:03</td>\n",
       "      <td>failed</td>\n",
       "      <td>US</td>\n",
       "      <td>19500.00</td>\n",
       "      <td>55</td>\n",
       "      <td>7</td>\n",
       "    </tr>\n",
       "  </tbody>\n",
       "</table>\n",
       "</div>"
      ],
      "text/plain": [
       "         category main_category currency   deadline     goal  \\\n",
       "0           Other    Publishing      GBP 2015-10-09   1000.0   \n",
       "1  Narrative Film  Film & Video      USD 2017-11-01  30000.0   \n",
       "2  Narrative Film  Film & Video      USD 2013-02-26  45000.0   \n",
       "3           Music         Music      USD 2012-04-16   5000.0   \n",
       "4    Film & Video  Film & Video      USD 2015-08-29  19500.0   \n",
       "\n",
       "             launched   state country  usd_goal_real  time_period_days  \\\n",
       "0 2015-08-11 12:12:28  failed      GB        1533.95                58   \n",
       "1 2017-09-02 04:43:57  failed      US       30000.00                59   \n",
       "2 2013-01-12 00:20:50  failed      US       45000.00                44   \n",
       "3 2012-03-17 03:24:11  failed      US        5000.00                29   \n",
       "4 2015-07-04 08:35:03  failed      US       19500.00                55   \n",
       "\n",
       "   launched_month  \n",
       "0               8  \n",
       "1               9  \n",
       "2               1  \n",
       "3               3  \n",
       "4               7  "
      ]
     },
     "execution_count": 64,
     "metadata": {},
     "output_type": "execute_result"
    }
   ],
   "source": [
    "data['launched_month'] = data['launched'].dt.month\n",
    "data.head()"
   ]
  },
  {
   "cell_type": "markdown",
   "metadata": {},
   "source": [
    "launchedとdeadlineについては\n",
    "- 特殊なデータ型(datetime型)で相互の比較が難しい\n",
    "- 詳細な日付を用いるメリットは少ない\n",
    "\n",
    "などの理由から今後使用しないため，削除する．"
   ]
  },
  {
   "cell_type": "code",
   "execution_count": 65,
   "metadata": {},
   "outputs": [
    {
     "data": {
      "text/html": [
       "<div>\n",
       "<style scoped>\n",
       "    .dataframe tbody tr th:only-of-type {\n",
       "        vertical-align: middle;\n",
       "    }\n",
       "\n",
       "    .dataframe tbody tr th {\n",
       "        vertical-align: top;\n",
       "    }\n",
       "\n",
       "    .dataframe thead th {\n",
       "        text-align: right;\n",
       "    }\n",
       "</style>\n",
       "<table border=\"1\" class=\"dataframe\">\n",
       "  <thead>\n",
       "    <tr style=\"text-align: right;\">\n",
       "      <th></th>\n",
       "      <th>category</th>\n",
       "      <th>main_category</th>\n",
       "      <th>currency</th>\n",
       "      <th>goal</th>\n",
       "      <th>state</th>\n",
       "      <th>country</th>\n",
       "      <th>usd_goal_real</th>\n",
       "      <th>time_period_days</th>\n",
       "      <th>launched_month</th>\n",
       "    </tr>\n",
       "  </thead>\n",
       "  <tbody>\n",
       "    <tr>\n",
       "      <th>0</th>\n",
       "      <td>Other</td>\n",
       "      <td>Publishing</td>\n",
       "      <td>GBP</td>\n",
       "      <td>1000.0</td>\n",
       "      <td>failed</td>\n",
       "      <td>GB</td>\n",
       "      <td>1533.95</td>\n",
       "      <td>58</td>\n",
       "      <td>8</td>\n",
       "    </tr>\n",
       "    <tr>\n",
       "      <th>1</th>\n",
       "      <td>Narrative Film</td>\n",
       "      <td>Film &amp; Video</td>\n",
       "      <td>USD</td>\n",
       "      <td>30000.0</td>\n",
       "      <td>failed</td>\n",
       "      <td>US</td>\n",
       "      <td>30000.00</td>\n",
       "      <td>59</td>\n",
       "      <td>9</td>\n",
       "    </tr>\n",
       "    <tr>\n",
       "      <th>2</th>\n",
       "      <td>Narrative Film</td>\n",
       "      <td>Film &amp; Video</td>\n",
       "      <td>USD</td>\n",
       "      <td>45000.0</td>\n",
       "      <td>failed</td>\n",
       "      <td>US</td>\n",
       "      <td>45000.00</td>\n",
       "      <td>44</td>\n",
       "      <td>1</td>\n",
       "    </tr>\n",
       "    <tr>\n",
       "      <th>3</th>\n",
       "      <td>Music</td>\n",
       "      <td>Music</td>\n",
       "      <td>USD</td>\n",
       "      <td>5000.0</td>\n",
       "      <td>failed</td>\n",
       "      <td>US</td>\n",
       "      <td>5000.00</td>\n",
       "      <td>29</td>\n",
       "      <td>3</td>\n",
       "    </tr>\n",
       "    <tr>\n",
       "      <th>4</th>\n",
       "      <td>Film &amp; Video</td>\n",
       "      <td>Film &amp; Video</td>\n",
       "      <td>USD</td>\n",
       "      <td>19500.0</td>\n",
       "      <td>failed</td>\n",
       "      <td>US</td>\n",
       "      <td>19500.00</td>\n",
       "      <td>55</td>\n",
       "      <td>7</td>\n",
       "    </tr>\n",
       "  </tbody>\n",
       "</table>\n",
       "</div>"
      ],
      "text/plain": [
       "         category main_category currency     goal   state country  \\\n",
       "0           Other    Publishing      GBP   1000.0  failed      GB   \n",
       "1  Narrative Film  Film & Video      USD  30000.0  failed      US   \n",
       "2  Narrative Film  Film & Video      USD  45000.0  failed      US   \n",
       "3           Music         Music      USD   5000.0  failed      US   \n",
       "4    Film & Video  Film & Video      USD  19500.0  failed      US   \n",
       "\n",
       "   usd_goal_real  time_period_days  launched_month  \n",
       "0        1533.95                58               8  \n",
       "1       30000.00                59               9  \n",
       "2       45000.00                44               1  \n",
       "3        5000.00                29               3  \n",
       "4       19500.00                55               7  "
      ]
     },
     "execution_count": 65,
     "metadata": {},
     "output_type": "execute_result"
    }
   ],
   "source": [
    "# dataから説明変数として用いない変数を消去\n",
    "data.drop(['deadline', 'launched'], axis=1, inplace=True)\n",
    "\n",
    "data.head()"
   ]
  },
  {
   "cell_type": "markdown",
   "metadata": {},
   "source": [
    "### goal & usd_goal_real"
   ]
  },
  {
   "cell_type": "markdown",
   "metadata": {},
   "source": [
    "goalとusd_goal_realはどちらも集めたい金額を表している．<br>\n",
    "goalはUSDやGBPなどの異なる通貨が同一の値として表示されており，異なる通貨は直接比較することができないので，分類にそのまま用いることは難しい．<br>\n",
    "一方usd_goal_realは全てUSDに変換された値なので，値同士を直接比較することができる．<br>\n",
    "よってここからはgoalではなくusd_goal_realについて見ていく．"
   ]
  },
  {
   "cell_type": "code",
   "execution_count": 66,
   "metadata": {},
   "outputs": [
    {
     "name": "stdout",
     "output_type": "stream",
     "text": [
      "49884\n"
     ]
    }
   ],
   "source": [
    "print(len(set(data['usd_goal_real'])))"
   ]
  },
  {
   "cell_type": "code",
   "execution_count": 67,
   "metadata": {},
   "outputs": [
    {
     "data": {
      "image/png": "[encoded data removed]",
      "text/plain": [
       "<Figure size 720x720 with 1 Axes>"
      ]
     },
     "metadata": {
      "needs_background": "light"
     },
     "output_type": "display_data"
    }
   ],
   "source": [
    "plt.figure(figsize=(10, 10))\n",
    "sns.boxplot(x='usd_goal_real', data=data, showmeans=True)\n",
    "plt.tight_layout()\n",
    "plt.show()"
   ]
  },
  {
   "cell_type": "code",
   "execution_count": 68,
   "metadata": {},
   "outputs": [
    {
     "data": {
      "image/png": "[encoded data removed]",
      "text/plain": [
       "<Figure size 1080x720 with 1 Axes>"
      ]
     },
     "metadata": {
      "needs_background": "light"
     },
     "output_type": "display_data"
    }
   ],
   "source": [
    "# 上図の0~5*10^4の範囲を拡大したもの\n",
    "plt.figure(figsize=(15, 10))\n",
    "sns.boxplot(x='usd_goal_real', data=data, showmeans=True)\n",
    "plt.xlim(-3*10**3, 5*10**4)\n",
    "plt.tight_layout()"
   ]
  },
  {
   "cell_type": "code",
   "execution_count": 69,
   "metadata": {},
   "outputs": [
    {
     "name": "stdout",
     "output_type": "stream",
     "text": [
      "最小値 : 0.01\n",
      "最大値 : 166361390.71\n",
      "平均 : 45327.20217002516\n",
      "第三四分位数 : 15500.0\n"
     ]
    }
   ],
   "source": [
    "data_usd_goal_real = data['usd_goal_real']\n",
    "\n",
    "print(f'最小値 : {data_usd_goal_real.min()}')\n",
    "print(f'最大値 : {data_usd_goal_real.max()}')\n",
    "print(f'平均 : {data_usd_goal_real.mean()}')\n",
    "print(f'第三四分位数 : {data_usd_goal_real.quantile(0.75)}')"
   ]
  },
  {
   "cell_type": "markdown",
   "metadata": {},
   "source": [
    "usd_goal_realは約5万種で構成されており，\n",
    "- 最小値 : $0.01$USD\n",
    "- 最大値 : $1.66\\times 10^8$USD\n",
    "- 平均値 : $4.53\\times 10^4$USD\n",
    "\n",
    "である．<br>\n",
    "また箱ヒゲ図の分布からusd_goal_realが低い募集が非常に多く，75%の募集が15500USD以下の募集であることがわかる．<br>\n",
    "以上より\n",
    "- usd_goal_realには負の値は含まれていない\n",
    "- usd_goal_realは非常に広範囲に分布しているが，異常と呼べる値は含まれていない\n",
    "\n",
    "ことがわかる．<br>\n",
    "よってこのusd_goal_realについてはこのまま使用する．"
   ]
  },
  {
   "cell_type": "markdown",
   "metadata": {},
   "source": [
    "goalについては\n",
    "- 単位が揃っておらず比較ができない\n",
    "- 金額の情報はusd_goal_realに含まれている\n",
    "\n",
    "などの理由から今後使用しないため，今後の計算量の削減のため削除する．"
   ]
  },
  {
   "cell_type": "code",
   "execution_count": 70,
   "metadata": {},
   "outputs": [
    {
     "data": {
      "text/html": [
       "<div>\n",
       "<style scoped>\n",
       "    .dataframe tbody tr th:only-of-type {\n",
       "        vertical-align: middle;\n",
       "    }\n",
       "\n",
       "    .dataframe tbody tr th {\n",
       "        vertical-align: top;\n",
       "    }\n",
       "\n",
       "    .dataframe thead th {\n",
       "        text-align: right;\n",
       "    }\n",
       "</style>\n",
       "<table border=\"1\" class=\"dataframe\">\n",
       "  <thead>\n",
       "    <tr style=\"text-align: right;\">\n",
       "      <th></th>\n",
       "      <th>category</th>\n",
       "      <th>main_category</th>\n",
       "      <th>currency</th>\n",
       "      <th>state</th>\n",
       "      <th>country</th>\n",
       "      <th>usd_goal_real</th>\n",
       "      <th>time_period_days</th>\n",
       "      <th>launched_month</th>\n",
       "    </tr>\n",
       "  </thead>\n",
       "  <tbody>\n",
       "    <tr>\n",
       "      <th>0</th>\n",
       "      <td>Other</td>\n",
       "      <td>Publishing</td>\n",
       "      <td>GBP</td>\n",
       "      <td>failed</td>\n",
       "      <td>GB</td>\n",
       "      <td>1533.95</td>\n",
       "      <td>58</td>\n",
       "      <td>8</td>\n",
       "    </tr>\n",
       "    <tr>\n",
       "      <th>1</th>\n",
       "      <td>Narrative Film</td>\n",
       "      <td>Film &amp; Video</td>\n",
       "      <td>USD</td>\n",
       "      <td>failed</td>\n",
       "      <td>US</td>\n",
       "      <td>30000.00</td>\n",
       "      <td>59</td>\n",
       "      <td>9</td>\n",
       "    </tr>\n",
       "    <tr>\n",
       "      <th>2</th>\n",
       "      <td>Narrative Film</td>\n",
       "      <td>Film &amp; Video</td>\n",
       "      <td>USD</td>\n",
       "      <td>failed</td>\n",
       "      <td>US</td>\n",
       "      <td>45000.00</td>\n",
       "      <td>44</td>\n",
       "      <td>1</td>\n",
       "    </tr>\n",
       "    <tr>\n",
       "      <th>3</th>\n",
       "      <td>Music</td>\n",
       "      <td>Music</td>\n",
       "      <td>USD</td>\n",
       "      <td>failed</td>\n",
       "      <td>US</td>\n",
       "      <td>5000.00</td>\n",
       "      <td>29</td>\n",
       "      <td>3</td>\n",
       "    </tr>\n",
       "    <tr>\n",
       "      <th>4</th>\n",
       "      <td>Film &amp; Video</td>\n",
       "      <td>Film &amp; Video</td>\n",
       "      <td>USD</td>\n",
       "      <td>failed</td>\n",
       "      <td>US</td>\n",
       "      <td>19500.00</td>\n",
       "      <td>55</td>\n",
       "      <td>7</td>\n",
       "    </tr>\n",
       "  </tbody>\n",
       "</table>\n",
       "</div>"
      ],
      "text/plain": [
       "         category main_category currency   state country  usd_goal_real  \\\n",
       "0           Other    Publishing      GBP  failed      GB        1533.95   \n",
       "1  Narrative Film  Film & Video      USD  failed      US       30000.00   \n",
       "2  Narrative Film  Film & Video      USD  failed      US       45000.00   \n",
       "3           Music         Music      USD  failed      US        5000.00   \n",
       "4    Film & Video  Film & Video      USD  failed      US       19500.00   \n",
       "\n",
       "   time_period_days  launched_month  \n",
       "0                58               8  \n",
       "1                59               9  \n",
       "2                44               1  \n",
       "3                29               3  \n",
       "4                55               7  "
      ]
     },
     "execution_count": 70,
     "metadata": {},
     "output_type": "execute_result"
    }
   ],
   "source": [
    "# dataから説明変数として用いない変数を消去\n",
    "data.drop(['goal'], axis=1, inplace=True)\n",
    "\n",
    "data.head()"
   ]
  },
  {
   "cell_type": "markdown",
   "metadata": {},
   "source": [
    "## まとめ"
   ]
  },
  {
   "cell_type": "markdown",
   "metadata": {},
   "source": [
    "ここで行った作業をまとめて書き記す．<br>\n",
    "- 目的変数 : stateがliveのデータを除外，successful以外のstateをfailedに統一\n",
    "- 説明変数\n",
    " - category : 出現回数が3000回以下のカテゴリをOtherに統一\n",
    " - currency : USD, GBP, EUR, CAD, AUD以外をcur_otherに統一\n",
    " - country : US, GB, CA, AU以外をcou_otherに統一\n",
    " - time_period_days : launchedとdeadlineの差の日数を取得\n",
    " - launched : 異常値をtime_period_daysが29日になるように変更\n",
    " - launched_month : launchedの月の情報を抽出\n",
    "\n",
    "main_category, usd_goal_realについては特別な操作を行わなかった．<br>\n",
    "launched, deadline, goalについては扱いが難しいなどの理由から削除した．"
   ]
  },
  {
   "cell_type": "markdown",
   "metadata": {},
   "source": [
    "# 目的変数と説明変数の関係性"
   ]
  },
  {
   "cell_type": "markdown",
   "metadata": {},
   "source": [
    "ここでは目的変数と説明変数の関係性を可視化によって確認する．"
   ]
  },
  {
   "cell_type": "markdown",
   "metadata": {},
   "source": [
    "## 変数の数値変換"
   ]
  },
  {
   "cell_type": "markdown",
   "metadata": {},
   "source": [
    "変数stateと相関がある変数を見つけることが目的なので，カテゴリ変数を数値に変換する必要がある．<br>\n",
    "まず全てのカテゴリ変数をlabel encodingを行って数値に変換する．"
   ]
  },
  {
   "cell_type": "markdown",
   "metadata": {},
   "source": [
    "### 目的変数の変換"
   ]
  },
  {
   "cell_type": "code",
   "execution_count": 71,
   "metadata": {},
   "outputs": [
    {
     "data": {
      "text/html": [
       "<div>\n",
       "<style scoped>\n",
       "    .dataframe tbody tr th:only-of-type {\n",
       "        vertical-align: middle;\n",
       "    }\n",
       "\n",
       "    .dataframe tbody tr th {\n",
       "        vertical-align: top;\n",
       "    }\n",
       "\n",
       "    .dataframe thead th {\n",
       "        text-align: right;\n",
       "    }\n",
       "</style>\n",
       "<table border=\"1\" class=\"dataframe\">\n",
       "  <thead>\n",
       "    <tr style=\"text-align: right;\">\n",
       "      <th></th>\n",
       "      <th>category</th>\n",
       "      <th>main_category</th>\n",
       "      <th>currency</th>\n",
       "      <th>state</th>\n",
       "      <th>country</th>\n",
       "      <th>usd_goal_real</th>\n",
       "      <th>time_period_days</th>\n",
       "      <th>launched_month</th>\n",
       "    </tr>\n",
       "  </thead>\n",
       "  <tbody>\n",
       "    <tr>\n",
       "      <th>0</th>\n",
       "      <td>Other</td>\n",
       "      <td>Publishing</td>\n",
       "      <td>GBP</td>\n",
       "      <td>0</td>\n",
       "      <td>GB</td>\n",
       "      <td>1533.95</td>\n",
       "      <td>58</td>\n",
       "      <td>8</td>\n",
       "    </tr>\n",
       "    <tr>\n",
       "      <th>1</th>\n",
       "      <td>Narrative Film</td>\n",
       "      <td>Film &amp; Video</td>\n",
       "      <td>USD</td>\n",
       "      <td>0</td>\n",
       "      <td>US</td>\n",
       "      <td>30000.00</td>\n",
       "      <td>59</td>\n",
       "      <td>9</td>\n",
       "    </tr>\n",
       "    <tr>\n",
       "      <th>2</th>\n",
       "      <td>Narrative Film</td>\n",
       "      <td>Film &amp; Video</td>\n",
       "      <td>USD</td>\n",
       "      <td>0</td>\n",
       "      <td>US</td>\n",
       "      <td>45000.00</td>\n",
       "      <td>44</td>\n",
       "      <td>1</td>\n",
       "    </tr>\n",
       "    <tr>\n",
       "      <th>3</th>\n",
       "      <td>Music</td>\n",
       "      <td>Music</td>\n",
       "      <td>USD</td>\n",
       "      <td>0</td>\n",
       "      <td>US</td>\n",
       "      <td>5000.00</td>\n",
       "      <td>29</td>\n",
       "      <td>3</td>\n",
       "    </tr>\n",
       "    <tr>\n",
       "      <th>4</th>\n",
       "      <td>Film &amp; Video</td>\n",
       "      <td>Film &amp; Video</td>\n",
       "      <td>USD</td>\n",
       "      <td>0</td>\n",
       "      <td>US</td>\n",
       "      <td>19500.00</td>\n",
       "      <td>55</td>\n",
       "      <td>7</td>\n",
       "    </tr>\n",
       "    <tr>\n",
       "      <th>5</th>\n",
       "      <td>Other</td>\n",
       "      <td>Food</td>\n",
       "      <td>USD</td>\n",
       "      <td>1</td>\n",
       "      <td>US</td>\n",
       "      <td>50000.00</td>\n",
       "      <td>34</td>\n",
       "      <td>2</td>\n",
       "    </tr>\n",
       "    <tr>\n",
       "      <th>6</th>\n",
       "      <td>Food</td>\n",
       "      <td>Food</td>\n",
       "      <td>USD</td>\n",
       "      <td>1</td>\n",
       "      <td>US</td>\n",
       "      <td>1000.00</td>\n",
       "      <td>19</td>\n",
       "      <td>12</td>\n",
       "    </tr>\n",
       "    <tr>\n",
       "      <th>7</th>\n",
       "      <td>Other</td>\n",
       "      <td>Food</td>\n",
       "      <td>USD</td>\n",
       "      <td>0</td>\n",
       "      <td>US</td>\n",
       "      <td>25000.00</td>\n",
       "      <td>44</td>\n",
       "      <td>2</td>\n",
       "    </tr>\n",
       "    <tr>\n",
       "      <th>8</th>\n",
       "      <td>Product Design</td>\n",
       "      <td>Design</td>\n",
       "      <td>USD</td>\n",
       "      <td>0</td>\n",
       "      <td>US</td>\n",
       "      <td>125000.00</td>\n",
       "      <td>34</td>\n",
       "      <td>4</td>\n",
       "    </tr>\n",
       "    <tr>\n",
       "      <th>9</th>\n",
       "      <td>Documentary</td>\n",
       "      <td>Film &amp; Video</td>\n",
       "      <td>USD</td>\n",
       "      <td>0</td>\n",
       "      <td>US</td>\n",
       "      <td>65000.00</td>\n",
       "      <td>29</td>\n",
       "      <td>7</td>\n",
       "    </tr>\n",
       "  </tbody>\n",
       "</table>\n",
       "</div>"
      ],
      "text/plain": [
       "         category main_category currency  state country  usd_goal_real  \\\n",
       "0           Other    Publishing      GBP      0      GB        1533.95   \n",
       "1  Narrative Film  Film & Video      USD      0      US       30000.00   \n",
       "2  Narrative Film  Film & Video      USD      0      US       45000.00   \n",
       "3           Music         Music      USD      0      US        5000.00   \n",
       "4    Film & Video  Film & Video      USD      0      US       19500.00   \n",
       "5           Other          Food      USD      1      US       50000.00   \n",
       "6            Food          Food      USD      1      US        1000.00   \n",
       "7           Other          Food      USD      0      US       25000.00   \n",
       "8  Product Design        Design      USD      0      US      125000.00   \n",
       "9     Documentary  Film & Video      USD      0      US       65000.00   \n",
       "\n",
       "   time_period_days  launched_month  \n",
       "0                58               8  \n",
       "1                59               9  \n",
       "2                44               1  \n",
       "3                29               3  \n",
       "4                55               7  \n",
       "5                34               2  \n",
       "6                19              12  \n",
       "7                44               2  \n",
       "8                34               4  \n",
       "9                29               7  "
      ]
     },
     "execution_count": 71,
     "metadata": {},
     "output_type": "execute_result"
    }
   ],
   "source": [
    "# failedを0，successfulを1に変換\n",
    "data = data.replace({'failed' : 0, 'successful' : 1})\n",
    "data.head(10)"
   ]
  },
  {
   "cell_type": "markdown",
   "metadata": {},
   "source": [
    "### 説明変数の変換"
   ]
  },
  {
   "cell_type": "code",
   "execution_count": 72,
   "metadata": {},
   "outputs": [
    {
     "data": {
      "text/html": [
       "<div>\n",
       "<style scoped>\n",
       "    .dataframe tbody tr th:only-of-type {\n",
       "        vertical-align: middle;\n",
       "    }\n",
       "\n",
       "    .dataframe tbody tr th {\n",
       "        vertical-align: top;\n",
       "    }\n",
       "\n",
       "    .dataframe thead th {\n",
       "        text-align: right;\n",
       "    }\n",
       "</style>\n",
       "<table border=\"1\" class=\"dataframe\">\n",
       "  <thead>\n",
       "    <tr style=\"text-align: right;\">\n",
       "      <th></th>\n",
       "      <th>category</th>\n",
       "      <th>main_category</th>\n",
       "      <th>currency</th>\n",
       "      <th>state</th>\n",
       "      <th>country</th>\n",
       "      <th>usd_goal_real</th>\n",
       "      <th>time_period_days</th>\n",
       "      <th>launched_month</th>\n",
       "    </tr>\n",
       "  </thead>\n",
       "  <tbody>\n",
       "    <tr>\n",
       "      <th>0</th>\n",
       "      <td>Other</td>\n",
       "      <td>Publishing</td>\n",
       "      <td>GBP</td>\n",
       "      <td>0</td>\n",
       "      <td>GB</td>\n",
       "      <td>1533.95</td>\n",
       "      <td>58</td>\n",
       "      <td>8</td>\n",
       "    </tr>\n",
       "    <tr>\n",
       "      <th>1</th>\n",
       "      <td>Narrative Film</td>\n",
       "      <td>Film &amp; Video</td>\n",
       "      <td>USD</td>\n",
       "      <td>0</td>\n",
       "      <td>US</td>\n",
       "      <td>30000.00</td>\n",
       "      <td>59</td>\n",
       "      <td>9</td>\n",
       "    </tr>\n",
       "    <tr>\n",
       "      <th>2</th>\n",
       "      <td>Narrative Film</td>\n",
       "      <td>Film &amp; Video</td>\n",
       "      <td>USD</td>\n",
       "      <td>0</td>\n",
       "      <td>US</td>\n",
       "      <td>45000.00</td>\n",
       "      <td>44</td>\n",
       "      <td>1</td>\n",
       "    </tr>\n",
       "    <tr>\n",
       "      <th>3</th>\n",
       "      <td>Music</td>\n",
       "      <td>Music</td>\n",
       "      <td>USD</td>\n",
       "      <td>0</td>\n",
       "      <td>US</td>\n",
       "      <td>5000.00</td>\n",
       "      <td>29</td>\n",
       "      <td>3</td>\n",
       "    </tr>\n",
       "    <tr>\n",
       "      <th>4</th>\n",
       "      <td>Film &amp; Video</td>\n",
       "      <td>Film &amp; Video</td>\n",
       "      <td>USD</td>\n",
       "      <td>0</td>\n",
       "      <td>US</td>\n",
       "      <td>19500.00</td>\n",
       "      <td>55</td>\n",
       "      <td>7</td>\n",
       "    </tr>\n",
       "    <tr>\n",
       "      <th>5</th>\n",
       "      <td>Other</td>\n",
       "      <td>Food</td>\n",
       "      <td>USD</td>\n",
       "      <td>1</td>\n",
       "      <td>US</td>\n",
       "      <td>50000.00</td>\n",
       "      <td>34</td>\n",
       "      <td>2</td>\n",
       "    </tr>\n",
       "    <tr>\n",
       "      <th>6</th>\n",
       "      <td>Food</td>\n",
       "      <td>Food</td>\n",
       "      <td>USD</td>\n",
       "      <td>1</td>\n",
       "      <td>US</td>\n",
       "      <td>1000.00</td>\n",
       "      <td>19</td>\n",
       "      <td>12</td>\n",
       "    </tr>\n",
       "    <tr>\n",
       "      <th>7</th>\n",
       "      <td>Other</td>\n",
       "      <td>Food</td>\n",
       "      <td>USD</td>\n",
       "      <td>0</td>\n",
       "      <td>US</td>\n",
       "      <td>25000.00</td>\n",
       "      <td>44</td>\n",
       "      <td>2</td>\n",
       "    </tr>\n",
       "    <tr>\n",
       "      <th>8</th>\n",
       "      <td>Product Design</td>\n",
       "      <td>Design</td>\n",
       "      <td>USD</td>\n",
       "      <td>0</td>\n",
       "      <td>US</td>\n",
       "      <td>125000.00</td>\n",
       "      <td>34</td>\n",
       "      <td>4</td>\n",
       "    </tr>\n",
       "    <tr>\n",
       "      <th>9</th>\n",
       "      <td>Documentary</td>\n",
       "      <td>Film &amp; Video</td>\n",
       "      <td>USD</td>\n",
       "      <td>0</td>\n",
       "      <td>US</td>\n",
       "      <td>65000.00</td>\n",
       "      <td>29</td>\n",
       "      <td>7</td>\n",
       "    </tr>\n",
       "  </tbody>\n",
       "</table>\n",
       "</div>"
      ],
      "text/plain": [
       "         category main_category currency  state country  usd_goal_real  \\\n",
       "0           Other    Publishing      GBP      0      GB        1533.95   \n",
       "1  Narrative Film  Film & Video      USD      0      US       30000.00   \n",
       "2  Narrative Film  Film & Video      USD      0      US       45000.00   \n",
       "3           Music         Music      USD      0      US        5000.00   \n",
       "4    Film & Video  Film & Video      USD      0      US       19500.00   \n",
       "5           Other          Food      USD      1      US       50000.00   \n",
       "6            Food          Food      USD      1      US        1000.00   \n",
       "7           Other          Food      USD      0      US       25000.00   \n",
       "8  Product Design        Design      USD      0      US      125000.00   \n",
       "9     Documentary  Film & Video      USD      0      US       65000.00   \n",
       "\n",
       "   time_period_days  launched_month  \n",
       "0                58               8  \n",
       "1                59               9  \n",
       "2                44               1  \n",
       "3                29               3  \n",
       "4                55               7  \n",
       "5                34               2  \n",
       "6                19              12  \n",
       "7                44               2  \n",
       "8                34               4  \n",
       "9                29               7  "
      ]
     },
     "execution_count": 72,
     "metadata": {},
     "output_type": "execute_result"
    }
   ],
   "source": [
    "data_exp = data.copy(deep=True)\n",
    "data_exp.head(10)"
   ]
  },
  {
   "cell_type": "code",
   "execution_count": 73,
   "metadata": {},
   "outputs": [
    {
     "data": {
      "text/html": [
       "<div>\n",
       "<style scoped>\n",
       "    .dataframe tbody tr th:only-of-type {\n",
       "        vertical-align: middle;\n",
       "    }\n",
       "\n",
       "    .dataframe tbody tr th {\n",
       "        vertical-align: top;\n",
       "    }\n",
       "\n",
       "    .dataframe thead th {\n",
       "        text-align: right;\n",
       "    }\n",
       "</style>\n",
       "<table border=\"1\" class=\"dataframe\">\n",
       "  <thead>\n",
       "    <tr style=\"text-align: right;\">\n",
       "      <th></th>\n",
       "      <th>category</th>\n",
       "      <th>main_category</th>\n",
       "      <th>currency</th>\n",
       "      <th>state</th>\n",
       "      <th>country</th>\n",
       "      <th>usd_goal_real</th>\n",
       "      <th>time_period_days</th>\n",
       "      <th>launched_month</th>\n",
       "    </tr>\n",
       "  </thead>\n",
       "  <tbody>\n",
       "    <tr>\n",
       "      <th>0</th>\n",
       "      <td>22</td>\n",
       "      <td>Publishing</td>\n",
       "      <td>GBP</td>\n",
       "      <td>0</td>\n",
       "      <td>GB</td>\n",
       "      <td>1533.95</td>\n",
       "      <td>58</td>\n",
       "      <td>8</td>\n",
       "    </tr>\n",
       "    <tr>\n",
       "      <th>1</th>\n",
       "      <td>20</td>\n",
       "      <td>Film &amp; Video</td>\n",
       "      <td>USD</td>\n",
       "      <td>0</td>\n",
       "      <td>US</td>\n",
       "      <td>30000.00</td>\n",
       "      <td>59</td>\n",
       "      <td>9</td>\n",
       "    </tr>\n",
       "    <tr>\n",
       "      <th>2</th>\n",
       "      <td>20</td>\n",
       "      <td>Film &amp; Video</td>\n",
       "      <td>USD</td>\n",
       "      <td>0</td>\n",
       "      <td>US</td>\n",
       "      <td>45000.00</td>\n",
       "      <td>44</td>\n",
       "      <td>1</td>\n",
       "    </tr>\n",
       "    <tr>\n",
       "      <th>3</th>\n",
       "      <td>19</td>\n",
       "      <td>Music</td>\n",
       "      <td>USD</td>\n",
       "      <td>0</td>\n",
       "      <td>US</td>\n",
       "      <td>5000.00</td>\n",
       "      <td>29</td>\n",
       "      <td>3</td>\n",
       "    </tr>\n",
       "    <tr>\n",
       "      <th>4</th>\n",
       "      <td>12</td>\n",
       "      <td>Film &amp; Video</td>\n",
       "      <td>USD</td>\n",
       "      <td>0</td>\n",
       "      <td>US</td>\n",
       "      <td>19500.00</td>\n",
       "      <td>55</td>\n",
       "      <td>7</td>\n",
       "    </tr>\n",
       "  </tbody>\n",
       "</table>\n",
       "</div>"
      ],
      "text/plain": [
       "   category main_category currency  state country  usd_goal_real  \\\n",
       "0        22    Publishing      GBP      0      GB        1533.95   \n",
       "1        20  Film & Video      USD      0      US       30000.00   \n",
       "2        20  Film & Video      USD      0      US       45000.00   \n",
       "3        19         Music      USD      0      US        5000.00   \n",
       "4        12  Film & Video      USD      0      US       19500.00   \n",
       "\n",
       "   time_period_days  launched_month  \n",
       "0                58               8  \n",
       "1                59               9  \n",
       "2                44               1  \n",
       "3                29               3  \n",
       "4                55               7  "
      ]
     },
     "execution_count": 73,
     "metadata": {},
     "output_type": "execute_result"
    }
   ],
   "source": [
    "# categoryの変換\n",
    "le = LabelEncoder()\n",
    "encoded = le.fit(data_exp['category'])\n",
    "data_exp['category'] = encoded.transform(data_exp['category'])\n",
    "data_exp.head()"
   ]
  },
  {
   "cell_type": "code",
   "execution_count": 74,
   "metadata": {},
   "outputs": [
    {
     "data": {
      "text/html": [
       "<div>\n",
       "<style scoped>\n",
       "    .dataframe tbody tr th:only-of-type {\n",
       "        vertical-align: middle;\n",
       "    }\n",
       "\n",
       "    .dataframe tbody tr th {\n",
       "        vertical-align: top;\n",
       "    }\n",
       "\n",
       "    .dataframe thead th {\n",
       "        text-align: right;\n",
       "    }\n",
       "</style>\n",
       "<table border=\"1\" class=\"dataframe\">\n",
       "  <thead>\n",
       "    <tr style=\"text-align: right;\">\n",
       "      <th></th>\n",
       "      <th>category</th>\n",
       "      <th>main_category</th>\n",
       "      <th>currency</th>\n",
       "      <th>state</th>\n",
       "      <th>country</th>\n",
       "      <th>usd_goal_real</th>\n",
       "      <th>time_period_days</th>\n",
       "      <th>launched_month</th>\n",
       "    </tr>\n",
       "  </thead>\n",
       "  <tbody>\n",
       "    <tr>\n",
       "      <th>0</th>\n",
       "      <td>22</td>\n",
       "      <td>Publishing</td>\n",
       "      <td>3</td>\n",
       "      <td>0</td>\n",
       "      <td>GB</td>\n",
       "      <td>1533.95</td>\n",
       "      <td>58</td>\n",
       "      <td>8</td>\n",
       "    </tr>\n",
       "    <tr>\n",
       "      <th>1</th>\n",
       "      <td>20</td>\n",
       "      <td>Film &amp; Video</td>\n",
       "      <td>4</td>\n",
       "      <td>0</td>\n",
       "      <td>US</td>\n",
       "      <td>30000.00</td>\n",
       "      <td>59</td>\n",
       "      <td>9</td>\n",
       "    </tr>\n",
       "    <tr>\n",
       "      <th>2</th>\n",
       "      <td>20</td>\n",
       "      <td>Film &amp; Video</td>\n",
       "      <td>4</td>\n",
       "      <td>0</td>\n",
       "      <td>US</td>\n",
       "      <td>45000.00</td>\n",
       "      <td>44</td>\n",
       "      <td>1</td>\n",
       "    </tr>\n",
       "    <tr>\n",
       "      <th>3</th>\n",
       "      <td>19</td>\n",
       "      <td>Music</td>\n",
       "      <td>4</td>\n",
       "      <td>0</td>\n",
       "      <td>US</td>\n",
       "      <td>5000.00</td>\n",
       "      <td>29</td>\n",
       "      <td>3</td>\n",
       "    </tr>\n",
       "    <tr>\n",
       "      <th>4</th>\n",
       "      <td>12</td>\n",
       "      <td>Film &amp; Video</td>\n",
       "      <td>4</td>\n",
       "      <td>0</td>\n",
       "      <td>US</td>\n",
       "      <td>19500.00</td>\n",
       "      <td>55</td>\n",
       "      <td>7</td>\n",
       "    </tr>\n",
       "  </tbody>\n",
       "</table>\n",
       "</div>"
      ],
      "text/plain": [
       "   category main_category  currency  state country  usd_goal_real  \\\n",
       "0        22    Publishing         3      0      GB        1533.95   \n",
       "1        20  Film & Video         4      0      US       30000.00   \n",
       "2        20  Film & Video         4      0      US       45000.00   \n",
       "3        19         Music         4      0      US        5000.00   \n",
       "4        12  Film & Video         4      0      US       19500.00   \n",
       "\n",
       "   time_period_days  launched_month  \n",
       "0                58               8  \n",
       "1                59               9  \n",
       "2                44               1  \n",
       "3                29               3  \n",
       "4                55               7  "
      ]
     },
     "execution_count": 74,
     "metadata": {},
     "output_type": "execute_result"
    }
   ],
   "source": [
    "encoded = le.fit(data_exp['currency'])\n",
    "data_exp['currency'] = encoded.transform(data_exp['currency'])\n",
    "data_exp.head()"
   ]
  },
  {
   "cell_type": "code",
   "execution_count": 75,
   "metadata": {},
   "outputs": [
    {
     "data": {
      "text/html": [
       "<div>\n",
       "<style scoped>\n",
       "    .dataframe tbody tr th:only-of-type {\n",
       "        vertical-align: middle;\n",
       "    }\n",
       "\n",
       "    .dataframe tbody tr th {\n",
       "        vertical-align: top;\n",
       "    }\n",
       "\n",
       "    .dataframe thead th {\n",
       "        text-align: right;\n",
       "    }\n",
       "</style>\n",
       "<table border=\"1\" class=\"dataframe\">\n",
       "  <thead>\n",
       "    <tr style=\"text-align: right;\">\n",
       "      <th></th>\n",
       "      <th>category</th>\n",
       "      <th>main_category</th>\n",
       "      <th>currency</th>\n",
       "      <th>state</th>\n",
       "      <th>country</th>\n",
       "      <th>usd_goal_real</th>\n",
       "      <th>time_period_days</th>\n",
       "      <th>launched_month</th>\n",
       "    </tr>\n",
       "  </thead>\n",
       "  <tbody>\n",
       "    <tr>\n",
       "      <th>0</th>\n",
       "      <td>22</td>\n",
       "      <td>Publishing</td>\n",
       "      <td>3</td>\n",
       "      <td>0</td>\n",
       "      <td>2</td>\n",
       "      <td>1533.95</td>\n",
       "      <td>58</td>\n",
       "      <td>8</td>\n",
       "    </tr>\n",
       "    <tr>\n",
       "      <th>1</th>\n",
       "      <td>20</td>\n",
       "      <td>Film &amp; Video</td>\n",
       "      <td>4</td>\n",
       "      <td>0</td>\n",
       "      <td>3</td>\n",
       "      <td>30000.00</td>\n",
       "      <td>59</td>\n",
       "      <td>9</td>\n",
       "    </tr>\n",
       "    <tr>\n",
       "      <th>2</th>\n",
       "      <td>20</td>\n",
       "      <td>Film &amp; Video</td>\n",
       "      <td>4</td>\n",
       "      <td>0</td>\n",
       "      <td>3</td>\n",
       "      <td>45000.00</td>\n",
       "      <td>44</td>\n",
       "      <td>1</td>\n",
       "    </tr>\n",
       "    <tr>\n",
       "      <th>3</th>\n",
       "      <td>19</td>\n",
       "      <td>Music</td>\n",
       "      <td>4</td>\n",
       "      <td>0</td>\n",
       "      <td>3</td>\n",
       "      <td>5000.00</td>\n",
       "      <td>29</td>\n",
       "      <td>3</td>\n",
       "    </tr>\n",
       "    <tr>\n",
       "      <th>4</th>\n",
       "      <td>12</td>\n",
       "      <td>Film &amp; Video</td>\n",
       "      <td>4</td>\n",
       "      <td>0</td>\n",
       "      <td>3</td>\n",
       "      <td>19500.00</td>\n",
       "      <td>55</td>\n",
       "      <td>7</td>\n",
       "    </tr>\n",
       "  </tbody>\n",
       "</table>\n",
       "</div>"
      ],
      "text/plain": [
       "   category main_category  currency  state  country  usd_goal_real  \\\n",
       "0        22    Publishing         3      0        2        1533.95   \n",
       "1        20  Film & Video         4      0        3       30000.00   \n",
       "2        20  Film & Video         4      0        3       45000.00   \n",
       "3        19         Music         4      0        3        5000.00   \n",
       "4        12  Film & Video         4      0        3       19500.00   \n",
       "\n",
       "   time_period_days  launched_month  \n",
       "0                58               8  \n",
       "1                59               9  \n",
       "2                44               1  \n",
       "3                29               3  \n",
       "4                55               7  "
      ]
     },
     "execution_count": 75,
     "metadata": {},
     "output_type": "execute_result"
    }
   ],
   "source": [
    "encoded = le.fit(data_exp['country'])\n",
    "data_exp['country'] = encoded.transform(data_exp['country'])\n",
    "data_exp.head()"
   ]
  },
  {
   "cell_type": "code",
   "execution_count": 76,
   "metadata": {},
   "outputs": [
    {
     "data": {
      "text/html": [
       "<div>\n",
       "<style scoped>\n",
       "    .dataframe tbody tr th:only-of-type {\n",
       "        vertical-align: middle;\n",
       "    }\n",
       "\n",
       "    .dataframe tbody tr th {\n",
       "        vertical-align: top;\n",
       "    }\n",
       "\n",
       "    .dataframe thead th {\n",
       "        text-align: right;\n",
       "    }\n",
       "</style>\n",
       "<table border=\"1\" class=\"dataframe\">\n",
       "  <thead>\n",
       "    <tr style=\"text-align: right;\">\n",
       "      <th></th>\n",
       "      <th>category</th>\n",
       "      <th>main_category</th>\n",
       "      <th>currency</th>\n",
       "      <th>state</th>\n",
       "      <th>country</th>\n",
       "      <th>usd_goal_real</th>\n",
       "      <th>time_period_days</th>\n",
       "      <th>launched_month</th>\n",
       "    </tr>\n",
       "  </thead>\n",
       "  <tbody>\n",
       "    <tr>\n",
       "      <th>0</th>\n",
       "      <td>22</td>\n",
       "      <td>12</td>\n",
       "      <td>3</td>\n",
       "      <td>0</td>\n",
       "      <td>2</td>\n",
       "      <td>1533.95</td>\n",
       "      <td>58</td>\n",
       "      <td>8</td>\n",
       "    </tr>\n",
       "    <tr>\n",
       "      <th>1</th>\n",
       "      <td>20</td>\n",
       "      <td>6</td>\n",
       "      <td>4</td>\n",
       "      <td>0</td>\n",
       "      <td>3</td>\n",
       "      <td>30000.00</td>\n",
       "      <td>59</td>\n",
       "      <td>9</td>\n",
       "    </tr>\n",
       "    <tr>\n",
       "      <th>2</th>\n",
       "      <td>20</td>\n",
       "      <td>6</td>\n",
       "      <td>4</td>\n",
       "      <td>0</td>\n",
       "      <td>3</td>\n",
       "      <td>45000.00</td>\n",
       "      <td>44</td>\n",
       "      <td>1</td>\n",
       "    </tr>\n",
       "    <tr>\n",
       "      <th>3</th>\n",
       "      <td>19</td>\n",
       "      <td>10</td>\n",
       "      <td>4</td>\n",
       "      <td>0</td>\n",
       "      <td>3</td>\n",
       "      <td>5000.00</td>\n",
       "      <td>29</td>\n",
       "      <td>3</td>\n",
       "    </tr>\n",
       "    <tr>\n",
       "      <th>4</th>\n",
       "      <td>12</td>\n",
       "      <td>6</td>\n",
       "      <td>4</td>\n",
       "      <td>0</td>\n",
       "      <td>3</td>\n",
       "      <td>19500.00</td>\n",
       "      <td>55</td>\n",
       "      <td>7</td>\n",
       "    </tr>\n",
       "  </tbody>\n",
       "</table>\n",
       "</div>"
      ],
      "text/plain": [
       "   category  main_category  currency  state  country  usd_goal_real  \\\n",
       "0        22             12         3      0        2        1533.95   \n",
       "1        20              6         4      0        3       30000.00   \n",
       "2        20              6         4      0        3       45000.00   \n",
       "3        19             10         4      0        3        5000.00   \n",
       "4        12              6         4      0        3       19500.00   \n",
       "\n",
       "   time_period_days  launched_month  \n",
       "0                58               8  \n",
       "1                59               9  \n",
       "2                44               1  \n",
       "3                29               3  \n",
       "4                55               7  "
      ]
     },
     "execution_count": 76,
     "metadata": {},
     "output_type": "execute_result"
    }
   ],
   "source": [
    "encoded = le.fit(data_exp['main_category'])\n",
    "data_exp['main_category'] = encoded.transform(data_exp['main_category'])\n",
    "data_exp.head()"
   ]
  },
  {
   "cell_type": "markdown",
   "metadata": {},
   "source": [
    "## 目的変数と説明変数の関係性"
   ]
  },
  {
   "cell_type": "code",
   "execution_count": 77,
   "metadata": {},
   "outputs": [
    {
     "data": {
      "image/png": "[encoded data removed]",
      "text/plain": [
       "<Figure size 1080x1080 with 64 Axes>"
      ]
     },
     "metadata": {
      "needs_background": "light"
     },
     "output_type": "display_data"
    }
   ],
   "source": [
    "pd.plotting.scatter_matrix(data_exp, figsize=(15, 15))\n",
    "plt.show()"
   ]
  },
  {
   "cell_type": "code",
   "execution_count": 78,
   "metadata": {},
   "outputs": [
    {
     "data": {
      "text/plain": [
       "<AxesSubplot:>"
      ]
     },
     "execution_count": 78,
     "metadata": {},
     "output_type": "execute_result"
    },
    {
     "data": {
      "image/png": "[encoded data removed]",
      "text/plain": [
       "<Figure size 720x720 with 2 Axes>"
      ]
     },
     "metadata": {
      "needs_background": "light"
     },
     "output_type": "display_data"
    }
   ],
   "source": [
    "# 各変数の相関係数\n",
    "plt.figure(figsize=(10, 10))\n",
    "sns.heatmap(data_exp.corr(), annot=True)"
   ]
  },
  {
   "cell_type": "markdown",
   "metadata": {},
   "source": [
    "main_categoryに関して，\n",
    "- Music, Theater, Danceはfailedよりもsuccessfulの方が多い\n",
    "- Food, Technologyは他のカテゴリよりも成功率が低い\n",
    "- Design, Gamesは他のカテゴリよりもcanceledの割合が高い\n",
    "\n",
    "ということがわかる．"
   ]
  },
  {
   "cell_type": "markdown",
   "metadata": {},
   "source": [
    "# データの前処理"
   ]
  },
  {
   "cell_type": "markdown",
   "metadata": {},
   "source": [
    "ここではデータの前処理として\n",
    "- 不要な変数の削除\n",
    "- カテゴリ変数のone-hot encoding\n",
    "\n",
    "を行う．"
   ]
  },
  {
   "cell_type": "code",
   "execution_count": 79,
   "metadata": {},
   "outputs": [],
   "source": [
    "data_exp2 = data.copy(deep=True)"
   ]
  },
  {
   "cell_type": "code",
   "execution_count": 80,
   "metadata": {},
   "outputs": [
    {
     "data": {
      "text/html": [
       "<div>\n",
       "<style scoped>\n",
       "    .dataframe tbody tr th:only-of-type {\n",
       "        vertical-align: middle;\n",
       "    }\n",
       "\n",
       "    .dataframe tbody tr th {\n",
       "        vertical-align: top;\n",
       "    }\n",
       "\n",
       "    .dataframe thead th {\n",
       "        text-align: right;\n",
       "    }\n",
       "</style>\n",
       "<table border=\"1\" class=\"dataframe\">\n",
       "  <thead>\n",
       "    <tr style=\"text-align: right;\">\n",
       "      <th></th>\n",
       "      <th>state</th>\n",
       "      <th>usd_goal_real</th>\n",
       "      <th>time_period_days</th>\n",
       "      <th>launched_month</th>\n",
       "      <th>category_Accessories</th>\n",
       "      <th>category_Apparel</th>\n",
       "      <th>category_Apps</th>\n",
       "      <th>category_Art</th>\n",
       "      <th>category_Children's Books</th>\n",
       "      <th>category_Comics</th>\n",
       "      <th>...</th>\n",
       "      <th>currency_CAD</th>\n",
       "      <th>currency_EUR</th>\n",
       "      <th>currency_GBP</th>\n",
       "      <th>currency_USD</th>\n",
       "      <th>currency_cur_other</th>\n",
       "      <th>country_AU</th>\n",
       "      <th>country_CA</th>\n",
       "      <th>country_GB</th>\n",
       "      <th>country_US</th>\n",
       "      <th>country_cou_other</th>\n",
       "    </tr>\n",
       "  </thead>\n",
       "  <tbody>\n",
       "    <tr>\n",
       "      <th>0</th>\n",
       "      <td>0</td>\n",
       "      <td>1533.95</td>\n",
       "      <td>58</td>\n",
       "      <td>8</td>\n",
       "      <td>0</td>\n",
       "      <td>0</td>\n",
       "      <td>0</td>\n",
       "      <td>0</td>\n",
       "      <td>0</td>\n",
       "      <td>0</td>\n",
       "      <td>...</td>\n",
       "      <td>0</td>\n",
       "      <td>0</td>\n",
       "      <td>1</td>\n",
       "      <td>0</td>\n",
       "      <td>0</td>\n",
       "      <td>0</td>\n",
       "      <td>0</td>\n",
       "      <td>1</td>\n",
       "      <td>0</td>\n",
       "      <td>0</td>\n",
       "    </tr>\n",
       "    <tr>\n",
       "      <th>1</th>\n",
       "      <td>0</td>\n",
       "      <td>30000.00</td>\n",
       "      <td>59</td>\n",
       "      <td>9</td>\n",
       "      <td>0</td>\n",
       "      <td>0</td>\n",
       "      <td>0</td>\n",
       "      <td>0</td>\n",
       "      <td>0</td>\n",
       "      <td>0</td>\n",
       "      <td>...</td>\n",
       "      <td>0</td>\n",
       "      <td>0</td>\n",
       "      <td>0</td>\n",
       "      <td>1</td>\n",
       "      <td>0</td>\n",
       "      <td>0</td>\n",
       "      <td>0</td>\n",
       "      <td>0</td>\n",
       "      <td>1</td>\n",
       "      <td>0</td>\n",
       "    </tr>\n",
       "    <tr>\n",
       "      <th>2</th>\n",
       "      <td>0</td>\n",
       "      <td>45000.00</td>\n",
       "      <td>44</td>\n",
       "      <td>1</td>\n",
       "      <td>0</td>\n",
       "      <td>0</td>\n",
       "      <td>0</td>\n",
       "      <td>0</td>\n",
       "      <td>0</td>\n",
       "      <td>0</td>\n",
       "      <td>...</td>\n",
       "      <td>0</td>\n",
       "      <td>0</td>\n",
       "      <td>0</td>\n",
       "      <td>1</td>\n",
       "      <td>0</td>\n",
       "      <td>0</td>\n",
       "      <td>0</td>\n",
       "      <td>0</td>\n",
       "      <td>1</td>\n",
       "      <td>0</td>\n",
       "    </tr>\n",
       "    <tr>\n",
       "      <th>3</th>\n",
       "      <td>0</td>\n",
       "      <td>5000.00</td>\n",
       "      <td>29</td>\n",
       "      <td>3</td>\n",
       "      <td>0</td>\n",
       "      <td>0</td>\n",
       "      <td>0</td>\n",
       "      <td>0</td>\n",
       "      <td>0</td>\n",
       "      <td>0</td>\n",
       "      <td>...</td>\n",
       "      <td>0</td>\n",
       "      <td>0</td>\n",
       "      <td>0</td>\n",
       "      <td>1</td>\n",
       "      <td>0</td>\n",
       "      <td>0</td>\n",
       "      <td>0</td>\n",
       "      <td>0</td>\n",
       "      <td>1</td>\n",
       "      <td>0</td>\n",
       "    </tr>\n",
       "    <tr>\n",
       "      <th>4</th>\n",
       "      <td>0</td>\n",
       "      <td>19500.00</td>\n",
       "      <td>55</td>\n",
       "      <td>7</td>\n",
       "      <td>0</td>\n",
       "      <td>0</td>\n",
       "      <td>0</td>\n",
       "      <td>0</td>\n",
       "      <td>0</td>\n",
       "      <td>0</td>\n",
       "      <td>...</td>\n",
       "      <td>0</td>\n",
       "      <td>0</td>\n",
       "      <td>0</td>\n",
       "      <td>1</td>\n",
       "      <td>0</td>\n",
       "      <td>0</td>\n",
       "      <td>0</td>\n",
       "      <td>0</td>\n",
       "      <td>1</td>\n",
       "      <td>0</td>\n",
       "    </tr>\n",
       "  </tbody>\n",
       "</table>\n",
       "<p>5 rows × 68 columns</p>\n",
       "</div>"
      ],
      "text/plain": [
       "   state  usd_goal_real  time_period_days  launched_month  \\\n",
       "0      0        1533.95                58               8   \n",
       "1      0       30000.00                59               9   \n",
       "2      0       45000.00                44               1   \n",
       "3      0        5000.00                29               3   \n",
       "4      0       19500.00                55               7   \n",
       "\n",
       "   category_Accessories  category_Apparel  category_Apps  category_Art  \\\n",
       "0                     0                 0              0             0   \n",
       "1                     0                 0              0             0   \n",
       "2                     0                 0              0             0   \n",
       "3                     0                 0              0             0   \n",
       "4                     0                 0              0             0   \n",
       "\n",
       "   category_Children's Books  category_Comics  ...  currency_CAD  \\\n",
       "0                          0                0  ...             0   \n",
       "1                          0                0  ...             0   \n",
       "2                          0                0  ...             0   \n",
       "3                          0                0  ...             0   \n",
       "4                          0                0  ...             0   \n",
       "\n",
       "   currency_EUR  currency_GBP  currency_USD  currency_cur_other  country_AU  \\\n",
       "0             0             1             0                   0           0   \n",
       "1             0             0             1                   0           0   \n",
       "2             0             0             1                   0           0   \n",
       "3             0             0             1                   0           0   \n",
       "4             0             0             1                   0           0   \n",
       "\n",
       "   country_CA  country_GB  country_US  country_cou_other  \n",
       "0           0           1           0                  0  \n",
       "1           0           0           1                  0  \n",
       "2           0           0           1                  0  \n",
       "3           0           0           1                  0  \n",
       "4           0           0           1                  0  \n",
       "\n",
       "[5 rows x 68 columns]"
      ]
     },
     "execution_count": 80,
     "metadata": {},
     "output_type": "execute_result"
    }
   ],
   "source": [
    "data_dummy = pd.get_dummies(data_exp2)\n",
    "data_dummy.head()"
   ]
  },
  {
   "cell_type": "code",
   "execution_count": null,
   "metadata": {},
   "outputs": [],
   "source": []
  }
 ],
 "metadata": {
  "kernelspec": {
   "display_name": "Python 3",
   "language": "python",
   "name": "python3"
  },
  "language_info": {
   "codemirror_mode": {
    "name": "ipython",
    "version": 3
   },
   "file_extension": ".py",
   "mimetype": "text/x-python",
   "name": "python",
   "nbconvert_exporter": "python",
   "pygments_lexer": "ipython3",
   "version": "3.7.4"
  },
  "toc": {
   "base_numbering": 1,
   "nav_menu": {},
   "number_sections": true,
   "sideBar": true,
   "skip_h1_title": false,
   "title_cell": "Table of Contents",
   "title_sidebar": "Contents",
   "toc_cell": false,
   "toc_position": {
    "height": "calc(100% - 180px)",
    "left": "10px",
    "top": "150px",
    "width": "318.837px"
   },
   "toc_section_display": true,
   "toc_window_display": true
  },
  "varInspector": {
   "cols": {
    "lenName": 16,
    "lenType": 16,
    "lenVar": 40
   },
   "kernels_config": {
    "python": {
     "delete_cmd_postfix": "",
     "delete_cmd_prefix": "del ",
     "library": "var_list.py",
     "varRefreshCmd": "print(var_dic_list())"
    },
    "r": {
     "delete_cmd_postfix": ") ",
     "delete_cmd_prefix": "rm(",
     "library": "var_list.r",
     "varRefreshCmd": "cat(var_dic_list()) "
    }
   },
   "types_to_exclude": [
    "module",
    "function",
    "builtin_function_or_method",
    "instance",
    "_Feature"
   ],
   "window_display": false
  }
 },
 "nbformat": 4,
 "nbformat_minor": 4
}
