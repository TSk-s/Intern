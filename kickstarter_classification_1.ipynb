{
 "cells": [
  {
   "cell_type": "markdown",
   "metadata": {},
   "source": [
    "# Kickstarter Projects"
   ]
  },
  {
   "cell_type": "markdown",
   "metadata": {},
   "source": [
    "## 目的\n",
    "**プロジェクトのカテゴリや最終的に集めたい金額などからクラウドファンディングが成功するかどうかを予測する**"
   ]
  },
  {
   "cell_type": "markdown",
   "metadata": {},
   "source": [
    "## Kaggle\n",
    "https://www.kaggle.com/kemical/kickstarter-projects"
   ]
  },
  {
   "cell_type": "markdown",
   "metadata": {},
   "source": [
    "# データセットの確認"
   ]
  },
  {
   "cell_type": "markdown",
   "metadata": {},
   "source": [
    "## データの読み込み"
   ]
  },
  {
   "cell_type": "code",
   "execution_count": 51,
   "metadata": {},
   "outputs": [],
   "source": [
    "import pandas as pd\n",
    "import numpy as np\n",
    "import matplotlib.pyplot as plt\n",
    "import seaborn as sns\n",
    "from sklearn.linear_model import LogisticRegression\n",
    "import datetime"
   ]
  },
  {
   "cell_type": "code",
   "execution_count": 2,
   "metadata": {},
   "outputs": [
    {
     "data": {
      "text/html": [
       "<div>\n",
       "<style scoped>\n",
       "    .dataframe tbody tr th:only-of-type {\n",
       "        vertical-align: middle;\n",
       "    }\n",
       "\n",
       "    .dataframe tbody tr th {\n",
       "        vertical-align: top;\n",
       "    }\n",
       "\n",
       "    .dataframe thead th {\n",
       "        text-align: right;\n",
       "    }\n",
       "</style>\n",
       "<table border=\"1\" class=\"dataframe\">\n",
       "  <thead>\n",
       "    <tr style=\"text-align: right;\">\n",
       "      <th></th>\n",
       "      <th>ID</th>\n",
       "      <th>name</th>\n",
       "      <th>category</th>\n",
       "      <th>main_category</th>\n",
       "      <th>currency</th>\n",
       "      <th>deadline</th>\n",
       "      <th>goal</th>\n",
       "      <th>launched</th>\n",
       "      <th>pledged</th>\n",
       "      <th>state</th>\n",
       "      <th>backers</th>\n",
       "      <th>country</th>\n",
       "      <th>usd pledged</th>\n",
       "      <th>usd_pledged_real</th>\n",
       "      <th>usd_goal_real</th>\n",
       "    </tr>\n",
       "  </thead>\n",
       "  <tbody>\n",
       "    <tr>\n",
       "      <th>0</th>\n",
       "      <td>1000002330</td>\n",
       "      <td>The Songs of Adelaide &amp; Abullah</td>\n",
       "      <td>Poetry</td>\n",
       "      <td>Publishing</td>\n",
       "      <td>GBP</td>\n",
       "      <td>2015-10-09</td>\n",
       "      <td>1000.0</td>\n",
       "      <td>2015-08-11 12:12:28</td>\n",
       "      <td>0.0</td>\n",
       "      <td>failed</td>\n",
       "      <td>0</td>\n",
       "      <td>GB</td>\n",
       "      <td>0.0</td>\n",
       "      <td>0.0</td>\n",
       "      <td>1533.95</td>\n",
       "    </tr>\n",
       "    <tr>\n",
       "      <th>1</th>\n",
       "      <td>1000003930</td>\n",
       "      <td>Greeting From Earth: ZGAC Arts Capsule For ET</td>\n",
       "      <td>Narrative Film</td>\n",
       "      <td>Film &amp; Video</td>\n",
       "      <td>USD</td>\n",
       "      <td>2017-11-01</td>\n",
       "      <td>30000.0</td>\n",
       "      <td>2017-09-02 04:43:57</td>\n",
       "      <td>2421.0</td>\n",
       "      <td>failed</td>\n",
       "      <td>15</td>\n",
       "      <td>US</td>\n",
       "      <td>100.0</td>\n",
       "      <td>2421.0</td>\n",
       "      <td>30000.00</td>\n",
       "    </tr>\n",
       "    <tr>\n",
       "      <th>2</th>\n",
       "      <td>1000004038</td>\n",
       "      <td>Where is Hank?</td>\n",
       "      <td>Narrative Film</td>\n",
       "      <td>Film &amp; Video</td>\n",
       "      <td>USD</td>\n",
       "      <td>2013-02-26</td>\n",
       "      <td>45000.0</td>\n",
       "      <td>2013-01-12 00:20:50</td>\n",
       "      <td>220.0</td>\n",
       "      <td>failed</td>\n",
       "      <td>3</td>\n",
       "      <td>US</td>\n",
       "      <td>220.0</td>\n",
       "      <td>220.0</td>\n",
       "      <td>45000.00</td>\n",
       "    </tr>\n",
       "    <tr>\n",
       "      <th>3</th>\n",
       "      <td>1000007540</td>\n",
       "      <td>ToshiCapital Rekordz Needs Help to Complete Album</td>\n",
       "      <td>Music</td>\n",
       "      <td>Music</td>\n",
       "      <td>USD</td>\n",
       "      <td>2012-04-16</td>\n",
       "      <td>5000.0</td>\n",
       "      <td>2012-03-17 03:24:11</td>\n",
       "      <td>1.0</td>\n",
       "      <td>failed</td>\n",
       "      <td>1</td>\n",
       "      <td>US</td>\n",
       "      <td>1.0</td>\n",
       "      <td>1.0</td>\n",
       "      <td>5000.00</td>\n",
       "    </tr>\n",
       "    <tr>\n",
       "      <th>4</th>\n",
       "      <td>1000011046</td>\n",
       "      <td>Community Film Project: The Art of Neighborhoo...</td>\n",
       "      <td>Film &amp; Video</td>\n",
       "      <td>Film &amp; Video</td>\n",
       "      <td>USD</td>\n",
       "      <td>2015-08-29</td>\n",
       "      <td>19500.0</td>\n",
       "      <td>2015-07-04 08:35:03</td>\n",
       "      <td>1283.0</td>\n",
       "      <td>canceled</td>\n",
       "      <td>14</td>\n",
       "      <td>US</td>\n",
       "      <td>1283.0</td>\n",
       "      <td>1283.0</td>\n",
       "      <td>19500.00</td>\n",
       "    </tr>\n",
       "  </tbody>\n",
       "</table>\n",
       "</div>"
      ],
      "text/plain": [
       "           ID                                               name  \\\n",
       "0  1000002330                    The Songs of Adelaide & Abullah   \n",
       "1  1000003930      Greeting From Earth: ZGAC Arts Capsule For ET   \n",
       "2  1000004038                                     Where is Hank?   \n",
       "3  1000007540  ToshiCapital Rekordz Needs Help to Complete Album   \n",
       "4  1000011046  Community Film Project: The Art of Neighborhoo...   \n",
       "\n",
       "         category main_category currency    deadline     goal  \\\n",
       "0          Poetry    Publishing      GBP  2015-10-09   1000.0   \n",
       "1  Narrative Film  Film & Video      USD  2017-11-01  30000.0   \n",
       "2  Narrative Film  Film & Video      USD  2013-02-26  45000.0   \n",
       "3           Music         Music      USD  2012-04-16   5000.0   \n",
       "4    Film & Video  Film & Video      USD  2015-08-29  19500.0   \n",
       "\n",
       "              launched  pledged     state  backers country  usd pledged  \\\n",
       "0  2015-08-11 12:12:28      0.0    failed        0      GB          0.0   \n",
       "1  2017-09-02 04:43:57   2421.0    failed       15      US        100.0   \n",
       "2  2013-01-12 00:20:50    220.0    failed        3      US        220.0   \n",
       "3  2012-03-17 03:24:11      1.0    failed        1      US          1.0   \n",
       "4  2015-07-04 08:35:03   1283.0  canceled       14      US       1283.0   \n",
       "\n",
       "   usd_pledged_real  usd_goal_real  \n",
       "0               0.0        1533.95  \n",
       "1            2421.0       30000.00  \n",
       "2             220.0       45000.00  \n",
       "3               1.0        5000.00  \n",
       "4            1283.0       19500.00  "
      ]
     },
     "execution_count": 2,
     "metadata": {},
     "output_type": "execute_result"
    }
   ],
   "source": [
    "# 分析用データとして ks-projects-201801.csv のみを用いる\n",
    "data = pd.read_csv('./ks-projects-201801.csv' )\n",
    "\n",
    "data.head()"
   ]
  },
  {
   "cell_type": "markdown",
   "metadata": {},
   "source": [
    "## 各列の説明\n",
    "\n",
    "参考) : <br>\n",
    "https://kickstarternavi.jp/tips/196/<br>\n",
    "\n",
    "https://help.kickstarter.com/hc/ja/articles/115005028514-Kickstarter-%E3%81%AE%E5%9F%BA%E6%9C%AC%E3%81%A8%E3%81%AF%E3%81%AA%E3%82%93%E3%81%A7%E3%81%99%E3%81%8B-"
   ]
  },
  {
   "cell_type": "markdown",
   "metadata": {},
   "source": [
    "| 列名 | 説明 |\n",
    "|:-|:-|\n",
    "|　ID　|　識別番号　|\n",
    "| name | クラウドファンディングのプロジェクト名 |\n",
    "| category | カテゴリー |\n",
    "| main_category | おおまかなカテゴリー |\n",
    "| currency | 支援に必要な通貨 |\n",
    "| deadline | クラウドファンディングの締め切り日 |\n",
    "| goal | 集めたい金額 |\n",
    "| launched | クラウドファンディングの開始日時 |\n",
    "| pledged | 最終的に集まった支援金額 |\n",
    "| state | 成功したかどうか　(今回の目的変数) |\n",
    "| backers | 支援者の人数 |\n",
    "| country | 募集側の国名 |\n",
    "| usd pledged | 最終的に集まった支援金額(USドル, Kickstarterが掲載している金額) |\n",
    "| usd_pledged_real | 最終的に集まった支援金額(USドル, Fixer.io APIによって計算した金額) |\n",
    "| usd_goal_real | 集めたい金額(USドル) |"
   ]
  },
  {
   "cell_type": "markdown",
   "metadata": {},
   "source": [
    "今回は成功するかどうかを予測するモデルを作りたいので，目的変数は **state** である．<br>\n",
    "また予測はクラウドファンディングの募集開始前に行うので，\n",
    "- pledged\n",
    "- backers\n",
    "- usd pledged\n",
    "- usd_pledged_real\n",
    "\n",
    "は説明変数として用いないものとする．\n",
    "\n",
    "さらに\n",
    "- IDはただの識別番号であり，予測に使用できるものではない点\n",
    "- nameにも多くの情報は含まれているが，一つ一つが異なり扱いが非常に難しい点\n",
    "\n",
    "からID, nameについても説明変数としては用いないものとする．"
   ]
  },
  {
   "cell_type": "code",
   "execution_count": 3,
   "metadata": {},
   "outputs": [
    {
     "data": {
      "text/html": [
       "<div>\n",
       "<style scoped>\n",
       "    .dataframe tbody tr th:only-of-type {\n",
       "        vertical-align: middle;\n",
       "    }\n",
       "\n",
       "    .dataframe tbody tr th {\n",
       "        vertical-align: top;\n",
       "    }\n",
       "\n",
       "    .dataframe thead th {\n",
       "        text-align: right;\n",
       "    }\n",
       "</style>\n",
       "<table border=\"1\" class=\"dataframe\">\n",
       "  <thead>\n",
       "    <tr style=\"text-align: right;\">\n",
       "      <th></th>\n",
       "      <th>category</th>\n",
       "      <th>main_category</th>\n",
       "      <th>currency</th>\n",
       "      <th>deadline</th>\n",
       "      <th>goal</th>\n",
       "      <th>launched</th>\n",
       "      <th>state</th>\n",
       "      <th>country</th>\n",
       "      <th>usd_goal_real</th>\n",
       "    </tr>\n",
       "  </thead>\n",
       "  <tbody>\n",
       "    <tr>\n",
       "      <th>0</th>\n",
       "      <td>Poetry</td>\n",
       "      <td>Publishing</td>\n",
       "      <td>GBP</td>\n",
       "      <td>2015-10-09</td>\n",
       "      <td>1000.0</td>\n",
       "      <td>2015-08-11 12:12:28</td>\n",
       "      <td>failed</td>\n",
       "      <td>GB</td>\n",
       "      <td>1533.95</td>\n",
       "    </tr>\n",
       "    <tr>\n",
       "      <th>1</th>\n",
       "      <td>Narrative Film</td>\n",
       "      <td>Film &amp; Video</td>\n",
       "      <td>USD</td>\n",
       "      <td>2017-11-01</td>\n",
       "      <td>30000.0</td>\n",
       "      <td>2017-09-02 04:43:57</td>\n",
       "      <td>failed</td>\n",
       "      <td>US</td>\n",
       "      <td>30000.00</td>\n",
       "    </tr>\n",
       "    <tr>\n",
       "      <th>2</th>\n",
       "      <td>Narrative Film</td>\n",
       "      <td>Film &amp; Video</td>\n",
       "      <td>USD</td>\n",
       "      <td>2013-02-26</td>\n",
       "      <td>45000.0</td>\n",
       "      <td>2013-01-12 00:20:50</td>\n",
       "      <td>failed</td>\n",
       "      <td>US</td>\n",
       "      <td>45000.00</td>\n",
       "    </tr>\n",
       "    <tr>\n",
       "      <th>3</th>\n",
       "      <td>Music</td>\n",
       "      <td>Music</td>\n",
       "      <td>USD</td>\n",
       "      <td>2012-04-16</td>\n",
       "      <td>5000.0</td>\n",
       "      <td>2012-03-17 03:24:11</td>\n",
       "      <td>failed</td>\n",
       "      <td>US</td>\n",
       "      <td>5000.00</td>\n",
       "    </tr>\n",
       "    <tr>\n",
       "      <th>4</th>\n",
       "      <td>Film &amp; Video</td>\n",
       "      <td>Film &amp; Video</td>\n",
       "      <td>USD</td>\n",
       "      <td>2015-08-29</td>\n",
       "      <td>19500.0</td>\n",
       "      <td>2015-07-04 08:35:03</td>\n",
       "      <td>canceled</td>\n",
       "      <td>US</td>\n",
       "      <td>19500.00</td>\n",
       "    </tr>\n",
       "  </tbody>\n",
       "</table>\n",
       "</div>"
      ],
      "text/plain": [
       "         category main_category currency    deadline     goal  \\\n",
       "0          Poetry    Publishing      GBP  2015-10-09   1000.0   \n",
       "1  Narrative Film  Film & Video      USD  2017-11-01  30000.0   \n",
       "2  Narrative Film  Film & Video      USD  2013-02-26  45000.0   \n",
       "3           Music         Music      USD  2012-04-16   5000.0   \n",
       "4    Film & Video  Film & Video      USD  2015-08-29  19500.0   \n",
       "\n",
       "              launched     state country  usd_goal_real  \n",
       "0  2015-08-11 12:12:28    failed      GB        1533.95  \n",
       "1  2017-09-02 04:43:57    failed      US       30000.00  \n",
       "2  2013-01-12 00:20:50    failed      US       45000.00  \n",
       "3  2012-03-17 03:24:11    failed      US        5000.00  \n",
       "4  2015-07-04 08:35:03  canceled      US       19500.00  "
      ]
     },
     "execution_count": 3,
     "metadata": {},
     "output_type": "execute_result"
    }
   ],
   "source": [
    "# dataから説明変数として用いない変数を消去\n",
    "data.drop(['ID', 'name', 'pledged', 'backers', 'usd pledged', 'usd_pledged_real'], axis=1, inplace=True)\n",
    "\n",
    "data.head()"
   ]
  },
  {
   "cell_type": "markdown",
   "metadata": {},
   "source": [
    "## 各列の代表値と欠損値"
   ]
  },
  {
   "cell_type": "code",
   "execution_count": 4,
   "metadata": {},
   "outputs": [
    {
     "data": {
      "text/html": [
       "<div>\n",
       "<style scoped>\n",
       "    .dataframe tbody tr th:only-of-type {\n",
       "        vertical-align: middle;\n",
       "    }\n",
       "\n",
       "    .dataframe tbody tr th {\n",
       "        vertical-align: top;\n",
       "    }\n",
       "\n",
       "    .dataframe thead th {\n",
       "        text-align: right;\n",
       "    }\n",
       "</style>\n",
       "<table border=\"1\" class=\"dataframe\">\n",
       "  <thead>\n",
       "    <tr style=\"text-align: right;\">\n",
       "      <th></th>\n",
       "      <th>goal</th>\n",
       "      <th>usd_goal_real</th>\n",
       "    </tr>\n",
       "  </thead>\n",
       "  <tbody>\n",
       "    <tr>\n",
       "      <th>count</th>\n",
       "      <td>3.786610e+05</td>\n",
       "      <td>3.786610e+05</td>\n",
       "    </tr>\n",
       "    <tr>\n",
       "      <th>mean</th>\n",
       "      <td>4.908079e+04</td>\n",
       "      <td>4.545440e+04</td>\n",
       "    </tr>\n",
       "    <tr>\n",
       "      <th>std</th>\n",
       "      <td>1.183391e+06</td>\n",
       "      <td>1.152950e+06</td>\n",
       "    </tr>\n",
       "    <tr>\n",
       "      <th>min</th>\n",
       "      <td>1.000000e-02</td>\n",
       "      <td>1.000000e-02</td>\n",
       "    </tr>\n",
       "    <tr>\n",
       "      <th>25%</th>\n",
       "      <td>2.000000e+03</td>\n",
       "      <td>2.000000e+03</td>\n",
       "    </tr>\n",
       "    <tr>\n",
       "      <th>50%</th>\n",
       "      <td>5.200000e+03</td>\n",
       "      <td>5.500000e+03</td>\n",
       "    </tr>\n",
       "    <tr>\n",
       "      <th>75%</th>\n",
       "      <td>1.600000e+04</td>\n",
       "      <td>1.550000e+04</td>\n",
       "    </tr>\n",
       "    <tr>\n",
       "      <th>max</th>\n",
       "      <td>1.000000e+08</td>\n",
       "      <td>1.663614e+08</td>\n",
       "    </tr>\n",
       "  </tbody>\n",
       "</table>\n",
       "</div>"
      ],
      "text/plain": [
       "               goal  usd_goal_real\n",
       "count  3.786610e+05   3.786610e+05\n",
       "mean   4.908079e+04   4.545440e+04\n",
       "std    1.183391e+06   1.152950e+06\n",
       "min    1.000000e-02   1.000000e-02\n",
       "25%    2.000000e+03   2.000000e+03\n",
       "50%    5.200000e+03   5.500000e+03\n",
       "75%    1.600000e+04   1.550000e+04\n",
       "max    1.000000e+08   1.663614e+08"
      ]
     },
     "execution_count": 4,
     "metadata": {},
     "output_type": "execute_result"
    }
   ],
   "source": [
    "# 量的変数の代表値を表示\n",
    "data.describe()"
   ]
  },
  {
   "cell_type": "code",
   "execution_count": 5,
   "metadata": {},
   "outputs": [
    {
     "data": {
      "text/plain": [
       "(378661, 9)"
      ]
     },
     "execution_count": 5,
     "metadata": {},
     "output_type": "execute_result"
    }
   ],
   "source": [
    "# データ数の確認\n",
    "data.shape"
   ]
  },
  {
   "cell_type": "markdown",
   "metadata": {},
   "source": [
    "goalとusd_goal_realの最小値が1ドルを切っている． $\\rightarrow$ 異常値の可能性があるので要確認<br>\n",
    "goalの平均額が第三四分位数よりも大きくなっている． $\\rightarrow$ goalの分布は高額なものがかなり少ないと予想"
   ]
  },
  {
   "cell_type": "code",
   "execution_count": 6,
   "metadata": {},
   "outputs": [
    {
     "data": {
      "text/plain": [
       "category         0\n",
       "main_category    0\n",
       "currency         0\n",
       "deadline         0\n",
       "goal             0\n",
       "launched         0\n",
       "state            0\n",
       "country          0\n",
       "usd_goal_real    0\n",
       "dtype: int64"
      ]
     },
     "execution_count": 6,
     "metadata": {},
     "output_type": "execute_result"
    }
   ],
   "source": [
    "# dataの欠損値確認\n",
    "data.isnull().sum()"
   ]
  },
  {
   "cell_type": "markdown",
   "metadata": {},
   "source": [
    "上記から今回用いるデータには欠損値がないことがわかるので，欠損値の補完は行わない．"
   ]
  },
  {
   "cell_type": "markdown",
   "metadata": {},
   "source": [
    "# 変数の分布の可視化"
   ]
  },
  {
   "cell_type": "markdown",
   "metadata": {},
   "source": [
    "## 目的変数の分布の可視化"
   ]
  },
  {
   "cell_type": "code",
   "execution_count": 7,
   "metadata": {
    "scrolled": false
   },
   "outputs": [
    {
     "data": {
      "image/png": "[encoded data removed]",
      "text/plain": [
       "<Figure size 720x720 with 1 Axes>"
      ]
     },
     "metadata": {
      "needs_background": "light"
     },
     "output_type": "display_data"
    }
   ],
   "source": [
    "plt.figure(figsize=(10, 10))\n",
    "sns.countplot(x='state', data=data)\n",
    "plt.tight_layout()"
   ]
  },
  {
   "cell_type": "code",
   "execution_count": 8,
   "metadata": {},
   "outputs": [
    {
     "data": {
      "text/plain": [
       "failed        197719\n",
       "successful    133956\n",
       "canceled       38779\n",
       "undefined       3562\n",
       "live            2799\n",
       "suspended       1846\n",
       "Name: state, dtype: int64"
      ]
     },
     "execution_count": 8,
     "metadata": {},
     "output_type": "execute_result"
    }
   ],
   "source": [
    "data['state'].value_counts()"
   ]
  },
  {
   "cell_type": "code",
   "execution_count": 9,
   "metadata": {},
   "outputs": [
    {
     "name": "stdout",
     "output_type": "stream",
     "text": [
      "クラウドファンディングの成功率 : 0.3537623362321443\n"
     ]
    }
   ],
   "source": [
    "data_successful = data['state']=='successful'\n",
    "print(f'クラウドファンディングの成功率 : {data_successful.sum() / data.shape[0]}')"
   ]
  },
  {
   "cell_type": "code",
   "execution_count": 10,
   "metadata": {},
   "outputs": [
    {
     "name": "stdout",
     "output_type": "stream",
     "text": [
      "liveの割合 : 0.0073918359693763026\n",
      "liveのデータ数 : 2799\n"
     ]
    }
   ],
   "source": [
    "data_live = data['state']=='live'\n",
    "print(f'liveの割合 : {data_live.sum() / data.shape[0]}')\n",
    "print(f'liveのデータ数 : {data_live.sum()}')"
   ]
  },
  {
   "cell_type": "code",
   "execution_count": 11,
   "metadata": {},
   "outputs": [
    {
     "name": "stdout",
     "output_type": "stream",
     "text": [
      "successful + failed : 0.8759153966212523\n"
     ]
    }
   ],
   "source": [
    "data_failed = data['state']=='failed'\n",
    "print(f'successful + failed : {(data_successful.sum() + data_failed.sum()) / data.shape[0]}')"
   ]
  },
  {
   "cell_type": "markdown",
   "metadata": {},
   "source": [
    "クラウドファンディングの成功率は35.38%と，半分以上は成功していないことがわかる．<br>\n",
    "successfulとfailedが全体の87.59%を占めていることがわかる．<br>\n",
    "また，全体の0.74%を占めるliveはまだクラウドファンディングを行っているデータであることもわかる．<br>\n",
    "今回はクラウドファンディングが成功するかどうかを予測したいので，liveは分析のデータから除外し，successful以外の4つのカテゴリについてはfailedとしてまとめて分析を行うものとする．"
   ]
  },
  {
   "cell_type": "code",
   "execution_count": 12,
   "metadata": {},
   "outputs": [
    {
     "data": {
      "text/html": [
       "<div>\n",
       "<style scoped>\n",
       "    .dataframe tbody tr th:only-of-type {\n",
       "        vertical-align: middle;\n",
       "    }\n",
       "\n",
       "    .dataframe tbody tr th {\n",
       "        vertical-align: top;\n",
       "    }\n",
       "\n",
       "    .dataframe thead th {\n",
       "        text-align: right;\n",
       "    }\n",
       "</style>\n",
       "<table border=\"1\" class=\"dataframe\">\n",
       "  <thead>\n",
       "    <tr style=\"text-align: right;\">\n",
       "      <th></th>\n",
       "      <th>category</th>\n",
       "      <th>main_category</th>\n",
       "      <th>currency</th>\n",
       "      <th>deadline</th>\n",
       "      <th>goal</th>\n",
       "      <th>launched</th>\n",
       "      <th>state</th>\n",
       "      <th>country</th>\n",
       "      <th>usd_goal_real</th>\n",
       "    </tr>\n",
       "  </thead>\n",
       "  <tbody>\n",
       "    <tr>\n",
       "      <th>0</th>\n",
       "      <td>Poetry</td>\n",
       "      <td>Publishing</td>\n",
       "      <td>GBP</td>\n",
       "      <td>2015-10-09</td>\n",
       "      <td>1000.0</td>\n",
       "      <td>2015-08-11 12:12:28</td>\n",
       "      <td>failed</td>\n",
       "      <td>GB</td>\n",
       "      <td>1533.95</td>\n",
       "    </tr>\n",
       "    <tr>\n",
       "      <th>1</th>\n",
       "      <td>Narrative Film</td>\n",
       "      <td>Film &amp; Video</td>\n",
       "      <td>USD</td>\n",
       "      <td>2017-11-01</td>\n",
       "      <td>30000.0</td>\n",
       "      <td>2017-09-02 04:43:57</td>\n",
       "      <td>failed</td>\n",
       "      <td>US</td>\n",
       "      <td>30000.00</td>\n",
       "    </tr>\n",
       "    <tr>\n",
       "      <th>2</th>\n",
       "      <td>Narrative Film</td>\n",
       "      <td>Film &amp; Video</td>\n",
       "      <td>USD</td>\n",
       "      <td>2013-02-26</td>\n",
       "      <td>45000.0</td>\n",
       "      <td>2013-01-12 00:20:50</td>\n",
       "      <td>failed</td>\n",
       "      <td>US</td>\n",
       "      <td>45000.00</td>\n",
       "    </tr>\n",
       "    <tr>\n",
       "      <th>3</th>\n",
       "      <td>Music</td>\n",
       "      <td>Music</td>\n",
       "      <td>USD</td>\n",
       "      <td>2012-04-16</td>\n",
       "      <td>5000.0</td>\n",
       "      <td>2012-03-17 03:24:11</td>\n",
       "      <td>failed</td>\n",
       "      <td>US</td>\n",
       "      <td>5000.00</td>\n",
       "    </tr>\n",
       "    <tr>\n",
       "      <th>4</th>\n",
       "      <td>Film &amp; Video</td>\n",
       "      <td>Film &amp; Video</td>\n",
       "      <td>USD</td>\n",
       "      <td>2015-08-29</td>\n",
       "      <td>19500.0</td>\n",
       "      <td>2015-07-04 08:35:03</td>\n",
       "      <td>canceled</td>\n",
       "      <td>US</td>\n",
       "      <td>19500.00</td>\n",
       "    </tr>\n",
       "  </tbody>\n",
       "</table>\n",
       "</div>"
      ],
      "text/plain": [
       "         category main_category currency    deadline     goal  \\\n",
       "0          Poetry    Publishing      GBP  2015-10-09   1000.0   \n",
       "1  Narrative Film  Film & Video      USD  2017-11-01  30000.0   \n",
       "2  Narrative Film  Film & Video      USD  2013-02-26  45000.0   \n",
       "3           Music         Music      USD  2012-04-16   5000.0   \n",
       "4    Film & Video  Film & Video      USD  2015-08-29  19500.0   \n",
       "\n",
       "              launched     state country  usd_goal_real  \n",
       "0  2015-08-11 12:12:28    failed      GB        1533.95  \n",
       "1  2017-09-02 04:43:57    failed      US       30000.00  \n",
       "2  2013-01-12 00:20:50    failed      US       45000.00  \n",
       "3  2012-03-17 03:24:11    failed      US        5000.00  \n",
       "4  2015-07-04 08:35:03  canceled      US       19500.00  "
      ]
     },
     "execution_count": 12,
     "metadata": {},
     "output_type": "execute_result"
    }
   ],
   "source": [
    "# 最後にliveの予測を行うため，stateがliveのデータをdata_live_onlyとして保持\n",
    "data_live_only = data[data['state']=='live']\n",
    "# live以外のデータ\n",
    "data = data[data['state']!='live']\n",
    "data.head()"
   ]
  },
  {
   "cell_type": "code",
   "execution_count": 13,
   "metadata": {},
   "outputs": [
    {
     "data": {
      "text/plain": [
       "array(['failed', 'successful'], dtype=object)"
      ]
     },
     "execution_count": 13,
     "metadata": {},
     "output_type": "execute_result"
    }
   ],
   "source": [
    "# dataのsuccessful以外のカテゴリをfailedに変更\n",
    "data = data.replace({'canceled' : 'failed', 'undefined' : 'failed', 'suspended' : 'failed'})\n",
    "data['state'].unique()"
   ]
  },
  {
   "cell_type": "code",
   "execution_count": 54,
   "metadata": {},
   "outputs": [
    {
     "data": {
      "image/png": "[encoded data removed]",
      "text/plain": [
       "<Figure size 720x720 with 1 Axes>"
      ]
     },
     "metadata": {
      "needs_background": "light"
     },
     "output_type": "display_data"
    }
   ],
   "source": [
    "plt.figure(figsize=(10, 10))\n",
    "sns.countplot(x='state', data=data)\n",
    "plt.tight_layout()"
   ]
  },
  {
   "cell_type": "markdown",
   "metadata": {},
   "source": [
    "## 説明変数の分布の可視化"
   ]
  },
  {
   "cell_type": "markdown",
   "metadata": {},
   "source": [
    "### category"
   ]
  },
  {
   "cell_type": "code",
   "execution_count": 14,
   "metadata": {},
   "outputs": [
    {
     "data": {
      "text/plain": [
       "Product Design     22077\n",
       "Documentary        16082\n",
       "Music              15647\n",
       "Tabletop Games     14072\n",
       "Shorts             12311\n",
       "                   ...  \n",
       "Residencies           69\n",
       "Letterpress           48\n",
       "Chiptune              35\n",
       "Literary Spaces       23\n",
       "Taxidermy             13\n",
       "Name: category, Length: 159, dtype: int64"
      ]
     },
     "execution_count": 14,
     "metadata": {},
     "output_type": "execute_result"
    }
   ],
   "source": [
    "data['category'].value_counts()"
   ]
  },
  {
   "cell_type": "code",
   "execution_count": 15,
   "metadata": {},
   "outputs": [
    {
     "name": "stdout",
     "output_type": "stream",
     "text": [
      "{'Fashion', 'Periodicals', 'Ceramics', 'Mobile Games', 'Camera Equipment', '3D Printing', 'Knitting', 'Performances', 'Classical Music', 'Technology', 'Indie Rock', 'Community Gardens', 'Journalism', 'Software', 'Wearables', 'Printing', 'Nature', 'Pet Fashion', 'Performance Art', 'Animation', 'Fantasy', 'Apps', 'Illustration', 'Vegan', 'Young Adult', 'Fabrication Tools', 'Puzzles', 'Rock', 'Academic', 'Conceptual Art', 'Ready-to-wear', 'Digital Art', 'Design', 'Art Books', 'Comic Books', 'Experimental', 'Music', 'Crafts', 'Candles', 'Dance', \"Children's Books\", 'Poetry', 'Product Design', 'Thrillers', 'Plays', 'Textiles', 'Calendars', 'Accessories', 'Pottery', 'Food Trucks', 'Public Art', 'Couture', 'Movie Theaters', 'Chiptune', 'Cookbooks', 'Weaving', 'Architecture', 'Faith', 'Punk', 'Interactive Design', 'Family', 'Documentary', 'Translations', 'Theater', 'Robots', 'Places', 'Sound', 'Web', 'Publishing', 'Hip-Hop', 'Art', 'Literary Journals', 'Woodworking', 'Photobooks', 'Events', \"Farmer's Markets\", 'Restaurants', 'Painting', 'Live Games', 'R&B', 'DIY Electronics', 'Action', 'Civic Design', 'Childrenswear', 'Typography', 'Makerspaces', 'Stationery', 'Literary Spaces', 'Film & Video', 'People', 'Video Art', 'Print', 'Farms', 'Science Fiction', 'DIY', 'Drinks', 'Comics', 'Anthologies', 'Spaces', 'Letterpress', 'Gadgets', 'Glass', 'Games', 'Pop', 'Jewelry', 'Country & Folk', 'Jazz', 'Immersive', 'Apparel', 'Crochet', 'Quilts', 'Shorts', 'World Music', 'Webseries', 'Romance', 'Small Batch', 'Electronic Music', 'Hardware', 'Zines', 'Workshops', 'Television', 'Kids', 'Musical', 'Photography', 'Horror', 'Blues', 'Footwear', 'Latin', 'Taxidermy', 'Tabletop Games', 'Metal', 'Playing Cards', 'Fiction', 'Animals', 'Radio & Podcasts', 'Festivals', 'Graphic Novels', 'Sculpture', 'Bacon', 'Fine Art', 'Drama', 'Video Games', 'Residencies', 'Mixed Media', 'Webcomics', 'Photo', 'Video', 'Space Exploration', 'Installations', 'Nonfiction', 'Graphic Design', 'Gaming Hardware', 'Flight', 'Food', 'Comedy', 'Narrative Film', 'Music Videos', 'Audio', 'Embroidery'}\n"
     ]
    }
   ],
   "source": [
    "print(set(data['category']))"
   ]
  },
  {
   "cell_type": "code",
   "execution_count": 16,
   "metadata": {},
   "outputs": [
    {
     "data": {
      "image/png": "[encoded data removed]",
      "text/plain": [
       "<Figure size 1080x720 with 1 Axes>"
      ]
     },
     "metadata": {
      "needs_background": "light"
     },
     "output_type": "display_data"
    }
   ],
   "source": [
    "plt.figure(figsize=(15,10))\n",
    "sns.countplot(x='category', data=data)\n",
    "plt.tight_layout()"
   ]
  },
  {
   "cell_type": "code",
   "execution_count": 17,
   "metadata": {},
   "outputs": [
    {
     "name": "stdout",
     "output_type": "stream",
     "text": [
      "categoryの出現回数が3000回以上のカテゴリ数\n",
      "37\n",
      "categoryの出現回数が3000回以上のデータ数\n",
      "0.7168109572130197\n"
     ]
    }
   ],
   "source": [
    "data_category = data['category'].value_counts()\n",
    "data_category = pd.DataFrame(data_category)\n",
    "\n",
    "print('categoryの出現回数が3000回以上のカテゴリ数')\n",
    "print(sum(data_category['category'] >= 3000))\n",
    "print('categoryの出現回数が3000回以上のデータ数')\n",
    "print(data_category[data_category['category'] >= 3000].sum()[0] / data.shape[0])"
   ]
  },
  {
   "cell_type": "markdown",
   "metadata": {},
   "source": [
    "categoryはmian_categoryをより詳しく分類したもので，159種類ある．<br>\n",
    "このまま用いるとカテゴリ数が多く，各カテゴリの出現回数にはばらつきがあるため，出現頻度の少ないカテゴリをまとめてしまいたい．<br>\n",
    "そこで出現回数が3000回以上のカテゴリはそのまま用いて，3000回以下のカテゴリをまとめることを考える．<br>\n",
    "この場合全体の28.32%がその他に分類されることになり，カテゴリ数を1/4程度に減らすことができる．"
   ]
  },
  {
   "cell_type": "code",
   "execution_count": null,
   "metadata": {},
   "outputs": [],
   "source": []
  },
  {
   "cell_type": "markdown",
   "metadata": {},
   "source": [
    "### main_category"
   ]
  },
  {
   "cell_type": "code",
   "execution_count": 18,
   "metadata": {},
   "outputs": [
    {
     "data": {
      "image/png": "[encoded data removed]",
      "text/plain": [
       "<Figure size 1080x720 with 1 Axes>"
      ]
     },
     "metadata": {
      "needs_background": "light"
     },
     "output_type": "display_data"
    }
   ],
   "source": [
    "plt.figure(figsize=(15,10))\n",
    "sns.countplot(x='main_category', data=data)\n",
    "plt.tight_layout()"
   ]
  },
  {
   "cell_type": "code",
   "execution_count": 19,
   "metadata": {},
   "outputs": [
    {
     "data": {
      "text/plain": [
       "Film & Video    63253\n",
       "Music           51637\n",
       "Publishing      39575\n",
       "Games           34944\n",
       "Technology      32192\n",
       "Design          29765\n",
       "Art             27959\n",
       "Food            24418\n",
       "Fashion         22566\n",
       "Theater         10872\n",
       "Comics          10743\n",
       "Photography     10731\n",
       "Crafts           8733\n",
       "Journalism       4724\n",
       "Dance            3750\n",
       "Name: main_category, dtype: int64"
      ]
     },
     "execution_count": 19,
     "metadata": {},
     "output_type": "execute_result"
    }
   ],
   "source": [
    "data['main_category'].value_counts()"
   ]
  },
  {
   "cell_type": "markdown",
   "metadata": {},
   "source": [
    "main_categoryは15種類存在する．<br>\n",
    "カテゴリごとの数にばらつきはあるが，どのカテゴリも一定程度のデータ数を有しているのでmain_category変数はこのまま使用する．"
   ]
  },
  {
   "cell_type": "markdown",
   "metadata": {},
   "source": [
    "### currency"
   ]
  },
  {
   "cell_type": "code",
   "execution_count": 20,
   "metadata": {},
   "outputs": [
    {
     "data": {
      "image/png": "[encoded data removed]",
      "text/plain": [
       "<Figure size 720x720 with 1 Axes>"
      ]
     },
     "metadata": {
      "needs_background": "light"
     },
     "output_type": "display_data"
    }
   ],
   "source": [
    "plt.figure(figsize=(10, 10))\n",
    "sns.countplot(x='currency', data=data)\n",
    "plt.tight_layout()"
   ]
  },
  {
   "cell_type": "code",
   "execution_count": 21,
   "metadata": {},
   "outputs": [
    {
     "data": {
      "text/plain": [
       "USD    293624\n",
       "GBP     33853\n",
       "EUR     17076\n",
       "CAD     14830\n",
       "AUD      7880\n",
       "SEK      1768\n",
       "MXN      1645\n",
       "NZD      1464\n",
       "DKK      1113\n",
       "CHF       754\n",
       "NOK       714\n",
       "HKD       583\n",
       "SGD       527\n",
       "JPY        31\n",
       "Name: currency, dtype: int64"
      ]
     },
     "execution_count": 21,
     "metadata": {},
     "output_type": "execute_result"
    }
   ],
   "source": [
    "data['currency'].value_counts()"
   ]
  },
  {
   "cell_type": "code",
   "execution_count": 22,
   "metadata": {},
   "outputs": [
    {
     "name": "stdout",
     "output_type": "stream",
     "text": [
      "USDの割合 : 0.7812016112296535\n"
     ]
    }
   ],
   "source": [
    "data_USD = data['currency']=='USD'\n",
    "print(f'USDの割合 : {data_USD.sum() / data.shape[0]}')"
   ]
  },
  {
   "cell_type": "code",
   "execution_count": 23,
   "metadata": {},
   "outputs": [
    {
     "name": "stdout",
     "output_type": "stream",
     "text": [
      "USD, GBP, EUR, CAD, AUDが占める割合 : 0.9771219224076921\n"
     ]
    }
   ],
   "source": [
    "data_GBP = data['currency']=='GBP'\n",
    "data_EUR = data['currency']=='EUR'\n",
    "data_CAD = data['currency']=='CAD'\n",
    "data_AUD = data['currency']=='AUD'\n",
    "print(f'USD, GBP, EUR, CAD, AUDが占める割合 : {(data_USD.sum() + data_GBP.sum() + data_EUR.sum() + data_CAD.sum() + data_AUD.sum()) / data.shape[0]}')"
   ]
  },
  {
   "cell_type": "markdown",
   "metadata": {},
   "source": [
    "currencyの分布からクラウドファンディングで使用される通貨の78%はUSDであることがわかる．<br>\n",
    "またUSD, GBP, EUR, CAD, AUDで全体の97.71%を占めている為，その他の通貨に関してはtheotherでまとめて扱うものとする．"
   ]
  },
  {
   "cell_type": "code",
   "execution_count": 81,
   "metadata": {},
   "outputs": [
    {
     "data": {
      "text/plain": [
       "array(['GBP', 'USD', 'CAD', 'AUD', 'cur_other', 'EUR'], dtype=object)"
      ]
     },
     "execution_count": 81,
     "metadata": {},
     "output_type": "execute_result"
    }
   ],
   "source": [
    "# USD, GBP, EUR, CAD, AUD以外をcur_otherに書き換える\n",
    "data = data.replace({'NOK' : 'cur_other', 'MXN' : 'cur_other', 'SEK' : 'cur_other', 'NZD' : 'cur_other', 'CHF' : 'cur_other', 'DKK' : 'cur_other', 'HKD' : 'cur_other', 'SGD' : 'cur_other', 'JPY' : 'cur_other'})\n",
    "data['currency'].unique()"
   ]
  },
  {
   "cell_type": "code",
   "execution_count": 82,
   "metadata": {},
   "outputs": [
    {
     "data": {
      "image/png": "[encoded data removed]",
      "text/plain": [
       "<Figure size 720x720 with 1 Axes>"
      ]
     },
     "metadata": {
      "needs_background": "light"
     },
     "output_type": "display_data"
    }
   ],
   "source": [
    "plt.figure(figsize=(10, 10))\n",
    "sns.countplot(x='currency', data=data)\n",
    "plt.tight_layout()"
   ]
  },
  {
   "cell_type": "markdown",
   "metadata": {},
   "source": [
    "### country"
   ]
  },
  {
   "cell_type": "code",
   "execution_count": 24,
   "metadata": {},
   "outputs": [
    {
     "data": {
      "image/png": "[encoded data removed]",
      "text/plain": [
       "<Figure size 1080x720 with 1 Axes>"
      ]
     },
     "metadata": {
      "needs_background": "light"
     },
     "output_type": "display_data"
    }
   ],
   "source": [
    "plt.figure(figsize=(15, 10))\n",
    "sns.countplot(x='country', data=data)\n",
    "plt.tight_layout()"
   ]
  },
  {
   "cell_type": "code",
   "execution_count": 25,
   "metadata": {},
   "outputs": [
    {
     "data": {
      "text/plain": [
       "US      290887\n",
       "GB       33393\n",
       "CA       14624\n",
       "AU        7769\n",
       "DE        4096\n",
       "N,0\"      3796\n",
       "FR        2887\n",
       "NL        2833\n",
       "IT        2802\n",
       "ES        2224\n",
       "SE        1737\n",
       "MX        1645\n",
       "NZ        1436\n",
       "DK        1097\n",
       "IE         800\n",
       "CH         747\n",
       "NO         700\n",
       "BE         605\n",
       "HK         583\n",
       "AT         582\n",
       "SG         527\n",
       "LU          61\n",
       "JP          31\n",
       "Name: country, dtype: int64"
      ]
     },
     "execution_count": 25,
     "metadata": {},
     "output_type": "execute_result"
    }
   ],
   "source": [
    "data['country'].value_counts()"
   ]
  },
  {
   "cell_type": "code",
   "execution_count": 26,
   "metadata": {},
   "outputs": [
    {
     "name": "stdout",
     "output_type": "stream",
     "text": [
      "USの割合 : 0.7739196832880153\n"
     ]
    }
   ],
   "source": [
    "data_US = data['country']=='US'\n",
    "print(f'USの割合 : {data_US.sum() / data.shape[0]}')"
   ]
  },
  {
   "cell_type": "code",
   "execution_count": 27,
   "metadata": {},
   "outputs": [
    {
     "name": "stdout",
     "output_type": "stream",
     "text": [
      "US + GB + CA + AUの割合 : 0.9223411784112254\n"
     ]
    }
   ],
   "source": [
    "data_GB = data['country']=='GB'\n",
    "data_CA = data['country']=='CA'\n",
    "data_AU = data['country']=='AU'\n",
    "print(f'US + GB + CA + AUの割合 : {(data_US.sum() + data_GB.sum() + data_CA.sum() + data_AU.sum()) / data.shape[0]}')"
   ]
  },
  {
   "cell_type": "markdown",
   "metadata": {},
   "source": [
    "USでの募集が全体の77.39%を占めている．<br>\n",
    "この変数はcurrencyと同様に，US，GB，CA，AUで全体の92.23%を占めているので，その他の国についてはtheotherでまとめて扱うものとする．"
   ]
  },
  {
   "cell_type": "code",
   "execution_count": 83,
   "metadata": {},
   "outputs": [
    {
     "data": {
      "text/plain": [
       "array(['GB', 'US', 'CA', 'AU', 'cou_other'], dtype=object)"
      ]
     },
     "execution_count": 83,
     "metadata": {},
     "output_type": "execute_result"
    }
   ],
   "source": [
    "# US, GB, CA, AU以外をcou_otherに書き換える\n",
    "data = data.replace({'NO' : 'cou_other', 'IT' : 'cou_other', 'DE' : 'cou_other', 'IE' : 'cou_other', 'MX' : 'cou_other', 'ES' : 'cou_other', 'N,0\"' : 'cou_other', 'SE' : 'cou_other', 'FR' : 'cou_other', 'NL' : 'cou_other', 'NZ' : 'cou_other', 'CH' : 'cou_other', 'AT' : 'cou_other', 'DK' : 'cou_other', 'BE' : 'cou_other', 'HK' : 'cou_other', 'LU' : 'cou_other', 'SG' : 'cou_other', 'JP' : 'cou_other'})\n",
    "data['country'].unique()"
   ]
  },
  {
   "cell_type": "code",
   "execution_count": 84,
   "metadata": {},
   "outputs": [
    {
     "data": {
      "image/png": "[encoded data removed]",
      "text/plain": [
       "<Figure size 1080x720 with 1 Axes>"
      ]
     },
     "metadata": {
      "needs_background": "light"
     },
     "output_type": "display_data"
    }
   ],
   "source": [
    "plt.figure(figsize=(15, 10))\n",
    "sns.countplot(x='country', data=data)\n",
    "plt.tight_layout()"
   ]
  },
  {
   "cell_type": "markdown",
   "metadata": {},
   "source": [
    "### launched & deadline"
   ]
  },
  {
   "cell_type": "markdown",
   "metadata": {},
   "source": [
    "launchedとdeadlineのデータからは\n",
    "- クラウドファンディングを募集していた時期\n",
    "- クラウドファンディングの募集期間\n",
    "\n",
    "の情報が得られる．<br>\n",
    "クラウドファンディングを行う季節の情報はlaunchedとdeadlineの月のデータから得られる．<br>\n",
    "募集期間に関してはdeadlineとlaunchedの差の日数をとることで得られる．"
   ]
  },
  {
   "cell_type": "code",
   "execution_count": 28,
   "metadata": {},
   "outputs": [
    {
     "name": "stdout",
     "output_type": "stream",
     "text": [
      "10\n"
     ]
    }
   ],
   "source": [
    "# deadlineをstr型からdatetime型に変更\n",
    "data['deadline'] = pd.to_datetime(data['deadline'])\n",
    "# deadlineの一つ目のデータの月を抽出\n",
    "print(data['deadline'][0].month)"
   ]
  },
  {
   "cell_type": "code",
   "execution_count": 29,
   "metadata": {},
   "outputs": [],
   "source": [
    "# launchedについてもdatetime型に変更\n",
    "data['launched'] = pd.to_datetime(data['launched'])"
   ]
  },
  {
   "cell_type": "code",
   "execution_count": 30,
   "metadata": {},
   "outputs": [
    {
     "data": {
      "text/html": [
       "<div>\n",
       "<style scoped>\n",
       "    .dataframe tbody tr th:only-of-type {\n",
       "        vertical-align: middle;\n",
       "    }\n",
       "\n",
       "    .dataframe tbody tr th {\n",
       "        vertical-align: top;\n",
       "    }\n",
       "\n",
       "    .dataframe thead th {\n",
       "        text-align: right;\n",
       "    }\n",
       "</style>\n",
       "<table border=\"1\" class=\"dataframe\">\n",
       "  <thead>\n",
       "    <tr style=\"text-align: right;\">\n",
       "      <th></th>\n",
       "      <th>category</th>\n",
       "      <th>main_category</th>\n",
       "      <th>currency</th>\n",
       "      <th>deadline</th>\n",
       "      <th>goal</th>\n",
       "      <th>launched</th>\n",
       "      <th>state</th>\n",
       "      <th>country</th>\n",
       "      <th>usd_goal_real</th>\n",
       "      <th>time_period</th>\n",
       "      <th>time_period_days</th>\n",
       "    </tr>\n",
       "  </thead>\n",
       "  <tbody>\n",
       "    <tr>\n",
       "      <th>0</th>\n",
       "      <td>Poetry</td>\n",
       "      <td>Publishing</td>\n",
       "      <td>GBP</td>\n",
       "      <td>2015-10-09</td>\n",
       "      <td>1000.0</td>\n",
       "      <td>2015-08-11 12:12:28</td>\n",
       "      <td>failed</td>\n",
       "      <td>GB</td>\n",
       "      <td>1533.95</td>\n",
       "      <td>58 days 11:47:32</td>\n",
       "      <td>58</td>\n",
       "    </tr>\n",
       "    <tr>\n",
       "      <th>1</th>\n",
       "      <td>Narrative Film</td>\n",
       "      <td>Film &amp; Video</td>\n",
       "      <td>USD</td>\n",
       "      <td>2017-11-01</td>\n",
       "      <td>30000.0</td>\n",
       "      <td>2017-09-02 04:43:57</td>\n",
       "      <td>failed</td>\n",
       "      <td>US</td>\n",
       "      <td>30000.00</td>\n",
       "      <td>59 days 19:16:03</td>\n",
       "      <td>59</td>\n",
       "    </tr>\n",
       "    <tr>\n",
       "      <th>2</th>\n",
       "      <td>Narrative Film</td>\n",
       "      <td>Film &amp; Video</td>\n",
       "      <td>USD</td>\n",
       "      <td>2013-02-26</td>\n",
       "      <td>45000.0</td>\n",
       "      <td>2013-01-12 00:20:50</td>\n",
       "      <td>failed</td>\n",
       "      <td>US</td>\n",
       "      <td>45000.00</td>\n",
       "      <td>44 days 23:39:10</td>\n",
       "      <td>44</td>\n",
       "    </tr>\n",
       "    <tr>\n",
       "      <th>3</th>\n",
       "      <td>Music</td>\n",
       "      <td>Music</td>\n",
       "      <td>USD</td>\n",
       "      <td>2012-04-16</td>\n",
       "      <td>5000.0</td>\n",
       "      <td>2012-03-17 03:24:11</td>\n",
       "      <td>failed</td>\n",
       "      <td>US</td>\n",
       "      <td>5000.00</td>\n",
       "      <td>29 days 20:35:49</td>\n",
       "      <td>29</td>\n",
       "    </tr>\n",
       "    <tr>\n",
       "      <th>4</th>\n",
       "      <td>Film &amp; Video</td>\n",
       "      <td>Film &amp; Video</td>\n",
       "      <td>USD</td>\n",
       "      <td>2015-08-29</td>\n",
       "      <td>19500.0</td>\n",
       "      <td>2015-07-04 08:35:03</td>\n",
       "      <td>failed</td>\n",
       "      <td>US</td>\n",
       "      <td>19500.00</td>\n",
       "      <td>55 days 15:24:57</td>\n",
       "      <td>55</td>\n",
       "    </tr>\n",
       "  </tbody>\n",
       "</table>\n",
       "</div>"
      ],
      "text/plain": [
       "         category main_category currency   deadline     goal  \\\n",
       "0          Poetry    Publishing      GBP 2015-10-09   1000.0   \n",
       "1  Narrative Film  Film & Video      USD 2017-11-01  30000.0   \n",
       "2  Narrative Film  Film & Video      USD 2013-02-26  45000.0   \n",
       "3           Music         Music      USD 2012-04-16   5000.0   \n",
       "4    Film & Video  Film & Video      USD 2015-08-29  19500.0   \n",
       "\n",
       "             launched   state country  usd_goal_real      time_period  \\\n",
       "0 2015-08-11 12:12:28  failed      GB        1533.95 58 days 11:47:32   \n",
       "1 2017-09-02 04:43:57  failed      US       30000.00 59 days 19:16:03   \n",
       "2 2013-01-12 00:20:50  failed      US       45000.00 44 days 23:39:10   \n",
       "3 2012-03-17 03:24:11  failed      US        5000.00 29 days 20:35:49   \n",
       "4 2015-07-04 08:35:03  failed      US       19500.00 55 days 15:24:57   \n",
       "\n",
       "   time_period_days  \n",
       "0                58  \n",
       "1                59  \n",
       "2                44  \n",
       "3                29  \n",
       "4                55  "
      ]
     },
     "execution_count": 30,
     "metadata": {},
     "output_type": "execute_result"
    }
   ],
   "source": [
    "# 募集していた期間を新たな変数time_periodとしてdataに加える\n",
    "data['time_period'] = data['deadline'] - data['launched']\n",
    "data['time_period_days'] = data['time_period'].dt.days\n",
    "data.head()"
   ]
  },
  {
   "cell_type": "markdown",
   "metadata": {},
   "source": [
    "### time_period_days"
   ]
  },
  {
   "cell_type": "markdown",
   "metadata": {},
   "source": [
    "time_period_daysは何日間クラウドファンディングの募集を行っていたかを表す新しい変数である．<br>\n",
    "この変数の各々の数値について出現頻度のグラフを以下に示す．"
   ]
  },
  {
   "cell_type": "code",
   "execution_count": 37,
   "metadata": {},
   "outputs": [
    {
     "data": {
      "image/png": "[encoded data removed]",
      "text/plain": [
       "<Figure size 1440x720 with 1 Axes>"
      ]
     },
     "metadata": {
      "needs_background": "light"
     },
     "output_type": "display_data"
    }
   ],
   "source": [
    "plt.figure(figsize=(20, 10))\n",
    "sns.countplot(x='time_period_days', data=data)\n",
    "plt.tight_layout()"
   ]
  },
  {
   "cell_type": "code",
   "execution_count": 47,
   "metadata": {},
   "outputs": [
    {
     "data": {
      "text/plain": [
       "29       168112\n",
       "59        33018\n",
       "44        17552\n",
       "30        13197\n",
       "34        10014\n",
       "          ...  \n",
       "14732         1\n",
       "14760         1\n",
       "16738         1\n",
       "14866         1\n",
       "14834         1\n",
       "Name: time_period_days, Length: 99, dtype: int64"
      ]
     },
     "execution_count": 47,
     "metadata": {},
     "output_type": "execute_result"
    }
   ],
   "source": [
    "data['time_period_days'].value_counts()"
   ]
  },
  {
   "cell_type": "code",
   "execution_count": 41,
   "metadata": {},
   "outputs": [
    {
     "name": "stdout",
     "output_type": "stream",
     "text": [
      "29日間募集を行っていた件数 : 0.44727054078358547\n"
     ]
    }
   ],
   "source": [
    "data_29days = data['time_period_days']==29\n",
    "print(f'29日間募集を行っていた件数 : {data_29days.sum() / data.shape[0]}')"
   ]
  },
  {
   "cell_type": "code",
   "execution_count": 48,
   "metadata": {},
   "outputs": [
    {
     "name": "stdout",
     "output_type": "stream",
     "text": [
      "time_period_daysの出現回数が50回以下のカテゴリ数\n",
      "10\n",
      "time_period_daysの出現回数が50回以下のデータ数\n",
      "0.00030330280794546935\n"
     ]
    }
   ],
   "source": [
    "data_time_period_days = data['time_period_days'].value_counts()\n",
    "data_time_period_days = pd.DataFrame(data_time_period_days)\n",
    "\n",
    "print('time_period_daysの出現回数が50回以下のカテゴリ数')\n",
    "print(sum(data_time_period_days['time_period_days'] <= 50))\n",
    "print('time_period_daysの出現回数が50回以下のデータ数')\n",
    "print(data_time_period_days[data_time_period_days['time_period_days'] <= 50].sum()[0] / data.shape[0])"
   ]
  },
  {
   "cell_type": "code",
   "execution_count": 49,
   "metadata": {},
   "outputs": [
    {
     "data": {
      "text/plain": [
       "16738"
      ]
     },
     "execution_count": 49,
     "metadata": {},
     "output_type": "execute_result"
    }
   ],
   "source": [
    "data['time_period_days'].max()"
   ]
  },
  {
   "cell_type": "code",
   "execution_count": 50,
   "metadata": {},
   "outputs": [
    {
     "data": {
      "text/html": [
       "<div>\n",
       "<style scoped>\n",
       "    .dataframe tbody tr th:only-of-type {\n",
       "        vertical-align: middle;\n",
       "    }\n",
       "\n",
       "    .dataframe tbody tr th {\n",
       "        vertical-align: top;\n",
       "    }\n",
       "\n",
       "    .dataframe thead th {\n",
       "        text-align: right;\n",
       "    }\n",
       "</style>\n",
       "<table border=\"1\" class=\"dataframe\">\n",
       "  <thead>\n",
       "    <tr style=\"text-align: right;\">\n",
       "      <th></th>\n",
       "      <th>category</th>\n",
       "      <th>main_category</th>\n",
       "      <th>currency</th>\n",
       "      <th>deadline</th>\n",
       "      <th>goal</th>\n",
       "      <th>launched</th>\n",
       "      <th>state</th>\n",
       "      <th>country</th>\n",
       "      <th>usd_goal_real</th>\n",
       "      <th>time_period</th>\n",
       "      <th>time_period_days</th>\n",
       "    </tr>\n",
       "  </thead>\n",
       "  <tbody>\n",
       "    <tr>\n",
       "      <th>319002</th>\n",
       "      <td>Publishing</td>\n",
       "      <td>Publishing</td>\n",
       "      <td>CHF</td>\n",
       "      <td>2015-10-31</td>\n",
       "      <td>1900.0</td>\n",
       "      <td>1970-01-01 01:00:00</td>\n",
       "      <td>failed</td>\n",
       "      <td>CH</td>\n",
       "      <td>1905.97</td>\n",
       "      <td>16738 days 23:00:00</td>\n",
       "      <td>16738</td>\n",
       "    </tr>\n",
       "  </tbody>\n",
       "</table>\n",
       "</div>"
      ],
      "text/plain": [
       "          category main_category currency   deadline    goal  \\\n",
       "319002  Publishing    Publishing      CHF 2015-10-31  1900.0   \n",
       "\n",
       "                  launched   state country  usd_goal_real         time_period  \\\n",
       "319002 1970-01-01 01:00:00  failed      CH        1905.97 16738 days 23:00:00   \n",
       "\n",
       "        time_period_days  \n",
       "319002             16738  "
      ]
     },
     "execution_count": 50,
     "metadata": {},
     "output_type": "execute_result"
    }
   ],
   "source": [
    "data[data['time_period_days']==16738]"
   ]
  },
  {
   "cell_type": "markdown",
   "metadata": {},
   "source": [
    "この分布から29日間募集しているものが多く全体の44.72%を占めていることがわかる．<br>\n",
    "また最大で16738日間(約45年間)行っているものもあることがわかった．<br>\n",
    "しかしこのデータはlaunchedが1970年1月1日になっており，以下のkickstarterのHPに記載されているkickstarterの誕生以前から存在することになるので，外れ値である．<br>\n",
    "https://www.kickstarter.com/about?ref=global-footer<br>\n",
    "ここでlaunchedのデータについて2009年4月28日以前に開始されているデータは以下の12件である．"
   ]
  },
  {
   "cell_type": "code",
   "execution_count": 52,
   "metadata": {},
   "outputs": [
    {
     "data": {
      "text/html": [
       "<div>\n",
       "<style scoped>\n",
       "    .dataframe tbody tr th:only-of-type {\n",
       "        vertical-align: middle;\n",
       "    }\n",
       "\n",
       "    .dataframe tbody tr th {\n",
       "        vertical-align: top;\n",
       "    }\n",
       "\n",
       "    .dataframe thead th {\n",
       "        text-align: right;\n",
       "    }\n",
       "</style>\n",
       "<table border=\"1\" class=\"dataframe\">\n",
       "  <thead>\n",
       "    <tr style=\"text-align: right;\">\n",
       "      <th></th>\n",
       "      <th>category</th>\n",
       "      <th>main_category</th>\n",
       "      <th>currency</th>\n",
       "      <th>deadline</th>\n",
       "      <th>goal</th>\n",
       "      <th>launched</th>\n",
       "      <th>state</th>\n",
       "      <th>country</th>\n",
       "      <th>usd_goal_real</th>\n",
       "      <th>time_period</th>\n",
       "      <th>time_period_days</th>\n",
       "    </tr>\n",
       "  </thead>\n",
       "  <tbody>\n",
       "    <tr>\n",
       "      <th>2842</th>\n",
       "      <td>Film &amp; Video</td>\n",
       "      <td>Film &amp; Video</td>\n",
       "      <td>USD</td>\n",
       "      <td>2010-09-15</td>\n",
       "      <td>5000.0</td>\n",
       "      <td>1970-01-01 01:00:00</td>\n",
       "      <td>failed</td>\n",
       "      <td>US</td>\n",
       "      <td>5000.00</td>\n",
       "      <td>14866 days 23:00:00</td>\n",
       "      <td>14866</td>\n",
       "    </tr>\n",
       "    <tr>\n",
       "      <th>48147</th>\n",
       "      <td>Art</td>\n",
       "      <td>Art</td>\n",
       "      <td>USD</td>\n",
       "      <td>2010-08-14</td>\n",
       "      <td>15000.0</td>\n",
       "      <td>1970-01-01 01:00:00</td>\n",
       "      <td>failed</td>\n",
       "      <td>US</td>\n",
       "      <td>15000.00</td>\n",
       "      <td>14834 days 23:00:00</td>\n",
       "      <td>14834</td>\n",
       "    </tr>\n",
       "    <tr>\n",
       "      <th>75397</th>\n",
       "      <td>Film &amp; Video</td>\n",
       "      <td>Film &amp; Video</td>\n",
       "      <td>USD</td>\n",
       "      <td>2010-05-21</td>\n",
       "      <td>700.0</td>\n",
       "      <td>1970-01-01 01:00:00</td>\n",
       "      <td>failed</td>\n",
       "      <td>US</td>\n",
       "      <td>700.00</td>\n",
       "      <td>14749 days 23:00:00</td>\n",
       "      <td>14749</td>\n",
       "    </tr>\n",
       "    <tr>\n",
       "      <th>94579</th>\n",
       "      <td>Theater</td>\n",
       "      <td>Theater</td>\n",
       "      <td>USD</td>\n",
       "      <td>2010-06-01</td>\n",
       "      <td>4000.0</td>\n",
       "      <td>1970-01-01 01:00:00</td>\n",
       "      <td>failed</td>\n",
       "      <td>US</td>\n",
       "      <td>4000.00</td>\n",
       "      <td>14760 days 23:00:00</td>\n",
       "      <td>14760</td>\n",
       "    </tr>\n",
       "    <tr>\n",
       "      <th>122662</th>\n",
       "      <td>Fashion</td>\n",
       "      <td>Fashion</td>\n",
       "      <td>USD</td>\n",
       "      <td>2009-05-26</td>\n",
       "      <td>1900.0</td>\n",
       "      <td>2009-04-27 14:10:39</td>\n",
       "      <td>failed</td>\n",
       "      <td>US</td>\n",
       "      <td>1900.00</td>\n",
       "      <td>28 days 09:49:21</td>\n",
       "      <td>28</td>\n",
       "    </tr>\n",
       "    <tr>\n",
       "      <th>138572</th>\n",
       "      <td>Illustration</td>\n",
       "      <td>Art</td>\n",
       "      <td>USD</td>\n",
       "      <td>2009-05-03</td>\n",
       "      <td>20.0</td>\n",
       "      <td>2009-04-24 21:52:03</td>\n",
       "      <td>successful</td>\n",
       "      <td>US</td>\n",
       "      <td>20.00</td>\n",
       "      <td>8 days 02:07:57</td>\n",
       "      <td>8</td>\n",
       "    </tr>\n",
       "    <tr>\n",
       "      <th>169268</th>\n",
       "      <td>Fashion</td>\n",
       "      <td>Fashion</td>\n",
       "      <td>USD</td>\n",
       "      <td>2009-05-31</td>\n",
       "      <td>1000.0</td>\n",
       "      <td>2009-04-21 21:02:48</td>\n",
       "      <td>failed</td>\n",
       "      <td>US</td>\n",
       "      <td>1000.00</td>\n",
       "      <td>39 days 02:57:12</td>\n",
       "      <td>39</td>\n",
       "    </tr>\n",
       "    <tr>\n",
       "      <th>247913</th>\n",
       "      <td>Music</td>\n",
       "      <td>Music</td>\n",
       "      <td>USD</td>\n",
       "      <td>2010-05-04</td>\n",
       "      <td>10000.0</td>\n",
       "      <td>1970-01-01 01:00:00</td>\n",
       "      <td>failed</td>\n",
       "      <td>US</td>\n",
       "      <td>10000.00</td>\n",
       "      <td>14732 days 23:00:00</td>\n",
       "      <td>14732</td>\n",
       "    </tr>\n",
       "    <tr>\n",
       "      <th>273779</th>\n",
       "      <td>Design</td>\n",
       "      <td>Design</td>\n",
       "      <td>USD</td>\n",
       "      <td>2010-04-10</td>\n",
       "      <td>500.0</td>\n",
       "      <td>1970-01-01 01:00:00</td>\n",
       "      <td>failed</td>\n",
       "      <td>US</td>\n",
       "      <td>500.00</td>\n",
       "      <td>14708 days 23:00:00</td>\n",
       "      <td>14708</td>\n",
       "    </tr>\n",
       "    <tr>\n",
       "      <th>319002</th>\n",
       "      <td>Publishing</td>\n",
       "      <td>Publishing</td>\n",
       "      <td>CHF</td>\n",
       "      <td>2015-10-31</td>\n",
       "      <td>1900.0</td>\n",
       "      <td>1970-01-01 01:00:00</td>\n",
       "      <td>failed</td>\n",
       "      <td>CH</td>\n",
       "      <td>1905.97</td>\n",
       "      <td>16738 days 23:00:00</td>\n",
       "      <td>16738</td>\n",
       "    </tr>\n",
       "    <tr>\n",
       "      <th>322000</th>\n",
       "      <td>Shorts</td>\n",
       "      <td>Film &amp; Video</td>\n",
       "      <td>USD</td>\n",
       "      <td>2009-07-20</td>\n",
       "      <td>80000.0</td>\n",
       "      <td>2009-04-23 00:07:53</td>\n",
       "      <td>failed</td>\n",
       "      <td>US</td>\n",
       "      <td>80000.00</td>\n",
       "      <td>87 days 23:52:07</td>\n",
       "      <td>87</td>\n",
       "    </tr>\n",
       "    <tr>\n",
       "      <th>325391</th>\n",
       "      <td>Software</td>\n",
       "      <td>Technology</td>\n",
       "      <td>USD</td>\n",
       "      <td>2009-07-14</td>\n",
       "      <td>99.0</td>\n",
       "      <td>2009-04-25 17:36:21</td>\n",
       "      <td>successful</td>\n",
       "      <td>US</td>\n",
       "      <td>99.00</td>\n",
       "      <td>79 days 06:23:39</td>\n",
       "      <td>79</td>\n",
       "    </tr>\n",
       "  </tbody>\n",
       "</table>\n",
       "</div>"
      ],
      "text/plain": [
       "            category main_category currency   deadline     goal  \\\n",
       "2842    Film & Video  Film & Video      USD 2010-09-15   5000.0   \n",
       "48147            Art           Art      USD 2010-08-14  15000.0   \n",
       "75397   Film & Video  Film & Video      USD 2010-05-21    700.0   \n",
       "94579        Theater       Theater      USD 2010-06-01   4000.0   \n",
       "122662       Fashion       Fashion      USD 2009-05-26   1900.0   \n",
       "138572  Illustration           Art      USD 2009-05-03     20.0   \n",
       "169268       Fashion       Fashion      USD 2009-05-31   1000.0   \n",
       "247913         Music         Music      USD 2010-05-04  10000.0   \n",
       "273779        Design        Design      USD 2010-04-10    500.0   \n",
       "319002    Publishing    Publishing      CHF 2015-10-31   1900.0   \n",
       "322000        Shorts  Film & Video      USD 2009-07-20  80000.0   \n",
       "325391      Software    Technology      USD 2009-07-14     99.0   \n",
       "\n",
       "                  launched       state country  usd_goal_real  \\\n",
       "2842   1970-01-01 01:00:00      failed      US        5000.00   \n",
       "48147  1970-01-01 01:00:00      failed      US       15000.00   \n",
       "75397  1970-01-01 01:00:00      failed      US         700.00   \n",
       "94579  1970-01-01 01:00:00      failed      US        4000.00   \n",
       "122662 2009-04-27 14:10:39      failed      US        1900.00   \n",
       "138572 2009-04-24 21:52:03  successful      US          20.00   \n",
       "169268 2009-04-21 21:02:48      failed      US        1000.00   \n",
       "247913 1970-01-01 01:00:00      failed      US       10000.00   \n",
       "273779 1970-01-01 01:00:00      failed      US         500.00   \n",
       "319002 1970-01-01 01:00:00      failed      CH        1905.97   \n",
       "322000 2009-04-23 00:07:53      failed      US       80000.00   \n",
       "325391 2009-04-25 17:36:21  successful      US          99.00   \n",
       "\n",
       "               time_period  time_period_days  \n",
       "2842   14866 days 23:00:00             14866  \n",
       "48147  14834 days 23:00:00             14834  \n",
       "75397  14749 days 23:00:00             14749  \n",
       "94579  14760 days 23:00:00             14760  \n",
       "122662    28 days 09:49:21                28  \n",
       "138572     8 days 02:07:57                 8  \n",
       "169268    39 days 02:57:12                39  \n",
       "247913 14732 days 23:00:00             14732  \n",
       "273779 14708 days 23:00:00             14708  \n",
       "319002 16738 days 23:00:00             16738  \n",
       "322000    87 days 23:52:07                87  \n",
       "325391    79 days 06:23:39                79  "
      ]
     },
     "execution_count": 52,
     "metadata": {},
     "output_type": "execute_result"
    }
   ],
   "source": [
    "data[data['launched'] <= datetime.datetime(2009, 4, 28)]"
   ]
  },
  {
   "cell_type": "markdown",
   "metadata": {},
   "source": [
    "この12件のうちlaunchedが1970-01-01でない5件については2009年4月28日以前から開始されているが，募集期間の長さから考えて異常と言える数値ではないのでこの値を使用する．<br>\n",
    "一方，launchedが1970-01-01となった7件についてはlaunchedを2009-4-28 00:00:00に変更する．"
   ]
  },
  {
   "cell_type": "code",
   "execution_count": 55,
   "metadata": {},
   "outputs": [
    {
     "data": {
      "text/html": [
       "<div>\n",
       "<style scoped>\n",
       "    .dataframe tbody tr th:only-of-type {\n",
       "        vertical-align: middle;\n",
       "    }\n",
       "\n",
       "    .dataframe tbody tr th {\n",
       "        vertical-align: top;\n",
       "    }\n",
       "\n",
       "    .dataframe thead th {\n",
       "        text-align: right;\n",
       "    }\n",
       "</style>\n",
       "<table border=\"1\" class=\"dataframe\">\n",
       "  <thead>\n",
       "    <tr style=\"text-align: right;\">\n",
       "      <th></th>\n",
       "      <th>category</th>\n",
       "      <th>main_category</th>\n",
       "      <th>currency</th>\n",
       "      <th>deadline</th>\n",
       "      <th>goal</th>\n",
       "      <th>launched</th>\n",
       "      <th>state</th>\n",
       "      <th>country</th>\n",
       "      <th>usd_goal_real</th>\n",
       "      <th>time_period</th>\n",
       "      <th>time_period_days</th>\n",
       "    </tr>\n",
       "  </thead>\n",
       "  <tbody>\n",
       "    <tr>\n",
       "      <th>0</th>\n",
       "      <td>Poetry</td>\n",
       "      <td>Publishing</td>\n",
       "      <td>GBP</td>\n",
       "      <td>2015-10-09</td>\n",
       "      <td>1000.0</td>\n",
       "      <td>2015-08-11 12:12:28</td>\n",
       "      <td>failed</td>\n",
       "      <td>GB</td>\n",
       "      <td>1533.95</td>\n",
       "      <td>58 days 11:47:32</td>\n",
       "      <td>58</td>\n",
       "    </tr>\n",
       "    <tr>\n",
       "      <th>1</th>\n",
       "      <td>Narrative Film</td>\n",
       "      <td>Film &amp; Video</td>\n",
       "      <td>USD</td>\n",
       "      <td>2017-11-01</td>\n",
       "      <td>30000.0</td>\n",
       "      <td>2017-09-02 04:43:57</td>\n",
       "      <td>failed</td>\n",
       "      <td>US</td>\n",
       "      <td>30000.00</td>\n",
       "      <td>59 days 19:16:03</td>\n",
       "      <td>59</td>\n",
       "    </tr>\n",
       "    <tr>\n",
       "      <th>2</th>\n",
       "      <td>Narrative Film</td>\n",
       "      <td>Film &amp; Video</td>\n",
       "      <td>USD</td>\n",
       "      <td>2013-02-26</td>\n",
       "      <td>45000.0</td>\n",
       "      <td>2013-01-12 00:20:50</td>\n",
       "      <td>failed</td>\n",
       "      <td>US</td>\n",
       "      <td>45000.00</td>\n",
       "      <td>44 days 23:39:10</td>\n",
       "      <td>44</td>\n",
       "    </tr>\n",
       "    <tr>\n",
       "      <th>3</th>\n",
       "      <td>Music</td>\n",
       "      <td>Music</td>\n",
       "      <td>USD</td>\n",
       "      <td>2012-04-16</td>\n",
       "      <td>5000.0</td>\n",
       "      <td>2012-03-17 03:24:11</td>\n",
       "      <td>failed</td>\n",
       "      <td>US</td>\n",
       "      <td>5000.00</td>\n",
       "      <td>29 days 20:35:49</td>\n",
       "      <td>29</td>\n",
       "    </tr>\n",
       "    <tr>\n",
       "      <th>4</th>\n",
       "      <td>Film &amp; Video</td>\n",
       "      <td>Film &amp; Video</td>\n",
       "      <td>USD</td>\n",
       "      <td>2015-08-29</td>\n",
       "      <td>19500.0</td>\n",
       "      <td>2015-07-04 08:35:03</td>\n",
       "      <td>failed</td>\n",
       "      <td>US</td>\n",
       "      <td>19500.00</td>\n",
       "      <td>55 days 15:24:57</td>\n",
       "      <td>55</td>\n",
       "    </tr>\n",
       "    <tr>\n",
       "      <th>...</th>\n",
       "      <td>...</td>\n",
       "      <td>...</td>\n",
       "      <td>...</td>\n",
       "      <td>...</td>\n",
       "      <td>...</td>\n",
       "      <td>...</td>\n",
       "      <td>...</td>\n",
       "      <td>...</td>\n",
       "      <td>...</td>\n",
       "      <td>...</td>\n",
       "      <td>...</td>\n",
       "    </tr>\n",
       "    <tr>\n",
       "      <th>378656</th>\n",
       "      <td>Documentary</td>\n",
       "      <td>Film &amp; Video</td>\n",
       "      <td>USD</td>\n",
       "      <td>2014-10-17</td>\n",
       "      <td>50000.0</td>\n",
       "      <td>2014-09-17 02:35:30</td>\n",
       "      <td>failed</td>\n",
       "      <td>US</td>\n",
       "      <td>50000.00</td>\n",
       "      <td>29 days 21:24:30</td>\n",
       "      <td>29</td>\n",
       "    </tr>\n",
       "    <tr>\n",
       "      <th>378657</th>\n",
       "      <td>Narrative Film</td>\n",
       "      <td>Film &amp; Video</td>\n",
       "      <td>USD</td>\n",
       "      <td>2011-07-19</td>\n",
       "      <td>1500.0</td>\n",
       "      <td>2011-06-22 03:35:14</td>\n",
       "      <td>failed</td>\n",
       "      <td>US</td>\n",
       "      <td>1500.00</td>\n",
       "      <td>26 days 20:24:46</td>\n",
       "      <td>26</td>\n",
       "    </tr>\n",
       "    <tr>\n",
       "      <th>378658</th>\n",
       "      <td>Narrative Film</td>\n",
       "      <td>Film &amp; Video</td>\n",
       "      <td>USD</td>\n",
       "      <td>2010-08-16</td>\n",
       "      <td>15000.0</td>\n",
       "      <td>2010-07-01 19:40:30</td>\n",
       "      <td>failed</td>\n",
       "      <td>US</td>\n",
       "      <td>15000.00</td>\n",
       "      <td>45 days 04:19:30</td>\n",
       "      <td>45</td>\n",
       "    </tr>\n",
       "    <tr>\n",
       "      <th>378659</th>\n",
       "      <td>Technology</td>\n",
       "      <td>Technology</td>\n",
       "      <td>USD</td>\n",
       "      <td>2016-02-13</td>\n",
       "      <td>15000.0</td>\n",
       "      <td>2016-01-13 18:13:53</td>\n",
       "      <td>failed</td>\n",
       "      <td>US</td>\n",
       "      <td>15000.00</td>\n",
       "      <td>30 days 05:46:07</td>\n",
       "      <td>30</td>\n",
       "    </tr>\n",
       "    <tr>\n",
       "      <th>378660</th>\n",
       "      <td>Performance Art</td>\n",
       "      <td>Art</td>\n",
       "      <td>USD</td>\n",
       "      <td>2011-08-16</td>\n",
       "      <td>2000.0</td>\n",
       "      <td>2011-07-19 09:07:47</td>\n",
       "      <td>failed</td>\n",
       "      <td>US</td>\n",
       "      <td>2000.00</td>\n",
       "      <td>27 days 14:52:13</td>\n",
       "      <td>27</td>\n",
       "    </tr>\n",
       "  </tbody>\n",
       "</table>\n",
       "<p>375862 rows × 11 columns</p>\n",
       "</div>"
      ],
      "text/plain": [
       "               category main_category currency   deadline     goal  \\\n",
       "0                Poetry    Publishing      GBP 2015-10-09   1000.0   \n",
       "1        Narrative Film  Film & Video      USD 2017-11-01  30000.0   \n",
       "2        Narrative Film  Film & Video      USD 2013-02-26  45000.0   \n",
       "3                 Music         Music      USD 2012-04-16   5000.0   \n",
       "4          Film & Video  Film & Video      USD 2015-08-29  19500.0   \n",
       "...                 ...           ...      ...        ...      ...   \n",
       "378656      Documentary  Film & Video      USD 2014-10-17  50000.0   \n",
       "378657   Narrative Film  Film & Video      USD 2011-07-19   1500.0   \n",
       "378658   Narrative Film  Film & Video      USD 2010-08-16  15000.0   \n",
       "378659       Technology    Technology      USD 2016-02-13  15000.0   \n",
       "378660  Performance Art           Art      USD 2011-08-16   2000.0   \n",
       "\n",
       "                  launched   state country  usd_goal_real      time_period  \\\n",
       "0      2015-08-11 12:12:28  failed      GB        1533.95 58 days 11:47:32   \n",
       "1      2017-09-02 04:43:57  failed      US       30000.00 59 days 19:16:03   \n",
       "2      2013-01-12 00:20:50  failed      US       45000.00 44 days 23:39:10   \n",
       "3      2012-03-17 03:24:11  failed      US        5000.00 29 days 20:35:49   \n",
       "4      2015-07-04 08:35:03  failed      US       19500.00 55 days 15:24:57   \n",
       "...                    ...     ...     ...            ...              ...   \n",
       "378656 2014-09-17 02:35:30  failed      US       50000.00 29 days 21:24:30   \n",
       "378657 2011-06-22 03:35:14  failed      US        1500.00 26 days 20:24:46   \n",
       "378658 2010-07-01 19:40:30  failed      US       15000.00 45 days 04:19:30   \n",
       "378659 2016-01-13 18:13:53  failed      US       15000.00 30 days 05:46:07   \n",
       "378660 2011-07-19 09:07:47  failed      US        2000.00 27 days 14:52:13   \n",
       "\n",
       "        time_period_days  \n",
       "0                     58  \n",
       "1                     59  \n",
       "2                     44  \n",
       "3                     29  \n",
       "4                     55  \n",
       "...                  ...  \n",
       "378656                29  \n",
       "378657                26  \n",
       "378658                45  \n",
       "378659                30  \n",
       "378660                27  \n",
       "\n",
       "[375862 rows x 11 columns]"
      ]
     },
     "execution_count": 55,
     "metadata": {},
     "output_type": "execute_result"
    }
   ],
   "source": [
    "data = data.replace({datetime.datetime(1970, 1, 1, 1) : datetime.datetime(2009, 4, 28)})\n",
    "data"
   ]
  },
  {
   "cell_type": "code",
   "execution_count": 60,
   "metadata": {},
   "outputs": [],
   "source": [
    "# 再度，募集していた期間を新たな変数time_periodとしてdataに加える\n",
    "data['time_period'] = data['deadline'] - data['launched']\n",
    "data['time_period_days'] = data['time_period'].dt.days"
   ]
  },
  {
   "cell_type": "code",
   "execution_count": 62,
   "metadata": {},
   "outputs": [
    {
     "data": {
      "text/plain": [
       "29      168112\n",
       "59       33018\n",
       "44       17552\n",
       "30       13197\n",
       "34       10014\n",
       "         ...  \n",
       "388          1\n",
       "473          1\n",
       "347          1\n",
       "2377         1\n",
       "505          1\n",
       "Name: time_period_days, Length: 99, dtype: int64"
      ]
     },
     "execution_count": 62,
     "metadata": {},
     "output_type": "execute_result"
    }
   ],
   "source": [
    "data['time_period_days'].value_counts()"
   ]
  },
  {
   "cell_type": "markdown",
   "metadata": {},
   "source": [
    "launchedの異常値はこれで取り除くことができたが，deadlineについても異常値の除去を行う必要がある．<br>\n",
    "deadlineの異常値として考えられるものはlaunchedがdeadlineよりも後に来ている，つまり変数time_periodが負の値になっている状況である．<br>\n",
    "まず異常値の候補である，変数time_period_daysが0以下のデータを抽出する．"
   ]
  },
  {
   "cell_type": "code",
   "execution_count": 77,
   "metadata": {},
   "outputs": [
    {
     "data": {
      "text/html": [
       "<div>\n",
       "<style scoped>\n",
       "    .dataframe tbody tr th:only-of-type {\n",
       "        vertical-align: middle;\n",
       "    }\n",
       "\n",
       "    .dataframe tbody tr th {\n",
       "        vertical-align: top;\n",
       "    }\n",
       "\n",
       "    .dataframe thead th {\n",
       "        text-align: right;\n",
       "    }\n",
       "</style>\n",
       "<table border=\"1\" class=\"dataframe\">\n",
       "  <thead>\n",
       "    <tr style=\"text-align: right;\">\n",
       "      <th></th>\n",
       "      <th>category</th>\n",
       "      <th>main_category</th>\n",
       "      <th>currency</th>\n",
       "      <th>deadline</th>\n",
       "      <th>goal</th>\n",
       "      <th>launched</th>\n",
       "      <th>state</th>\n",
       "      <th>country</th>\n",
       "      <th>usd_goal_real</th>\n",
       "      <th>time_period</th>\n",
       "      <th>time_period_days</th>\n",
       "    </tr>\n",
       "  </thead>\n",
       "  <tbody>\n",
       "    <tr>\n",
       "      <th>899</th>\n",
       "      <td>Video Games</td>\n",
       "      <td>Games</td>\n",
       "      <td>GBP</td>\n",
       "      <td>2015-06-11</td>\n",
       "      <td>5000.0</td>\n",
       "      <td>2015-06-10 19:03:39</td>\n",
       "      <td>failed</td>\n",
       "      <td>GB</td>\n",
       "      <td>7743.29</td>\n",
       "      <td>0 days 04:56:21</td>\n",
       "      <td>0</td>\n",
       "    </tr>\n",
       "    <tr>\n",
       "      <th>937</th>\n",
       "      <td>Classical Music</td>\n",
       "      <td>Music</td>\n",
       "      <td>USD</td>\n",
       "      <td>2016-02-19</td>\n",
       "      <td>500.0</td>\n",
       "      <td>2016-02-18 04:29:22</td>\n",
       "      <td>failed</td>\n",
       "      <td>US</td>\n",
       "      <td>500.00</td>\n",
       "      <td>0 days 19:30:38</td>\n",
       "      <td>0</td>\n",
       "    </tr>\n",
       "    <tr>\n",
       "      <th>10449</th>\n",
       "      <td>Software</td>\n",
       "      <td>Technology</td>\n",
       "      <td>USD</td>\n",
       "      <td>2017-03-05</td>\n",
       "      <td>10000000.0</td>\n",
       "      <td>2017-03-04 01:25:03</td>\n",
       "      <td>failed</td>\n",
       "      <td>US</td>\n",
       "      <td>10000000.00</td>\n",
       "      <td>0 days 22:34:57</td>\n",
       "      <td>0</td>\n",
       "    </tr>\n",
       "    <tr>\n",
       "      <th>12494</th>\n",
       "      <td>Film &amp; Video</td>\n",
       "      <td>Film &amp; Video</td>\n",
       "      <td>GBP</td>\n",
       "      <td>2016-06-15</td>\n",
       "      <td>130.0</td>\n",
       "      <td>2016-06-14 02:24:00</td>\n",
       "      <td>successful</td>\n",
       "      <td>GB</td>\n",
       "      <td>185.73</td>\n",
       "      <td>0 days 21:36:00</td>\n",
       "      <td>0</td>\n",
       "    </tr>\n",
       "    <tr>\n",
       "      <th>20368</th>\n",
       "      <td>Art</td>\n",
       "      <td>Art</td>\n",
       "      <td>USD</td>\n",
       "      <td>2016-04-02</td>\n",
       "      <td>8888.0</td>\n",
       "      <td>2016-04-01 08:38:27</td>\n",
       "      <td>failed</td>\n",
       "      <td>US</td>\n",
       "      <td>8888.00</td>\n",
       "      <td>0 days 15:21:33</td>\n",
       "      <td>0</td>\n",
       "    </tr>\n",
       "    <tr>\n",
       "      <th>...</th>\n",
       "      <td>...</td>\n",
       "      <td>...</td>\n",
       "      <td>...</td>\n",
       "      <td>...</td>\n",
       "      <td>...</td>\n",
       "      <td>...</td>\n",
       "      <td>...</td>\n",
       "      <td>...</td>\n",
       "      <td>...</td>\n",
       "      <td>...</td>\n",
       "      <td>...</td>\n",
       "    </tr>\n",
       "    <tr>\n",
       "      <th>368567</th>\n",
       "      <td>Poetry</td>\n",
       "      <td>Publishing</td>\n",
       "      <td>GBP</td>\n",
       "      <td>2014-03-02</td>\n",
       "      <td>5.0</td>\n",
       "      <td>2014-03-01 13:20:34</td>\n",
       "      <td>successful</td>\n",
       "      <td>GB</td>\n",
       "      <td>8.39</td>\n",
       "      <td>0 days 10:39:26</td>\n",
       "      <td>0</td>\n",
       "    </tr>\n",
       "    <tr>\n",
       "      <th>370904</th>\n",
       "      <td>Digital Art</td>\n",
       "      <td>Art</td>\n",
       "      <td>SGD</td>\n",
       "      <td>2016-08-02</td>\n",
       "      <td>5.0</td>\n",
       "      <td>2016-08-01 21:44:53</td>\n",
       "      <td>successful</td>\n",
       "      <td>SG</td>\n",
       "      <td>3.73</td>\n",
       "      <td>0 days 02:15:07</td>\n",
       "      <td>0</td>\n",
       "    </tr>\n",
       "    <tr>\n",
       "      <th>372363</th>\n",
       "      <td>Tabletop Games</td>\n",
       "      <td>Games</td>\n",
       "      <td>EUR</td>\n",
       "      <td>2017-08-06</td>\n",
       "      <td>69.0</td>\n",
       "      <td>2017-08-05 18:05:40</td>\n",
       "      <td>failed</td>\n",
       "      <td>FR</td>\n",
       "      <td>81.18</td>\n",
       "      <td>0 days 05:54:20</td>\n",
       "      <td>0</td>\n",
       "    </tr>\n",
       "    <tr>\n",
       "      <th>375553</th>\n",
       "      <td>Publishing</td>\n",
       "      <td>Publishing</td>\n",
       "      <td>USD</td>\n",
       "      <td>2016-02-28</td>\n",
       "      <td>250.0</td>\n",
       "      <td>2016-02-27 04:40:59</td>\n",
       "      <td>successful</td>\n",
       "      <td>US</td>\n",
       "      <td>250.00</td>\n",
       "      <td>0 days 19:19:01</td>\n",
       "      <td>0</td>\n",
       "    </tr>\n",
       "    <tr>\n",
       "      <th>377311</th>\n",
       "      <td>Art</td>\n",
       "      <td>Art</td>\n",
       "      <td>USD</td>\n",
       "      <td>2017-12-15</td>\n",
       "      <td>1000.0</td>\n",
       "      <td>2017-12-14 09:01:39</td>\n",
       "      <td>successful</td>\n",
       "      <td>US</td>\n",
       "      <td>1000.00</td>\n",
       "      <td>0 days 14:58:21</td>\n",
       "      <td>0</td>\n",
       "    </tr>\n",
       "  </tbody>\n",
       "</table>\n",
       "<p>102 rows × 11 columns</p>\n",
       "</div>"
      ],
      "text/plain": [
       "               category main_category currency   deadline        goal  \\\n",
       "899         Video Games         Games      GBP 2015-06-11      5000.0   \n",
       "937     Classical Music         Music      USD 2016-02-19       500.0   \n",
       "10449          Software    Technology      USD 2017-03-05  10000000.0   \n",
       "12494      Film & Video  Film & Video      GBP 2016-06-15       130.0   \n",
       "20368               Art           Art      USD 2016-04-02      8888.0   \n",
       "...                 ...           ...      ...        ...         ...   \n",
       "368567           Poetry    Publishing      GBP 2014-03-02         5.0   \n",
       "370904      Digital Art           Art      SGD 2016-08-02         5.0   \n",
       "372363   Tabletop Games         Games      EUR 2017-08-06        69.0   \n",
       "375553       Publishing    Publishing      USD 2016-02-28       250.0   \n",
       "377311              Art           Art      USD 2017-12-15      1000.0   \n",
       "\n",
       "                  launched       state country  usd_goal_real     time_period  \\\n",
       "899    2015-06-10 19:03:39      failed      GB        7743.29 0 days 04:56:21   \n",
       "937    2016-02-18 04:29:22      failed      US         500.00 0 days 19:30:38   \n",
       "10449  2017-03-04 01:25:03      failed      US    10000000.00 0 days 22:34:57   \n",
       "12494  2016-06-14 02:24:00  successful      GB         185.73 0 days 21:36:00   \n",
       "20368  2016-04-01 08:38:27      failed      US        8888.00 0 days 15:21:33   \n",
       "...                    ...         ...     ...            ...             ...   \n",
       "368567 2014-03-01 13:20:34  successful      GB           8.39 0 days 10:39:26   \n",
       "370904 2016-08-01 21:44:53  successful      SG           3.73 0 days 02:15:07   \n",
       "372363 2017-08-05 18:05:40      failed      FR          81.18 0 days 05:54:20   \n",
       "375553 2016-02-27 04:40:59  successful      US         250.00 0 days 19:19:01   \n",
       "377311 2017-12-14 09:01:39  successful      US        1000.00 0 days 14:58:21   \n",
       "\n",
       "        time_period_days  \n",
       "899                    0  \n",
       "937                    0  \n",
       "10449                  0  \n",
       "12494                  0  \n",
       "20368                  0  \n",
       "...                  ...  \n",
       "368567                 0  \n",
       "370904                 0  \n",
       "372363                 0  \n",
       "375553                 0  \n",
       "377311                 0  \n",
       "\n",
       "[102 rows x 11 columns]"
      ]
     },
     "execution_count": 77,
     "metadata": {},
     "output_type": "execute_result"
    }
   ],
   "source": [
    "data[data['time_period_days']<=0]"
   ]
  },
  {
   "cell_type": "markdown",
   "metadata": {},
   "source": [
    "募集期間が1日以下のデータは102件あることがわかる．<br>\n",
    "この中でtime_periodが負の値になっているものを見つけることを考える．<br>\n",
    "ここでtime_periodはdeadline - launchedを計算しているので，time_periodの絶対値とtime_periodが一致しないデータは異常であると考えられるので，全データに対してtime_periodとtime_periodの絶対値の比較を行う．<br>"
   ]
  },
  {
   "cell_type": "code",
   "execution_count": 80,
   "metadata": {},
   "outputs": [
    {
     "data": {
      "text/html": [
       "<div>\n",
       "<style scoped>\n",
       "    .dataframe tbody tr th:only-of-type {\n",
       "        vertical-align: middle;\n",
       "    }\n",
       "\n",
       "    .dataframe tbody tr th {\n",
       "        vertical-align: top;\n",
       "    }\n",
       "\n",
       "    .dataframe thead th {\n",
       "        text-align: right;\n",
       "    }\n",
       "</style>\n",
       "<table border=\"1\" class=\"dataframe\">\n",
       "  <thead>\n",
       "    <tr style=\"text-align: right;\">\n",
       "      <th></th>\n",
       "      <th>category</th>\n",
       "      <th>main_category</th>\n",
       "      <th>currency</th>\n",
       "      <th>deadline</th>\n",
       "      <th>goal</th>\n",
       "      <th>launched</th>\n",
       "      <th>state</th>\n",
       "      <th>country</th>\n",
       "      <th>usd_goal_real</th>\n",
       "      <th>time_period</th>\n",
       "      <th>time_period_days</th>\n",
       "    </tr>\n",
       "  </thead>\n",
       "  <tbody>\n",
       "  </tbody>\n",
       "</table>\n",
       "</div>"
      ],
      "text/plain": [
       "Empty DataFrame\n",
       "Columns: [category, main_category, currency, deadline, goal, launched, state, country, usd_goal_real, time_period, time_period_days]\n",
       "Index: []"
      ]
     },
     "execution_count": 80,
     "metadata": {},
     "output_type": "execute_result"
    }
   ],
   "source": [
    "data[data['time_period']!=abs(data['deadline'] - data['launched'])]"
   ]
  },
  {
   "cell_type": "markdown",
   "metadata": {},
   "source": [
    "上記のようにtime_periodとtime_periodの絶対値が一致しないデータは存在しないため，deadlineについては異常値は存在しないと考えられる．"
   ]
  },
  {
   "cell_type": "markdown",
   "metadata": {},
   "source": [
    "### goal"
   ]
  },
  {
   "cell_type": "code",
   "execution_count": null,
   "metadata": {},
   "outputs": [],
   "source": []
  },
  {
   "cell_type": "markdown",
   "metadata": {},
   "source": [
    "### usd_goal_real"
   ]
  },
  {
   "cell_type": "code",
   "execution_count": null,
   "metadata": {},
   "outputs": [],
   "source": []
  },
  {
   "cell_type": "markdown",
   "metadata": {},
   "source": [
    "# 目的変数と説明変数の関係性"
   ]
  },
  {
   "cell_type": "markdown",
   "metadata": {},
   "source": [
    "## 目的変数の変換"
   ]
  },
  {
   "cell_type": "code",
   "execution_count": null,
   "metadata": {},
   "outputs": [],
   "source": []
  },
  {
   "cell_type": "markdown",
   "metadata": {},
   "source": [
    "## 説明変数の変換"
   ]
  },
  {
   "cell_type": "markdown",
   "metadata": {},
   "source": [
    "main_categoryは15種類存在し，\n",
    "- Music, Theater, Danceはfailedよりもsuccessfulの方が多い\n",
    "- Food, Technologyは他のカテゴリよりも成功率が低い\n",
    "- Design, Gamesは他のカテゴリよりもcanceledの割合が高い\n",
    "\n",
    "ということがわかる．"
   ]
  }
 ],
 "metadata": {
  "kernelspec": {
   "display_name": "Python 3",
   "language": "python",
   "name": "python3"
  },
  "language_info": {
   "codemirror_mode": {
    "name": "ipython",
    "version": 3
   },
   "file_extension": ".py",
   "mimetype": "text/x-python",
   "name": "python",
   "nbconvert_exporter": "python",
   "pygments_lexer": "ipython3",
   "version": "3.7.4"
  },
  "toc": {
   "base_numbering": 1,
   "nav_menu": {},
   "number_sections": true,
   "sideBar": true,
   "skip_h1_title": false,
   "title_cell": "Table of Contents",
   "title_sidebar": "Contents",
   "toc_cell": false,
   "toc_position": {
    "height": "calc(100% - 180px)",
    "left": "10px",
    "top": "150px",
    "width": "242.066px"
   },
   "toc_section_display": true,
   "toc_window_display": true
  },
  "varInspector": {
   "cols": {
    "lenName": 16,
    "lenType": 16,
    "lenVar": 40
   },
   "kernels_config": {
    "python": {
     "delete_cmd_postfix": "",
     "delete_cmd_prefix": "del ",
     "library": "var_list.py",
     "varRefreshCmd": "print(var_dic_list())"
    },
    "r": {
     "delete_cmd_postfix": ") ",
     "delete_cmd_prefix": "rm(",
     "library": "var_list.r",
     "varRefreshCmd": "cat(var_dic_list()) "
    }
   },
   "types_to_exclude": [
    "module",
    "function",
    "builtin_function_or_method",
    "instance",
    "_Feature"
   ],
   "window_display": false
  }
 },
 "nbformat": 4,
 "nbformat_minor": 4
}
